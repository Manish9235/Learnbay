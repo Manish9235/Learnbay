{
 "cells": [
  {
   "cell_type": "markdown",
   "metadata": {},
   "source": [
    "##### Importing Libraries"
   ]
  },
  {
   "cell_type": "code",
   "execution_count": 1,
   "metadata": {},
   "outputs": [],
   "source": [
    "import numpy as np\n",
    "import pandas as pd\n",
    "import matplotlib.pyplot as plt\n",
    "import seaborn as sns"
   ]
  },
  {
   "cell_type": "code",
   "execution_count": 2,
   "metadata": {},
   "outputs": [],
   "source": [
    "from sklearn.preprocessing import StandardScaler"
   ]
  },
  {
   "cell_type": "code",
   "execution_count": 3,
   "metadata": {},
   "outputs": [],
   "source": [
    "from sklearn.linear_model import LogisticRegression"
   ]
  },
  {
   "cell_type": "code",
   "execution_count": 4,
   "metadata": {},
   "outputs": [],
   "source": [
    "from sklearn.metrics import accuracy_score, precision_score, recall_score"
   ]
  },
  {
   "cell_type": "code",
   "execution_count": 5,
   "metadata": {},
   "outputs": [],
   "source": [
    "from sklearn.metrics import classification_report"
   ]
  },
  {
   "cell_type": "code",
   "execution_count": 6,
   "metadata": {},
   "outputs": [],
   "source": [
    "import numpy as np\n",
    "import matplotlib.pyplot as plt\n",
    "import pandas as pd\n",
    "from sklearn.model_selection import train_test_split\n",
    "from sklearn.preprocessing import StandardScaler\n",
    "from sklearn.linear_model import LogisticRegression\n",
    "from matplotlib.colors import ListedColormap\n",
    "from sklearn import metrics\n",
    "import seaborn as sns\n",
    "%matplotlib inline\n",
    "import warnings;\n",
    "warnings.filterwarnings('ignore');"
   ]
  },
  {
   "cell_type": "markdown",
   "metadata": {},
   "source": [
    "##### Importing Dataset"
   ]
  },
  {
   "cell_type": "code",
   "execution_count": 7,
   "metadata": {},
   "outputs": [],
   "source": [
    "d1 = pd.read_csv(\"Social_Network_Ads.csv\")"
   ]
  },
  {
   "cell_type": "code",
   "execution_count": 7,
   "metadata": {},
   "outputs": [
    {
     "data": {
      "text/html": [
       "<div>\n",
       "<style scoped>\n",
       "    .dataframe tbody tr th:only-of-type {\n",
       "        vertical-align: middle;\n",
       "    }\n",
       "\n",
       "    .dataframe tbody tr th {\n",
       "        vertical-align: top;\n",
       "    }\n",
       "\n",
       "    .dataframe thead th {\n",
       "        text-align: right;\n",
       "    }\n",
       "</style>\n",
       "<table border=\"1\" class=\"dataframe\">\n",
       "  <thead>\n",
       "    <tr style=\"text-align: right;\">\n",
       "      <th></th>\n",
       "      <th>User ID</th>\n",
       "      <th>Gender</th>\n",
       "      <th>Age</th>\n",
       "      <th>EstimatedSalary</th>\n",
       "      <th>Purchased</th>\n",
       "    </tr>\n",
       "  </thead>\n",
       "  <tbody>\n",
       "    <tr>\n",
       "      <th>0</th>\n",
       "      <td>15624510</td>\n",
       "      <td>Male</td>\n",
       "      <td>19</td>\n",
       "      <td>19000</td>\n",
       "      <td>0</td>\n",
       "    </tr>\n",
       "    <tr>\n",
       "      <th>1</th>\n",
       "      <td>15810944</td>\n",
       "      <td>Male</td>\n",
       "      <td>35</td>\n",
       "      <td>20000</td>\n",
       "      <td>0</td>\n",
       "    </tr>\n",
       "    <tr>\n",
       "      <th>2</th>\n",
       "      <td>15668575</td>\n",
       "      <td>Female</td>\n",
       "      <td>26</td>\n",
       "      <td>43000</td>\n",
       "      <td>0</td>\n",
       "    </tr>\n",
       "    <tr>\n",
       "      <th>3</th>\n",
       "      <td>15603246</td>\n",
       "      <td>Female</td>\n",
       "      <td>27</td>\n",
       "      <td>57000</td>\n",
       "      <td>0</td>\n",
       "    </tr>\n",
       "    <tr>\n",
       "      <th>4</th>\n",
       "      <td>15804002</td>\n",
       "      <td>Male</td>\n",
       "      <td>19</td>\n",
       "      <td>76000</td>\n",
       "      <td>0</td>\n",
       "    </tr>\n",
       "    <tr>\n",
       "      <th>...</th>\n",
       "      <td>...</td>\n",
       "      <td>...</td>\n",
       "      <td>...</td>\n",
       "      <td>...</td>\n",
       "      <td>...</td>\n",
       "    </tr>\n",
       "    <tr>\n",
       "      <th>395</th>\n",
       "      <td>15691863</td>\n",
       "      <td>Female</td>\n",
       "      <td>46</td>\n",
       "      <td>41000</td>\n",
       "      <td>1</td>\n",
       "    </tr>\n",
       "    <tr>\n",
       "      <th>396</th>\n",
       "      <td>15706071</td>\n",
       "      <td>Male</td>\n",
       "      <td>51</td>\n",
       "      <td>23000</td>\n",
       "      <td>1</td>\n",
       "    </tr>\n",
       "    <tr>\n",
       "      <th>397</th>\n",
       "      <td>15654296</td>\n",
       "      <td>Female</td>\n",
       "      <td>50</td>\n",
       "      <td>20000</td>\n",
       "      <td>1</td>\n",
       "    </tr>\n",
       "    <tr>\n",
       "      <th>398</th>\n",
       "      <td>15755018</td>\n",
       "      <td>Male</td>\n",
       "      <td>36</td>\n",
       "      <td>33000</td>\n",
       "      <td>0</td>\n",
       "    </tr>\n",
       "    <tr>\n",
       "      <th>399</th>\n",
       "      <td>15594041</td>\n",
       "      <td>Female</td>\n",
       "      <td>49</td>\n",
       "      <td>36000</td>\n",
       "      <td>1</td>\n",
       "    </tr>\n",
       "  </tbody>\n",
       "</table>\n",
       "<p>400 rows × 5 columns</p>\n",
       "</div>"
      ],
      "text/plain": [
       "      User ID  Gender  Age  EstimatedSalary  Purchased\n",
       "0    15624510    Male   19            19000          0\n",
       "1    15810944    Male   35            20000          0\n",
       "2    15668575  Female   26            43000          0\n",
       "3    15603246  Female   27            57000          0\n",
       "4    15804002    Male   19            76000          0\n",
       "..        ...     ...  ...              ...        ...\n",
       "395  15691863  Female   46            41000          1\n",
       "396  15706071    Male   51            23000          1\n",
       "397  15654296  Female   50            20000          1\n",
       "398  15755018    Male   36            33000          0\n",
       "399  15594041  Female   49            36000          1\n",
       "\n",
       "[400 rows x 5 columns]"
      ]
     },
     "execution_count": 7,
     "metadata": {},
     "output_type": "execute_result"
    }
   ],
   "source": [
    "dataset=pd.read_csv('Social_Network_Ads.csv')\n",
    "dataset"
   ]
  },
  {
   "cell_type": "code",
   "execution_count": 21,
   "metadata": {},
   "outputs": [
    {
     "data": {
      "text/plain": [
       "pandas.core.frame.DataFrame"
      ]
     },
     "execution_count": 21,
     "metadata": {},
     "output_type": "execute_result"
    }
   ],
   "source": [
    "type(dataset)"
   ]
  },
  {
   "cell_type": "code",
   "execution_count": 9,
   "metadata": {},
   "outputs": [
    {
     "data": {
      "text/plain": [
       "(400, 5)"
      ]
     },
     "execution_count": 9,
     "metadata": {},
     "output_type": "execute_result"
    }
   ],
   "source": [
    "dataset.shape"
   ]
  },
  {
   "cell_type": "code",
   "execution_count": 11,
   "metadata": {},
   "outputs": [
    {
     "data": {
      "text/plain": [
       "(400, 5)"
      ]
     },
     "execution_count": 11,
     "metadata": {},
     "output_type": "execute_result"
    }
   ],
   "source": [
    "dataset.shape"
   ]
  },
  {
   "cell_type": "code",
   "execution_count": 9,
   "metadata": {},
   "outputs": [
    {
     "data": {
      "text/html": [
       "<div>\n",
       "<style scoped>\n",
       "    .dataframe tbody tr th:only-of-type {\n",
       "        vertical-align: middle;\n",
       "    }\n",
       "\n",
       "    .dataframe tbody tr th {\n",
       "        vertical-align: top;\n",
       "    }\n",
       "\n",
       "    .dataframe thead th {\n",
       "        text-align: right;\n",
       "    }\n",
       "</style>\n",
       "<table border=\"1\" class=\"dataframe\">\n",
       "  <thead>\n",
       "    <tr style=\"text-align: right;\">\n",
       "      <th></th>\n",
       "      <th>User ID</th>\n",
       "      <th>Gender</th>\n",
       "      <th>Age</th>\n",
       "      <th>EstimatedSalary</th>\n",
       "      <th>Purchased</th>\n",
       "    </tr>\n",
       "  </thead>\n",
       "  <tbody>\n",
       "    <tr>\n",
       "      <th>0</th>\n",
       "      <td>15624510</td>\n",
       "      <td>Male</td>\n",
       "      <td>19</td>\n",
       "      <td>19000</td>\n",
       "      <td>0</td>\n",
       "    </tr>\n",
       "    <tr>\n",
       "      <th>1</th>\n",
       "      <td>15810944</td>\n",
       "      <td>Male</td>\n",
       "      <td>35</td>\n",
       "      <td>20000</td>\n",
       "      <td>0</td>\n",
       "    </tr>\n",
       "    <tr>\n",
       "      <th>2</th>\n",
       "      <td>15668575</td>\n",
       "      <td>Female</td>\n",
       "      <td>26</td>\n",
       "      <td>43000</td>\n",
       "      <td>0</td>\n",
       "    </tr>\n",
       "    <tr>\n",
       "      <th>3</th>\n",
       "      <td>15603246</td>\n",
       "      <td>Female</td>\n",
       "      <td>27</td>\n",
       "      <td>57000</td>\n",
       "      <td>0</td>\n",
       "    </tr>\n",
       "    <tr>\n",
       "      <th>4</th>\n",
       "      <td>15804002</td>\n",
       "      <td>Male</td>\n",
       "      <td>19</td>\n",
       "      <td>76000</td>\n",
       "      <td>0</td>\n",
       "    </tr>\n",
       "  </tbody>\n",
       "</table>\n",
       "</div>"
      ],
      "text/plain": [
       "    User ID  Gender  Age  EstimatedSalary  Purchased\n",
       "0  15624510    Male   19            19000          0\n",
       "1  15810944    Male   35            20000          0\n",
       "2  15668575  Female   26            43000          0\n",
       "3  15603246  Female   27            57000          0\n",
       "4  15804002    Male   19            76000          0"
      ]
     },
     "execution_count": 9,
     "metadata": {},
     "output_type": "execute_result"
    }
   ],
   "source": [
    "dataset.head()"
   ]
  },
  {
   "cell_type": "code",
   "execution_count": 10,
   "metadata": {},
   "outputs": [
    {
     "data": {
      "text/html": [
       "<div>\n",
       "<style scoped>\n",
       "    .dataframe tbody tr th:only-of-type {\n",
       "        vertical-align: middle;\n",
       "    }\n",
       "\n",
       "    .dataframe tbody tr th {\n",
       "        vertical-align: top;\n",
       "    }\n",
       "\n",
       "    .dataframe thead th {\n",
       "        text-align: right;\n",
       "    }\n",
       "</style>\n",
       "<table border=\"1\" class=\"dataframe\">\n",
       "  <thead>\n",
       "    <tr style=\"text-align: right;\">\n",
       "      <th></th>\n",
       "      <th>count</th>\n",
       "      <th>mean</th>\n",
       "      <th>std</th>\n",
       "      <th>min</th>\n",
       "      <th>25%</th>\n",
       "      <th>50%</th>\n",
       "      <th>75%</th>\n",
       "      <th>max</th>\n",
       "    </tr>\n",
       "  </thead>\n",
       "  <tbody>\n",
       "    <tr>\n",
       "      <th>User ID</th>\n",
       "      <td>400.0</td>\n",
       "      <td>1.569154e+07</td>\n",
       "      <td>71658.321581</td>\n",
       "      <td>15566689.0</td>\n",
       "      <td>15626763.75</td>\n",
       "      <td>15694341.5</td>\n",
       "      <td>15750363.0</td>\n",
       "      <td>15815236.0</td>\n",
       "    </tr>\n",
       "    <tr>\n",
       "      <th>Age</th>\n",
       "      <td>400.0</td>\n",
       "      <td>3.765500e+01</td>\n",
       "      <td>10.482877</td>\n",
       "      <td>18.0</td>\n",
       "      <td>29.75</td>\n",
       "      <td>37.0</td>\n",
       "      <td>46.0</td>\n",
       "      <td>60.0</td>\n",
       "    </tr>\n",
       "    <tr>\n",
       "      <th>EstimatedSalary</th>\n",
       "      <td>400.0</td>\n",
       "      <td>6.974250e+04</td>\n",
       "      <td>34096.960282</td>\n",
       "      <td>15000.0</td>\n",
       "      <td>43000.00</td>\n",
       "      <td>70000.0</td>\n",
       "      <td>88000.0</td>\n",
       "      <td>150000.0</td>\n",
       "    </tr>\n",
       "    <tr>\n",
       "      <th>Purchased</th>\n",
       "      <td>400.0</td>\n",
       "      <td>3.575000e-01</td>\n",
       "      <td>0.479864</td>\n",
       "      <td>0.0</td>\n",
       "      <td>0.00</td>\n",
       "      <td>0.0</td>\n",
       "      <td>1.0</td>\n",
       "      <td>1.0</td>\n",
       "    </tr>\n",
       "  </tbody>\n",
       "</table>\n",
       "</div>"
      ],
      "text/plain": [
       "                 count          mean           std         min          25%  \\\n",
       "User ID          400.0  1.569154e+07  71658.321581  15566689.0  15626763.75   \n",
       "Age              400.0  3.765500e+01     10.482877        18.0        29.75   \n",
       "EstimatedSalary  400.0  6.974250e+04  34096.960282     15000.0     43000.00   \n",
       "Purchased        400.0  3.575000e-01      0.479864         0.0         0.00   \n",
       "\n",
       "                        50%         75%         max  \n",
       "User ID          15694341.5  15750363.0  15815236.0  \n",
       "Age                    37.0        46.0        60.0  \n",
       "EstimatedSalary     70000.0     88000.0    150000.0  \n",
       "Purchased               0.0         1.0         1.0  "
      ]
     },
     "execution_count": 10,
     "metadata": {},
     "output_type": "execute_result"
    }
   ],
   "source": [
    "dataset.describe().T"
   ]
  },
  {
   "cell_type": "code",
   "execution_count": 12,
   "metadata": {
    "scrolled": true
   },
   "outputs": [
    {
     "data": {
      "text/html": [
       "<div>\n",
       "<style scoped>\n",
       "    .dataframe tbody tr th:only-of-type {\n",
       "        vertical-align: middle;\n",
       "    }\n",
       "\n",
       "    .dataframe tbody tr th {\n",
       "        vertical-align: top;\n",
       "    }\n",
       "\n",
       "    .dataframe thead th {\n",
       "        text-align: right;\n",
       "    }\n",
       "</style>\n",
       "<table border=\"1\" class=\"dataframe\">\n",
       "  <thead>\n",
       "    <tr style=\"text-align: right;\">\n",
       "      <th></th>\n",
       "      <th>count</th>\n",
       "      <th>unique</th>\n",
       "      <th>top</th>\n",
       "      <th>freq</th>\n",
       "      <th>mean</th>\n",
       "      <th>std</th>\n",
       "      <th>min</th>\n",
       "      <th>25%</th>\n",
       "      <th>50%</th>\n",
       "      <th>75%</th>\n",
       "      <th>max</th>\n",
       "    </tr>\n",
       "  </thead>\n",
       "  <tbody>\n",
       "    <tr>\n",
       "      <th>User ID</th>\n",
       "      <td>400.0</td>\n",
       "      <td>NaN</td>\n",
       "      <td>NaN</td>\n",
       "      <td>NaN</td>\n",
       "      <td>15691539.7575</td>\n",
       "      <td>71658.321581</td>\n",
       "      <td>15566689.0</td>\n",
       "      <td>15626763.75</td>\n",
       "      <td>15694341.5</td>\n",
       "      <td>15750363.0</td>\n",
       "      <td>15815236.0</td>\n",
       "    </tr>\n",
       "    <tr>\n",
       "      <th>Gender</th>\n",
       "      <td>400</td>\n",
       "      <td>2</td>\n",
       "      <td>Female</td>\n",
       "      <td>204</td>\n",
       "      <td>NaN</td>\n",
       "      <td>NaN</td>\n",
       "      <td>NaN</td>\n",
       "      <td>NaN</td>\n",
       "      <td>NaN</td>\n",
       "      <td>NaN</td>\n",
       "      <td>NaN</td>\n",
       "    </tr>\n",
       "    <tr>\n",
       "      <th>Age</th>\n",
       "      <td>400.0</td>\n",
       "      <td>NaN</td>\n",
       "      <td>NaN</td>\n",
       "      <td>NaN</td>\n",
       "      <td>37.655</td>\n",
       "      <td>10.482877</td>\n",
       "      <td>18.0</td>\n",
       "      <td>29.75</td>\n",
       "      <td>37.0</td>\n",
       "      <td>46.0</td>\n",
       "      <td>60.0</td>\n",
       "    </tr>\n",
       "    <tr>\n",
       "      <th>EstimatedSalary</th>\n",
       "      <td>400.0</td>\n",
       "      <td>NaN</td>\n",
       "      <td>NaN</td>\n",
       "      <td>NaN</td>\n",
       "      <td>69742.5</td>\n",
       "      <td>34096.960282</td>\n",
       "      <td>15000.0</td>\n",
       "      <td>43000.0</td>\n",
       "      <td>70000.0</td>\n",
       "      <td>88000.0</td>\n",
       "      <td>150000.0</td>\n",
       "    </tr>\n",
       "    <tr>\n",
       "      <th>Purchased</th>\n",
       "      <td>400.0</td>\n",
       "      <td>NaN</td>\n",
       "      <td>NaN</td>\n",
       "      <td>NaN</td>\n",
       "      <td>0.3575</td>\n",
       "      <td>0.479864</td>\n",
       "      <td>0.0</td>\n",
       "      <td>0.0</td>\n",
       "      <td>0.0</td>\n",
       "      <td>1.0</td>\n",
       "      <td>1.0</td>\n",
       "    </tr>\n",
       "  </tbody>\n",
       "</table>\n",
       "</div>"
      ],
      "text/plain": [
       "                 count unique     top freq           mean           std  \\\n",
       "User ID          400.0    NaN     NaN  NaN  15691539.7575  71658.321581   \n",
       "Gender             400      2  Female  204            NaN           NaN   \n",
       "Age              400.0    NaN     NaN  NaN         37.655     10.482877   \n",
       "EstimatedSalary  400.0    NaN     NaN  NaN        69742.5  34096.960282   \n",
       "Purchased        400.0    NaN     NaN  NaN         0.3575      0.479864   \n",
       "\n",
       "                        min          25%         50%         75%         max  \n",
       "User ID          15566689.0  15626763.75  15694341.5  15750363.0  15815236.0  \n",
       "Gender                  NaN          NaN         NaN         NaN         NaN  \n",
       "Age                    18.0        29.75        37.0        46.0        60.0  \n",
       "EstimatedSalary     15000.0      43000.0     70000.0     88000.0    150000.0  \n",
       "Purchased               0.0          0.0         0.0         1.0         1.0  "
      ]
     },
     "execution_count": 12,
     "metadata": {},
     "output_type": "execute_result"
    }
   ],
   "source": [
    "dataset.describe(include = \"all\").T"
   ]
  },
  {
   "cell_type": "code",
   "execution_count": null,
   "metadata": {},
   "outputs": [],
   "source": []
  },
  {
   "cell_type": "code",
   "execution_count": 13,
   "metadata": {},
   "outputs": [
    {
     "name": "stdout",
     "output_type": "stream",
     "text": [
      "<class 'pandas.core.frame.DataFrame'>\n",
      "RangeIndex: 400 entries, 0 to 399\n",
      "Data columns (total 5 columns):\n",
      " #   Column           Non-Null Count  Dtype \n",
      "---  ------           --------------  ----- \n",
      " 0   User ID          400 non-null    int64 \n",
      " 1   Gender           400 non-null    object\n",
      " 2   Age              400 non-null    int64 \n",
      " 3   EstimatedSalary  400 non-null    int64 \n",
      " 4   Purchased        400 non-null    int64 \n",
      "dtypes: int64(4), object(1)\n",
      "memory usage: 15.8+ KB\n"
     ]
    }
   ],
   "source": [
    "dataset.info()"
   ]
  },
  {
   "cell_type": "code",
   "execution_count": null,
   "metadata": {},
   "outputs": [],
   "source": []
  },
  {
   "cell_type": "code",
   "execution_count": 14,
   "metadata": {},
   "outputs": [
    {
     "data": {
      "text/html": [
       "<div>\n",
       "<style scoped>\n",
       "    .dataframe tbody tr th:only-of-type {\n",
       "        vertical-align: middle;\n",
       "    }\n",
       "\n",
       "    .dataframe tbody tr th {\n",
       "        vertical-align: top;\n",
       "    }\n",
       "\n",
       "    .dataframe thead th {\n",
       "        text-align: right;\n",
       "    }\n",
       "</style>\n",
       "<table border=\"1\" class=\"dataframe\">\n",
       "  <thead>\n",
       "    <tr style=\"text-align: right;\">\n",
       "      <th></th>\n",
       "      <th>User ID</th>\n",
       "      <th>Age</th>\n",
       "      <th>EstimatedSalary</th>\n",
       "      <th>Purchased</th>\n",
       "    </tr>\n",
       "  </thead>\n",
       "  <tbody>\n",
       "    <tr>\n",
       "      <th>User ID</th>\n",
       "      <td>1.000000</td>\n",
       "      <td>-0.000721</td>\n",
       "      <td>0.071097</td>\n",
       "      <td>0.007120</td>\n",
       "    </tr>\n",
       "    <tr>\n",
       "      <th>Age</th>\n",
       "      <td>-0.000721</td>\n",
       "      <td>1.000000</td>\n",
       "      <td>0.155238</td>\n",
       "      <td>0.622454</td>\n",
       "    </tr>\n",
       "    <tr>\n",
       "      <th>EstimatedSalary</th>\n",
       "      <td>0.071097</td>\n",
       "      <td>0.155238</td>\n",
       "      <td>1.000000</td>\n",
       "      <td>0.362083</td>\n",
       "    </tr>\n",
       "    <tr>\n",
       "      <th>Purchased</th>\n",
       "      <td>0.007120</td>\n",
       "      <td>0.622454</td>\n",
       "      <td>0.362083</td>\n",
       "      <td>1.000000</td>\n",
       "    </tr>\n",
       "  </tbody>\n",
       "</table>\n",
       "</div>"
      ],
      "text/plain": [
       "                  User ID       Age  EstimatedSalary  Purchased\n",
       "User ID          1.000000 -0.000721         0.071097   0.007120\n",
       "Age             -0.000721  1.000000         0.155238   0.622454\n",
       "EstimatedSalary  0.071097  0.155238         1.000000   0.362083\n",
       "Purchased        0.007120  0.622454         0.362083   1.000000"
      ]
     },
     "execution_count": 14,
     "metadata": {},
     "output_type": "execute_result"
    }
   ],
   "source": [
    "dataset.corr()"
   ]
  },
  {
   "cell_type": "code",
   "execution_count": 15,
   "metadata": {},
   "outputs": [
    {
     "data": {
      "text/plain": [
       "<AxesSubplot:>"
      ]
     },
     "execution_count": 15,
     "metadata": {},
     "output_type": "execute_result"
    },
    {
     "data": {
      "image/png": "[encoded data removed]",
      "text/plain": [
       "<Figure size 432x288 with 2 Axes>"
      ]
     },
     "metadata": {
      "needs_background": "light"
     },
     "output_type": "display_data"
    }
   ],
   "source": [
    "sns.heatmap(dataset.corr(), annot =True,  cmap = 'RdYlGn')"
   ]
  },
  {
   "cell_type": "code",
   "execution_count": 16,
   "metadata": {},
   "outputs": [
    {
     "data": {
      "text/plain": [
       "Female    204\n",
       "Male      196\n",
       "Name: Gender, dtype: int64"
      ]
     },
     "execution_count": 16,
     "metadata": {},
     "output_type": "execute_result"
    }
   ],
   "source": [
    "dataset.Gender.value_counts()"
   ]
  },
  {
   "cell_type": "code",
   "execution_count": 18,
   "metadata": {},
   "outputs": [
    {
     "data": {
      "text/plain": [
       "0    257\n",
       "1    143\n",
       "Name: Purchased, dtype: int64"
      ]
     },
     "execution_count": 18,
     "metadata": {},
     "output_type": "execute_result"
    }
   ],
   "source": [
    "dataset.Purchased.value_counts()"
   ]
  },
  {
   "cell_type": "code",
   "execution_count": null,
   "metadata": {},
   "outputs": [],
   "source": []
  },
  {
   "cell_type": "code",
   "execution_count": 19,
   "metadata": {},
   "outputs": [
    {
     "data": {
      "text/plain": [
       "0    0.6425\n",
       "1    0.3575\n",
       "Name: Purchased, dtype: float64"
      ]
     },
     "execution_count": 19,
     "metadata": {},
     "output_type": "execute_result"
    }
   ],
   "source": [
    "# check class balance\n",
    "dataset[\"Purchased\"].value_counts(normalize = True)"
   ]
  },
  {
   "cell_type": "code",
   "execution_count": 24,
   "metadata": {},
   "outputs": [
    {
     "data": {
      "text/plain": [
       "0    0.663265\n",
       "1    0.336735\n",
       "Name: Purchased, dtype: float64"
      ]
     },
     "execution_count": 24,
     "metadata": {},
     "output_type": "execute_result"
    }
   ],
   "source": [
    "dataset[dataset.Gender==\"Male\"][\"Purchased\"].value_counts(normalize=True)"
   ]
  },
  {
   "cell_type": "code",
   "execution_count": 8,
   "metadata": {},
   "outputs": [
    {
     "data": {
      "text/plain": [
       "0    0.622549\n",
       "1    0.377451\n",
       "Name: Purchased, dtype: float64"
      ]
     },
     "execution_count": 8,
     "metadata": {},
     "output_type": "execute_result"
    }
   ],
   "source": [
    "dataset[dataset.Gender==\"Female\"][\"Purchased\"].value_counts(normalize=True)"
   ]
  },
  {
   "cell_type": "code",
   "execution_count": 13,
   "metadata": {},
   "outputs": [
    {
     "data": {
      "text/plain": [
       "(0.6632653061224489, 0.6225490196078431)"
      ]
     },
     "execution_count": 13,
     "metadata": {},
     "output_type": "execute_result"
    }
   ],
   "source": [
    "130/196, 127/204"
   ]
  },
  {
   "cell_type": "code",
   "execution_count": null,
   "metadata": {},
   "outputs": [],
   "source": []
  },
  {
   "cell_type": "code",
   "execution_count": null,
   "metadata": {},
   "outputs": [],
   "source": []
  },
  {
   "cell_type": "markdown",
   "metadata": {},
   "source": [
    "##### Extracting  Variables"
   ]
  },
  {
   "cell_type": "code",
   "execution_count": 8,
   "metadata": {},
   "outputs": [],
   "source": [
    "X = dataset[[\"Age\", \"EstimatedSalary\"]]"
   ]
  },
  {
   "cell_type": "code",
   "execution_count": 9,
   "metadata": {},
   "outputs": [
    {
     "data": {
      "text/html": [
       "<div>\n",
       "<style scoped>\n",
       "    .dataframe tbody tr th:only-of-type {\n",
       "        vertical-align: middle;\n",
       "    }\n",
       "\n",
       "    .dataframe tbody tr th {\n",
       "        vertical-align: top;\n",
       "    }\n",
       "\n",
       "    .dataframe thead th {\n",
       "        text-align: right;\n",
       "    }\n",
       "</style>\n",
       "<table border=\"1\" class=\"dataframe\">\n",
       "  <thead>\n",
       "    <tr style=\"text-align: right;\">\n",
       "      <th></th>\n",
       "      <th>Age</th>\n",
       "      <th>EstimatedSalary</th>\n",
       "    </tr>\n",
       "  </thead>\n",
       "  <tbody>\n",
       "    <tr>\n",
       "      <th>0</th>\n",
       "      <td>19</td>\n",
       "      <td>19000</td>\n",
       "    </tr>\n",
       "    <tr>\n",
       "      <th>1</th>\n",
       "      <td>35</td>\n",
       "      <td>20000</td>\n",
       "    </tr>\n",
       "    <tr>\n",
       "      <th>2</th>\n",
       "      <td>26</td>\n",
       "      <td>43000</td>\n",
       "    </tr>\n",
       "    <tr>\n",
       "      <th>3</th>\n",
       "      <td>27</td>\n",
       "      <td>57000</td>\n",
       "    </tr>\n",
       "    <tr>\n",
       "      <th>4</th>\n",
       "      <td>19</td>\n",
       "      <td>76000</td>\n",
       "    </tr>\n",
       "    <tr>\n",
       "      <th>...</th>\n",
       "      <td>...</td>\n",
       "      <td>...</td>\n",
       "    </tr>\n",
       "    <tr>\n",
       "      <th>395</th>\n",
       "      <td>46</td>\n",
       "      <td>41000</td>\n",
       "    </tr>\n",
       "    <tr>\n",
       "      <th>396</th>\n",
       "      <td>51</td>\n",
       "      <td>23000</td>\n",
       "    </tr>\n",
       "    <tr>\n",
       "      <th>397</th>\n",
       "      <td>50</td>\n",
       "      <td>20000</td>\n",
       "    </tr>\n",
       "    <tr>\n",
       "      <th>398</th>\n",
       "      <td>36</td>\n",
       "      <td>33000</td>\n",
       "    </tr>\n",
       "    <tr>\n",
       "      <th>399</th>\n",
       "      <td>49</td>\n",
       "      <td>36000</td>\n",
       "    </tr>\n",
       "  </tbody>\n",
       "</table>\n",
       "<p>400 rows × 2 columns</p>\n",
       "</div>"
      ],
      "text/plain": [
       "     Age  EstimatedSalary\n",
       "0     19            19000\n",
       "1     35            20000\n",
       "2     26            43000\n",
       "3     27            57000\n",
       "4     19            76000\n",
       "..   ...              ...\n",
       "395   46            41000\n",
       "396   51            23000\n",
       "397   50            20000\n",
       "398   36            33000\n",
       "399   49            36000\n",
       "\n",
       "[400 rows x 2 columns]"
      ]
     },
     "execution_count": 9,
     "metadata": {},
     "output_type": "execute_result"
    }
   ],
   "source": [
    "#X = dataset.iloc[    : ,[2,3]].values\n",
    "X"
   ]
  },
  {
   "cell_type": "code",
   "execution_count": 10,
   "metadata": {},
   "outputs": [
    {
     "data": {
      "text/plain": [
       "0      0\n",
       "1      0\n",
       "2      0\n",
       "3      0\n",
       "4      0\n",
       "      ..\n",
       "395    1\n",
       "396    1\n",
       "397    1\n",
       "398    0\n",
       "399    1\n",
       "Name: Purchased, Length: 400, dtype: int64"
      ]
     },
     "execution_count": 10,
     "metadata": {},
     "output_type": "execute_result"
    }
   ],
   "source": [
    "Y = dataset.iloc[   :,4].values\n",
    "Y = dataset[\"Purchased\"]\n",
    "Y"
   ]
  },
  {
   "cell_type": "markdown",
   "metadata": {},
   "source": [
    "##### Train Test Split"
   ]
  },
  {
   "cell_type": "code",
   "execution_count": 11,
   "metadata": {},
   "outputs": [
    {
     "data": {
      "text/html": [
       "<div>\n",
       "<style scoped>\n",
       "    .dataframe tbody tr th:only-of-type {\n",
       "        vertical-align: middle;\n",
       "    }\n",
       "\n",
       "    .dataframe tbody tr th {\n",
       "        vertical-align: top;\n",
       "    }\n",
       "\n",
       "    .dataframe thead th {\n",
       "        text-align: right;\n",
       "    }\n",
       "</style>\n",
       "<table border=\"1\" class=\"dataframe\">\n",
       "  <thead>\n",
       "    <tr style=\"text-align: right;\">\n",
       "      <th></th>\n",
       "      <th>Age</th>\n",
       "      <th>EstimatedSalary</th>\n",
       "    </tr>\n",
       "  </thead>\n",
       "  <tbody>\n",
       "    <tr>\n",
       "      <th>3</th>\n",
       "      <td>27</td>\n",
       "      <td>57000</td>\n",
       "    </tr>\n",
       "    <tr>\n",
       "      <th>310</th>\n",
       "      <td>42</td>\n",
       "      <td>70000</td>\n",
       "    </tr>\n",
       "    <tr>\n",
       "      <th>171</th>\n",
       "      <td>34</td>\n",
       "      <td>115000</td>\n",
       "    </tr>\n",
       "    <tr>\n",
       "      <th>219</th>\n",
       "      <td>59</td>\n",
       "      <td>143000</td>\n",
       "    </tr>\n",
       "    <tr>\n",
       "      <th>57</th>\n",
       "      <td>28</td>\n",
       "      <td>79000</td>\n",
       "    </tr>\n",
       "    <tr>\n",
       "      <th>...</th>\n",
       "      <td>...</td>\n",
       "      <td>...</td>\n",
       "    </tr>\n",
       "    <tr>\n",
       "      <th>116</th>\n",
       "      <td>35</td>\n",
       "      <td>75000</td>\n",
       "    </tr>\n",
       "    <tr>\n",
       "      <th>389</th>\n",
       "      <td>48</td>\n",
       "      <td>35000</td>\n",
       "    </tr>\n",
       "    <tr>\n",
       "      <th>385</th>\n",
       "      <td>56</td>\n",
       "      <td>60000</td>\n",
       "    </tr>\n",
       "    <tr>\n",
       "      <th>252</th>\n",
       "      <td>48</td>\n",
       "      <td>134000</td>\n",
       "    </tr>\n",
       "    <tr>\n",
       "      <th>293</th>\n",
       "      <td>37</td>\n",
       "      <td>77000</td>\n",
       "    </tr>\n",
       "  </tbody>\n",
       "</table>\n",
       "<p>320 rows × 2 columns</p>\n",
       "</div>"
      ],
      "text/plain": [
       "     Age  EstimatedSalary\n",
       "3     27            57000\n",
       "310   42            70000\n",
       "171   34           115000\n",
       "219   59           143000\n",
       "57    28            79000\n",
       "..   ...              ...\n",
       "116   35            75000\n",
       "389   48            35000\n",
       "385   56            60000\n",
       "252   48           134000\n",
       "293   37            77000\n",
       "\n",
       "[320 rows x 2 columns]"
      ]
     },
     "execution_count": 11,
     "metadata": {},
     "output_type": "execute_result"
    }
   ],
   "source": [
    "from sklearn.model_selection import train_test_split\n",
    "X_train, X_test, y_train, y_test = train_test_split( X, Y, train_size=0.8, random_state=183 )\n",
    "X_train"
   ]
  },
  {
   "cell_type": "code",
   "execution_count": 12,
   "metadata": {},
   "outputs": [],
   "source": [
    "X_train,X_test,y_train,y_test=train_test_split(X,Y,test_size=1/3,random_state=32)"
   ]
  },
  {
   "cell_type": "markdown",
   "metadata": {},
   "source": [
    "##### Feature Scaling"
   ]
  },
  {
   "cell_type": "code",
   "execution_count": 13,
   "metadata": {},
   "outputs": [
    {
     "data": {
      "text/html": [
       "<div>\n",
       "<style scoped>\n",
       "    .dataframe tbody tr th:only-of-type {\n",
       "        vertical-align: middle;\n",
       "    }\n",
       "\n",
       "    .dataframe tbody tr th {\n",
       "        vertical-align: top;\n",
       "    }\n",
       "\n",
       "    .dataframe thead th {\n",
       "        text-align: right;\n",
       "    }\n",
       "</style>\n",
       "<table border=\"1\" class=\"dataframe\">\n",
       "  <thead>\n",
       "    <tr style=\"text-align: right;\">\n",
       "      <th></th>\n",
       "      <th>Age</th>\n",
       "      <th>EstimatedSalary</th>\n",
       "    </tr>\n",
       "  </thead>\n",
       "  <tbody>\n",
       "    <tr>\n",
       "      <th>164</th>\n",
       "      <td>33</td>\n",
       "      <td>69000</td>\n",
       "    </tr>\n",
       "    <tr>\n",
       "      <th>332</th>\n",
       "      <td>42</td>\n",
       "      <td>65000</td>\n",
       "    </tr>\n",
       "    <tr>\n",
       "      <th>29</th>\n",
       "      <td>31</td>\n",
       "      <td>18000</td>\n",
       "    </tr>\n",
       "    <tr>\n",
       "      <th>301</th>\n",
       "      <td>48</td>\n",
       "      <td>74000</td>\n",
       "    </tr>\n",
       "    <tr>\n",
       "      <th>72</th>\n",
       "      <td>20</td>\n",
       "      <td>23000</td>\n",
       "    </tr>\n",
       "    <tr>\n",
       "      <th>...</th>\n",
       "      <td>...</td>\n",
       "      <td>...</td>\n",
       "    </tr>\n",
       "    <tr>\n",
       "      <th>380</th>\n",
       "      <td>42</td>\n",
       "      <td>64000</td>\n",
       "    </tr>\n",
       "    <tr>\n",
       "      <th>310</th>\n",
       "      <td>42</td>\n",
       "      <td>70000</td>\n",
       "    </tr>\n",
       "    <tr>\n",
       "      <th>389</th>\n",
       "      <td>48</td>\n",
       "      <td>35000</td>\n",
       "    </tr>\n",
       "    <tr>\n",
       "      <th>43</th>\n",
       "      <td>30</td>\n",
       "      <td>15000</td>\n",
       "    </tr>\n",
       "    <tr>\n",
       "      <th>215</th>\n",
       "      <td>60</td>\n",
       "      <td>108000</td>\n",
       "    </tr>\n",
       "  </tbody>\n",
       "</table>\n",
       "<p>266 rows × 2 columns</p>\n",
       "</div>"
      ],
      "text/plain": [
       "     Age  EstimatedSalary\n",
       "164   33            69000\n",
       "332   42            65000\n",
       "29    31            18000\n",
       "301   48            74000\n",
       "72    20            23000\n",
       "..   ...              ...\n",
       "380   42            64000\n",
       "310   42            70000\n",
       "389   48            35000\n",
       "43    30            15000\n",
       "215   60           108000\n",
       "\n",
       "[266 rows x 2 columns]"
      ]
     },
     "execution_count": 13,
     "metadata": {},
     "output_type": "execute_result"
    }
   ],
   "source": [
    "X_train"
   ]
  },
  {
   "cell_type": "code",
   "execution_count": 69,
   "metadata": {},
   "outputs": [],
   "source": [
    "#s1.fit_transform(X_train)"
   ]
  },
  {
   "cell_type": "code",
   "execution_count": 55,
   "metadata": {},
   "outputs": [],
   "source": [
    "s1 = StandardScaler()\n",
    "s1.fit_transform(X_train)\n",
    "X_test = s1.transform(X_test)"
   ]
  },
  {
   "cell_type": "code",
   "execution_count": 57,
   "metadata": {},
   "outputs": [],
   "source": [
    "standard_Scaler=StandardScaler()\n",
    "X_train = standard_Scaler.fit_transform(X_train)\n",
    "X_test = standard_Scaler.transform(X_test)"
   ]
  },
  {
   "cell_type": "code",
   "execution_count": 60,
   "metadata": {},
   "outputs": [
    {
     "data": {
      "text/plain": [
       "array([[-0.42911487, -0.03317888],\n",
       "       [ 0.46419035, -0.15407724],\n",
       "       [-0.62762715, -1.57463308],\n",
       "       [ 1.05972717,  0.11794409],\n",
       "       [-1.71944464, -1.42351012],\n",
       "       [-0.03209033,  0.0574949 ],\n",
       "       [ 0.76195876, -0.75856909],\n",
       "       [ 0.86121489, -0.3354248 ],\n",
       "       [ 1.35749557, -1.42351012],\n",
       "       [-0.03209033,  0.69221134],\n",
       "       [ 0.76195876, -1.33283634],\n",
       "       [ 0.56344649,  1.90119503],\n",
       "       [-1.22316396, -1.1212642 ],\n",
       "       [ 0.06716581,  0.02727031],\n",
       "       [-0.92539555, -0.45632317],\n",
       "       [ 0.46419035,  0.60153756],\n",
       "       [ 1.1589833 , -0.15407724],\n",
       "       [ 1.65526398, -1.33283634],\n",
       "       [-0.03209033,  0.02727031],\n",
       "       [-1.12390783, -0.81901828],\n",
       "       [ 2.2508008 , -0.84924287],\n",
       "       [ 1.05972717,  0.60153756],\n",
       "       [ 0.96047103, -1.09103961],\n",
       "       [-0.13134647, -0.48654776],\n",
       "       [ 0.76195876, -1.45373471],\n",
       "       [-0.13134647, -0.54699694],\n",
       "       [ 1.05972717, -1.1212642 ],\n",
       "       [-1.12390783, -0.54699694],\n",
       "       [-0.03209033, -0.54699694],\n",
       "       [-0.03209033, -0.51677235],\n",
       "       [-0.52837101,  0.90378349],\n",
       "       [ 2.15154466,  2.20344095],\n",
       "       [ 0.26567808, -0.30520021],\n",
       "       [-0.03209033,  0.14816868],\n",
       "       [ 1.25823944, -1.03059042],\n",
       "       [ 0.16642194, -0.84924287],\n",
       "       [ 0.36493421, -0.21452643],\n",
       "       [ 2.05228853,  0.93400808],\n",
       "       [ 0.06716581, -0.27497561],\n",
       "       [ 0.46419035,  0.26906705],\n",
       "       [ 0.96047103, -1.5141839 ],\n",
       "       [-0.62762715,  1.44782615],\n",
       "       [-0.32985874,  1.26647859],\n",
       "       [ 0.26567808,  0.02727031],\n",
       "       [-0.03209033,  0.26906705],\n",
       "       [ 1.55600785,  0.35974082],\n",
       "       [-0.82613942,  0.29929164],\n",
       "       [-0.2306026 ,  0.14816868],\n",
       "       [ 0.16642194,  0.78288512],\n",
       "       [-0.62762715, -1.09103961],\n",
       "       [-1.91795691, -0.06340347],\n",
       "       [ 0.86121489,  0.54108838],\n",
       "       [ 2.2508008 , -0.84924287],\n",
       "       [-1.42167623, -0.21452643],\n",
       "       [-0.72688328, -0.24475102],\n",
       "       [-0.92539555,  0.4504146 ],\n",
       "       [ 0.96047103, -0.57722154],\n",
       "       [ 1.45675171,  2.05231799],\n",
       "       [ 0.26567808, -0.69811991],\n",
       "       [ 0.06716581, -0.57722154],\n",
       "       [-0.42911487, -1.18171338],\n",
       "       [-1.22316396,  0.60153756],\n",
       "       [ 1.05972717, -0.87946746],\n",
       "       [-0.32985874,  0.0574949 ],\n",
       "       [-0.13134647, -0.30520021],\n",
       "       [-1.12390783, -1.21193797],\n",
       "       [-1.02465169, -0.36564939],\n",
       "       [-0.72688328,  1.38737696],\n",
       "       [ 0.46419035,  1.02468185],\n",
       "       [ 0.16642194, -0.3354248 ],\n",
       "       [-0.13134647, -0.60744613],\n",
       "       [ 0.86121489,  0.78288512],\n",
       "       [ 0.86121489,  0.11794409],\n",
       "       [ 1.95303239,  0.11794409],\n",
       "       [ 1.95303239, -0.30520021],\n",
       "       [-0.82613942,  2.35456391],\n",
       "       [ 0.36493421,  0.0574949 ],\n",
       "       [ 1.1589833 , -1.03059042],\n",
       "       [ 0.46419035, -0.48654776],\n",
       "       [ 0.96047103, -0.60744613],\n",
       "       [ 0.46419035,  2.38478851],\n",
       "       [-0.62762715, -0.36564939],\n",
       "       [ 0.06716581, -0.3354248 ],\n",
       "       [ 0.16642194, -0.84924287],\n",
       "       [ 0.16642194,  1.08513104],\n",
       "       [ 0.96047103, -0.63767072],\n",
       "       [ 0.46419035, -0.51677235],\n",
       "       [ 0.16642194,  0.02727031],\n",
       "       [ 1.05972717,  1.47805074],\n",
       "       [-0.62762715,  0.02727031],\n",
       "       [-0.32985874,  1.35715237],\n",
       "       [-0.62762715, -1.66530686],\n",
       "       [-0.03209033, -1.1212642 ],\n",
       "       [-0.2306026 , -0.51677235],\n",
       "       [-1.6201885 , -1.63508227],\n",
       "       [-0.03209033, -0.45632317],\n",
       "       [ 0.76195876, -1.15148879],\n",
       "       [ 0.86121489, -1.42351012],\n",
       "       [ 0.96047103,  1.11535563],\n",
       "       [-1.12390783, -1.66530686],\n",
       "       [ 2.05228853,  0.75266052],\n",
       "       [-0.2306026 , -0.30520021],\n",
       "       [-0.03209033,  0.20861786],\n",
       "       [ 1.05972717,  2.14299177],\n",
       "       [-0.2306026 , -0.36564939],\n",
       "       [ 1.1589833 , -1.27238716],\n",
       "       [-0.2306026 ,  0.0574949 ],\n",
       "       [-0.82613942, -1.27238716],\n",
       "       [ 1.95303239, -1.33283634],\n",
       "       [ 0.96047103, -1.36306094],\n",
       "       [-0.72688328, -1.60485767],\n",
       "       [-0.72688328,  0.51086379],\n",
       "       [-0.2306026 ,  0.02727031],\n",
       "       [-1.12390783,  0.0574949 ],\n",
       "       [-1.3224201 , -0.45632317],\n",
       "       [ 0.16642194,  0.20861786],\n",
       "       [-0.62762715,  0.11794409],\n",
       "       [-0.42911487,  1.29670318],\n",
       "       [-0.13134647,  0.87355889],\n",
       "       [-0.03209033,  0.23884245],\n",
       "       [-1.3224201 , -0.45632317],\n",
       "       [-1.02465169, -0.48654776],\n",
       "       [ 0.56344649,  1.78029666],\n",
       "       [-1.12390783, -1.66530686],\n",
       "       [-1.91795691,  0.48063919],\n",
       "       [-0.13134647,  1.68962288],\n",
       "       [ 1.65526398, -0.00295428],\n",
       "       [-0.92539555, -1.00036583],\n",
       "       [ 0.06716581, -0.45632317],\n",
       "       [ 1.45675171,  1.32692778],\n",
       "       [ 0.16642194,  0.26906705],\n",
       "       [-0.92539555,  0.26906705],\n",
       "       [-1.81870078, -1.48395931],\n",
       "       [ 2.05228853, -1.42351012],\n",
       "       [-0.2306026 , -0.45632317],\n",
       "       [ 0.26567808,  1.11535563],\n",
       "       [-1.6201885 , -0.06340347],\n",
       "       [-0.72688328,  0.26906705],\n",
       "       [ 0.36493421,  0.0574949 ],\n",
       "       [-1.42167623, -1.27238716],\n",
       "       [ 0.16642194,  1.93141962],\n",
       "       [-0.2306026 , -0.60744613],\n",
       "       [ 2.15154466,  1.81052125],\n",
       "       [-1.42167623,  0.35974082],\n",
       "       [ 1.75452012, -0.93991664],\n",
       "       [ 0.46419035,  0.29929164],\n",
       "       [ 0.56344649,  1.26647859],\n",
       "       [ 0.26567808,  0.23884245],\n",
       "       [ 1.75452012,  1.65939829],\n",
       "       [-0.42911487, -0.81901828],\n",
       "       [-0.42911487, -0.57722154],\n",
       "       [ 0.36493421, -0.54699694],\n",
       "       [-0.03209033, -0.24475102],\n",
       "       [ 0.36493421, -0.30520021],\n",
       "       [ 0.36493421, -0.54699694],\n",
       "       [-0.2306026 , -1.42351012],\n",
       "       [-0.52837101,  1.41760155],\n",
       "       [-0.42911487, -1.27238716],\n",
       "       [-1.81870078, -1.33283634],\n",
       "       [ 0.26567808, -0.39587398],\n",
       "       [-0.72688328,  1.96164422],\n",
       "       [-0.72688328,  0.57131297],\n",
       "       [-1.02465169,  0.42019001],\n",
       "       [-0.92539555,  1.59894911],\n",
       "       [-0.03209033,  2.23366555],\n",
       "       [-0.62762715, -0.06340347],\n",
       "       [-0.2306026 ,  0.54108838],\n",
       "       [-0.13134647, -1.1212642 ],\n",
       "       [-0.2306026 , -0.69811991],\n",
       "       [-0.62762715,  0.57131297],\n",
       "       [-1.3224201 ,  0.42019001],\n",
       "       [ 0.36493421,  0.29929164],\n",
       "       [-0.13134647,  1.44782615],\n",
       "       [ 1.05972717, -1.21193797],\n",
       "       [-1.71944464,  0.35974082],\n",
       "       [-0.92539555,  0.57131297],\n",
       "       [ 0.16642194,  0.14816868],\n",
       "       [ 1.85377625,  1.90119503],\n",
       "       [ 0.26567808,  0.14816868],\n",
       "       [-1.81870078, -1.54440849],\n",
       "       [ 0.16642194, -0.27497561],\n",
       "       [ 0.86121489, -0.87946746],\n",
       "       [ 0.36493421, -0.3354248 ],\n",
       "       [ 0.46419035,  1.14558022],\n",
       "       [-0.2306026 , -0.93991664],\n",
       "       [ 0.26567808,  0.0574949 ],\n",
       "       [-1.12390783, -1.06081501],\n",
       "       [ 0.16642194,  1.56872452],\n",
       "       [-0.52837101,  2.4150131 ],\n",
       "       [-0.2306026 ,  0.14816868],\n",
       "       [-1.91795691, -0.54699694],\n",
       "       [ 0.36493421, -1.21193797],\n",
       "       [-1.12390783,  0.42019001],\n",
       "       [ 0.06716581, -0.60744613],\n",
       "       [-0.92539555,  0.51086379],\n",
       "       [ 0.46419035, -0.15407724],\n",
       "       [ 0.26567808, -0.39587398],\n",
       "       [ 0.36493421,  0.0574949 ],\n",
       "       [-0.52837101,  1.96164422],\n",
       "       [-1.91795691, -0.78879368],\n",
       "       [-0.92539555, -1.15148879],\n",
       "       [-0.2306026 , -0.3354248 ],\n",
       "       [-1.12390783,  0.29929164],\n",
       "       [-0.2306026 , -0.27497561],\n",
       "       [ 1.75452012,  1.81052125],\n",
       "       [ 2.05228853,  2.23366555],\n",
       "       [ 0.66270262, -0.93991664],\n",
       "       [-0.42911487, -0.87946746],\n",
       "       [-0.2306026 ,  0.26906705],\n",
       "       [ 1.55600785,  1.02468185],\n",
       "       [-1.52093237, -0.21452643],\n",
       "       [ 0.86121489,  0.26906705],\n",
       "       [-1.6201885 ,  0.0574949 ],\n",
       "       [-0.2306026 ,  0.08771949],\n",
       "       [-1.3224201 , -1.42351012],\n",
       "       [ 0.36493421,  0.02727031],\n",
       "       [ 0.86121489,  1.41760155],\n",
       "       [-0.62762715,  0.17839327],\n",
       "       [-0.32985874, -0.81901828],\n",
       "       [-1.3224201 , -1.15148879],\n",
       "       [-1.22316396,  0.51086379],\n",
       "       [-0.52837101, -1.57463308],\n",
       "       [ 0.46419035,  0.29929164],\n",
       "       [ 1.35749557,  1.93141962],\n",
       "       [ 1.45675171,  2.4150131 ],\n",
       "       [ 0.26567808,  2.17321636],\n",
       "       [ 2.2508008 ,  0.38996542],\n",
       "       [ 0.06716581,  1.29670318],\n",
       "       [ 0.16642194,  0.02727031],\n",
       "       [ 1.1589833 , -0.93991664],\n",
       "       [ 2.15154466,  0.38996542],\n",
       "       [ 1.55600785,  2.20344095],\n",
       "       [-1.52093237,  0.32951623],\n",
       "       [-0.2306026 ,  0.63176215],\n",
       "       [-0.82613942,  0.38996542],\n",
       "       [-0.82613942,  0.14816868],\n",
       "       [-0.13134647,  0.14816868],\n",
       "       [-1.42167623, -0.12385265],\n",
       "       [-0.03209033,  0.11794409],\n",
       "       [-1.52093237, -1.30261175],\n",
       "       [-1.52093237, -0.45632317],\n",
       "       [-0.2306026 ,  0.81310971],\n",
       "       [-0.62762715, -0.12385265],\n",
       "       [ 0.36493421,  0.51086379],\n",
       "       [-1.02465169,  0.54108838],\n",
       "       [-0.92539555, -0.3354248 ],\n",
       "       [-1.71944464, -0.63767072],\n",
       "       [-0.2306026 ,  1.14558022],\n",
       "       [ 2.15154466,  0.54108838],\n",
       "       [-0.2306026 , -1.30261175],\n",
       "       [-1.3224201 , -0.36564939],\n",
       "       [ 1.05972717, -1.1212642 ],\n",
       "       [-1.81870078, -1.36306094],\n",
       "       [-1.81870078,  0.17839327],\n",
       "       [-0.2306026 , -0.15407724],\n",
       "       [ 0.06716581,  1.26647859],\n",
       "       [ 0.76195876,  1.84074585],\n",
       "       [-0.2306026 , -0.60744613],\n",
       "       [-1.3224201 , -1.30261175],\n",
       "       [ 1.05972717,  1.93141962],\n",
       "       [-1.12390783,  0.32951623],\n",
       "       [ 0.46419035, -0.18430184],\n",
       "       [ 0.46419035, -0.00295428],\n",
       "       [ 1.05972717, -1.06081501],\n",
       "       [-0.72688328, -1.66530686],\n",
       "       [ 2.2508008 ,  1.14558022]])"
      ]
     },
     "execution_count": 60,
     "metadata": {},
     "output_type": "execute_result"
    }
   ],
   "source": [
    "X_train"
   ]
  },
  {
   "cell_type": "markdown",
   "metadata": {},
   "source": [
    "##### Instantiating and fitting the model to training Dataset"
   ]
  },
  {
   "cell_type": "code",
   "execution_count": 33,
   "metadata": {},
   "outputs": [],
   "source": [
    "from sklearn.linear_model import LogisticRegression\n",
    "from sklearn.metrics import accuracy_score, precision_score, recall_score\n",
    "from sklearn.metrics import classification_report, confusion_matrix"
   ]
  },
  {
   "cell_type": "code",
   "execution_count": 34,
   "metadata": {},
   "outputs": [
    {
     "data": {
      "text/plain": [
       "LogisticRegression()"
      ]
     },
     "execution_count": 34,
     "metadata": {},
     "output_type": "execute_result"
    }
   ],
   "source": [
    "log_reg_model1 = LogisticRegression()\n",
    "log_reg_model1.fit( X_train, y_train)\n",
    "\n"
   ]
  },
  {
   "cell_type": "code",
   "execution_count": 58,
   "metadata": {},
   "outputs": [],
   "source": [
    "#y_test"
   ]
  },
  {
   "cell_type": "code",
   "execution_count": 35,
   "metadata": {},
   "outputs": [],
   "source": [
    "y_test_preds = log_reg_model1.predict(X_test)\n",
    "y_train_preds = log_reg_model1.predict(X_train)"
   ]
  },
  {
   "cell_type": "code",
   "execution_count": 37,
   "metadata": {},
   "outputs": [
    {
     "name": "stdout",
     "output_type": "stream",
     "text": [
      "accuracy on train: 0.865625\n",
      "accuracy on test: 0.8\n"
     ]
    }
   ],
   "source": [
    "print(\"accuracy on train:\", accuracy_score(y_train, y_train_preds))\n",
    "print(\"accuracy on test:\", accuracy_score(y_test, y_test_preds))"
   ]
  },
  {
   "cell_type": "code",
   "execution_count": null,
   "metadata": {},
   "outputs": [],
   "source": []
  },
  {
   "cell_type": "markdown",
   "metadata": {},
   "source": [
    "### build model\n"
   ]
  },
  {
   "cell_type": "code",
   "execution_count": 38,
   "metadata": {},
   "outputs": [
    {
     "data": {
      "text/plain": [
       "LogisticRegression()"
      ]
     },
     "execution_count": 38,
     "metadata": {},
     "output_type": "execute_result"
    }
   ],
   "source": [
    "log_reg_model = LogisticRegression()\n",
    "log_reg_model.fit(X_train, y_train)"
   ]
  },
  {
   "cell_type": "markdown",
   "metadata": {},
   "source": [
    "### predict on train and test\n",
    "\n"
   ]
  },
  {
   "cell_type": "code",
   "execution_count": 39,
   "metadata": {},
   "outputs": [],
   "source": [
    "y_train_pred = log_reg_model.predict(X_train)\n",
    "y_test_pred = log_reg_model.predict(X_test)"
   ]
  },
  {
   "cell_type": "code",
   "execution_count": 40,
   "metadata": {},
   "outputs": [
    {
     "data": {
      "text/plain": [
       "array([0, 0, 0, 0, 0, 0, 1, 0, 0, 0, 0, 1, 0, 0, 1, 1, 0, 0, 1, 0, 1, 0,\n",
       "       1, 0, 0, 0, 0, 0, 1, 0, 0, 0, 0, 0, 0, 1, 1, 0, 0, 0, 0, 0, 0, 1,\n",
       "       1, 1, 1, 0, 0, 0, 0, 0, 0, 1, 1, 0, 0, 0, 0, 0, 1, 1, 0, 1, 1, 0,\n",
       "       0, 0, 0, 0, 0, 0, 0, 1, 0, 1, 0, 1, 1, 0])"
      ]
     },
     "execution_count": 40,
     "metadata": {},
     "output_type": "execute_result"
    }
   ],
   "source": [
    "y_test_pred"
   ]
  },
  {
   "cell_type": "code",
   "execution_count": 41,
   "metadata": {},
   "outputs": [
    {
     "data": {
      "text/plain": [
       "array([[0.74679361, 0.25320639],\n",
       "       [0.98785039, 0.01214961],\n",
       "       [0.9949061 , 0.0050939 ],\n",
       "       [0.9814747 , 0.0185253 ],\n",
       "       [0.88007838, 0.11992162],\n",
       "       [0.82905499, 0.17094501],\n",
       "       [0.44863478, 0.55136522],\n",
       "       [0.58430661, 0.41569339],\n",
       "       [0.9273638 , 0.0726362 ],\n",
       "       [0.95291682, 0.04708318],\n",
       "       [0.52732443, 0.47267557],\n",
       "       [0.2490492 , 0.7509508 ],\n",
       "       [0.66719609, 0.33280391],\n",
       "       [0.99664674, 0.00335326],\n",
       "       [0.0618998 , 0.9381002 ],\n",
       "       [0.10775205, 0.89224795],\n",
       "       [0.78889635, 0.21110365],\n",
       "       [0.8256329 , 0.1743671 ],\n",
       "       [0.21590821, 0.78409179],\n",
       "       [0.99865913, 0.00134087],\n",
       "       [0.05604008, 0.94395992],\n",
       "       [0.94300609, 0.05699391],\n",
       "       [0.49388917, 0.50611083],\n",
       "       [0.5224072 , 0.4775928 ],\n",
       "       [0.618072  , 0.381928  ],\n",
       "       [0.97264691, 0.02735309],\n",
       "       [0.53188999, 0.46811001],\n",
       "       [0.72207472, 0.27792528],\n",
       "       [0.33697869, 0.66302131],\n",
       "       [0.94509006, 0.05490994],\n",
       "       [0.99883514, 0.00116486],\n",
       "       [0.82785314, 0.17214686],\n",
       "       [0.97204069, 0.02795931],\n",
       "       [0.98894812, 0.01105188],\n",
       "       [0.66185537, 0.33814463],\n",
       "       [0.05187074, 0.94812926],\n",
       "       [0.31318553, 0.68681447],\n",
       "       [0.98119076, 0.01880924],\n",
       "       [0.87275499, 0.12724501],\n",
       "       [0.71609814, 0.28390186],\n",
       "       [0.74250702, 0.25749298],\n",
       "       [0.97018365, 0.02981635],\n",
       "       [0.96292339, 0.03707661],\n",
       "       [0.47418851, 0.52581149],\n",
       "       [0.03719255, 0.96280745],\n",
       "       [0.02824083, 0.97175917],\n",
       "       [0.03250782, 0.96749218],\n",
       "       [0.96573308, 0.03426692],\n",
       "       [0.98119076, 0.01880924],\n",
       "       [0.86021291, 0.13978709],\n",
       "       [0.95726447, 0.04273553],\n",
       "       [0.99581414, 0.00418586],\n",
       "       [0.98350832, 0.01649168],\n",
       "       [0.13029641, 0.86970359],\n",
       "       [0.14120251, 0.85879749],\n",
       "       [0.74572744, 0.25427256],\n",
       "       [0.95477707, 0.04522293],\n",
       "       [0.96678971, 0.03321029],\n",
       "       [0.63259706, 0.36740294],\n",
       "       [0.79493234, 0.20506766],\n",
       "       [0.09530057, 0.90469943],\n",
       "       [0.01276135, 0.98723865],\n",
       "       [0.95615618, 0.04384382],\n",
       "       [0.28284747, 0.71715253],\n",
       "       [0.47594504, 0.52405496],\n",
       "       [0.71004464, 0.28995536],\n",
       "       [0.91401905, 0.08598095],\n",
       "       [0.99140256, 0.00859744],\n",
       "       [0.97683497, 0.02316503],\n",
       "       [0.98759415, 0.01240585],\n",
       "       [0.91781561, 0.08218439],\n",
       "       [0.99046677, 0.00953323],\n",
       "       [0.74572744, 0.25427256],\n",
       "       [0.04685078, 0.95314922],\n",
       "       [0.62271561, 0.37728439],\n",
       "       [0.07439246, 0.92560754],\n",
       "       [0.95962084, 0.04037916],\n",
       "       [0.34489686, 0.65510314],\n",
       "       [0.10271325, 0.89728675],\n",
       "       [0.94390833, 0.05609167]])"
      ]
     },
     "execution_count": 41,
     "metadata": {},
     "output_type": "execute_result"
    }
   ],
   "source": [
    "log_reg_model1.predict_proba( X_test)"
   ]
  },
  {
   "cell_type": "markdown",
   "metadata": {},
   "source": [
    "### check accuracy on train and test : check for overfit or underfit issues\n"
   ]
  },
  {
   "cell_type": "code",
   "execution_count": 42,
   "metadata": {},
   "outputs": [
    {
     "name": "stdout",
     "output_type": "stream",
     "text": [
      "Accuracy on train: 0.865625\n",
      "Accuracy on test: 0.8\n"
     ]
    }
   ],
   "source": [
    "print(\"Accuracy on train:\", accuracy_score(y_train, y_train_pred))\n",
    "print(\"Accuracy on test:\", accuracy_score(y_test, y_test_pred))"
   ]
  },
  {
   "cell_type": "code",
   "execution_count": 43,
   "metadata": {},
   "outputs": [
    {
     "data": {
      "text/plain": [
       "(0.8571428571428571, 0.7916666666666666)"
      ]
     },
     "execution_count": 43,
     "metadata": {},
     "output_type": "execute_result"
    }
   ],
   "source": [
    "precision_score(y_train, y_train_pred), precision_score(y_test, y_test_pred)"
   ]
  },
  {
   "cell_type": "code",
   "execution_count": 44,
   "metadata": {},
   "outputs": [
    {
     "data": {
      "text/plain": [
       "(0.7433628318584071, 0.6333333333333333)"
      ]
     },
     "execution_count": 44,
     "metadata": {},
     "output_type": "execute_result"
    }
   ],
   "source": [
    "recall_score(y_train, y_train_preds), recall_score(y_test, y_test_preds)"
   ]
  },
  {
   "cell_type": "markdown",
   "metadata": {},
   "source": [
    "### classification report "
   ]
  },
  {
   "cell_type": "code",
   "execution_count": 45,
   "metadata": {},
   "outputs": [
    {
     "name": "stdout",
     "output_type": "stream",
     "text": [
      "              precision    recall  f1-score   support\n",
      "\n",
      "           0       0.87      0.93      0.90       207\n",
      "           1       0.86      0.74      0.80       113\n",
      "\n",
      "    accuracy                           0.87       320\n",
      "   macro avg       0.86      0.84      0.85       320\n",
      "weighted avg       0.87      0.87      0.86       320\n",
      "\n"
     ]
    }
   ],
   "source": [
    "print(classification_report( y_train, y_train_preds))"
   ]
  },
  {
   "cell_type": "code",
   "execution_count": 77,
   "metadata": {},
   "outputs": [
    {
     "name": "stdout",
     "output_type": "stream",
     "text": [
      "              precision    recall  f1-score   support\n",
      "\n",
      "           0       0.80      0.90      0.85        50\n",
      "           1       0.79      0.63      0.70        30\n",
      "\n",
      "    accuracy                           0.80        80\n",
      "   macro avg       0.80      0.77      0.78        80\n",
      "weighted avg       0.80      0.80      0.79        80\n",
      "\n"
     ]
    }
   ],
   "source": [
    "print(classification_report(y_test, y_test_pred))"
   ]
  },
  {
   "cell_type": "markdown",
   "metadata": {},
   "source": [
    "### confusion matrix"
   ]
  },
  {
   "cell_type": "code",
   "execution_count": 78,
   "metadata": {},
   "outputs": [
    {
     "data": {
      "text/plain": [
       "array([[193,  14],\n",
       "       [ 29,  84]])"
      ]
     },
     "execution_count": 78,
     "metadata": {},
     "output_type": "execute_result"
    }
   ],
   "source": [
    "conf_matrix = confusion_matrix(y_train, y_train_pred)\n",
    "confusion_matrix(y_train, y_train_pred)"
   ]
  },
  {
   "cell_type": "code",
   "execution_count": 79,
   "metadata": {},
   "outputs": [
    {
     "data": {
      "text/plain": [
       "<AxesSubplot:>"
      ]
     },
     "execution_count": 79,
     "metadata": {},
     "output_type": "execute_result"
    },
    {
     "data": {
      "image/png": "[encoded data removed]",
      "text/plain": [
       "<Figure size 576x360 with 2 Axes>"
      ]
     },
     "metadata": {
      "needs_background": "light"
     },
     "output_type": "display_data"
    }
   ],
   "source": [
    "fig, ax = plt.subplots(figsize=(8,5))\n",
    "sns.heatmap(conf_matrix, annot = True, ax=ax)"
   ]
  },
  {
   "cell_type": "markdown",
   "metadata": {},
   "source": [
    "##### Visualizing the Training Set Result"
   ]
  },
  {
   "cell_type": "code",
   "execution_count": 84,
   "metadata": {},
   "outputs": [
    {
     "name": "stderr",
     "output_type": "stream",
     "text": [
      "*c* argument looks like a single numeric RGB or RGBA sequence, which should be avoided as value-mapping will have precedence in case its length matches with *x* & *y*.  Please use the *color* keyword-argument or provide a 2D array with a single row if you intend to specify the same RGB or RGBA value for all points.\n",
      "*c* argument looks like a single numeric RGB or RGBA sequence, which should be avoided as value-mapping will have precedence in case its length matches with *x* & *y*.  Please use the *color* keyword-argument or provide a 2D array with a single row if you intend to specify the same RGB or RGBA value for all points.\n"
     ]
    },
    {
     "data": {
      "image/png": "[encoded data removed]",
      "text/plain": [
       "<Figure size 432x288 with 1 Axes>"
      ]
     },
     "metadata": {
      "needs_background": "light"
     },
     "output_type": "display_data"
    }
   ],
   "source": [
    "X_set,y_set = X_train,y_train\n",
    "X1,X2 = np.meshgrid(np.arange(start=X_set[:,0].min() - 1,stop=X_set[:,0].max()+1,step=0.01),\n",
    "                    np.arange(start=X_set[:,1].min() - 1,stop=X_set[:,1].max()+1,step=0.01))\n",
    "plt.contourf(X1,X2,log_reg.predict(np.array([X1.ravel(),X2.ravel()]).T).reshape(X1.shape),\n",
    "                        alpha=0.75,cmap=ListedColormap(('black','red')))\n",
    "\n",
    "plt.xlim(X1.min(),X1.max())\n",
    "plt.ylim(X2.min(),X2.max())\n",
    "for i,j in enumerate(np.unique(y_set)):\n",
    "    plt.scatter(X_set[y_set ==j,0],X_set[y_set == j,1],\n",
    "               c=ListedColormap(['blue','green'])(i),label=j)\n",
    "\n",
    "plt.title('Logistic Regression (Train set)')\n",
    "plt.xlabel('Age')\n",
    "plt.ylabel('Estimated Salary')\n",
    "plt.legend()\n",
    "plt.show()"
   ]
  },
  {
   "cell_type": "markdown",
   "metadata": {},
   "source": [
    "##### Visualizing the Testing Set results"
   ]
  },
  {
   "cell_type": "code",
   "execution_count": 41,
   "metadata": {},
   "outputs": [
    {
     "name": "stderr",
     "output_type": "stream",
     "text": [
      "*c* argument looks like a single numeric RGB or RGBA sequence, which should be avoided as value-mapping will have precedence in case its length matches with *x* & *y*.  Please use the *color* keyword-argument or provide a 2D array with a single row if you intend to specify the same RGB or RGBA value for all points.\n",
      "*c* argument looks like a single numeric RGB or RGBA sequence, which should be avoided as value-mapping will have precedence in case its length matches with *x* & *y*.  Please use the *color* keyword-argument or provide a 2D array with a single row if you intend to specify the same RGB or RGBA value for all points.\n"
     ]
    },
    {
     "data": {
      "image/png": "[encoded data removed]",
      "text/plain": [
       "<Figure size 432x288 with 1 Axes>"
      ]
     },
     "metadata": {
      "needs_background": "light"
     },
     "output_type": "display_data"
    }
   ],
   "source": [
    "X_set,y_set = x_test,y_test\n",
    "X1,X2 = np.meshgrid(np.arange(start=X_set[:,0].min() - 1,stop=X_set[:,0].max()+1,step=0.01),\n",
    "                    np.arange(start=X_set[:,1].min() - 1,stop=X_set[:,1].max()+1,step=0.01))\n",
    "plt.contourf(X1,X2,log_reg.predict(np.array([X1.ravel(),X2.ravel()]).T).reshape(X1.shape),\n",
    "                        alpha=0.75,cmap=ListedColormap(('black','blue')))\n",
    "\n",
    "plt.xlim(X1.min(),X1.max())\n",
    "plt.ylim(X2.min(),X2.max())\n",
    "for i,j in enumerate(np.unique(y_set)):\n",
    "    plt.scatter(X_set[y_set ==j,0],X_set[y_set == j,1],\n",
    "               c=ListedColormap(['yellow','red'])(i),label=j)\n",
    "\n",
    "plt.title('Logistic Regression (Test set)')\n",
    "plt.xlabel('Age')\n",
    "plt.ylabel('Estimated Salary')\n",
    "plt.legend()\n",
    "plt.show()"
   ]
  },
  {
   "cell_type": "markdown",
   "metadata": {},
   "source": [
    "##### Mis Classification Rate"
   ]
  },
  {
   "cell_type": "code",
   "execution_count": 86,
   "metadata": {},
   "outputs": [
    {
     "data": {
      "text/plain": [
       "0.14925373134328357"
      ]
     },
     "execution_count": 86,
     "metadata": {},
     "output_type": "execute_result"
    }
   ],
   "source": [
    "mis_cla_rate  = (13+7)/len(y_test)\n",
    "mis_cla_rate"
   ]
  },
  {
   "cell_type": "markdown",
   "metadata": {},
   "source": [
    "##### Accuracy, Precision, Recall etc"
   ]
  },
  {
   "cell_type": "code",
   "execution_count": 53,
   "metadata": {},
   "outputs": [
    {
     "name": "stdout",
     "output_type": "stream",
     "text": [
      "Accuracy:  0.8507462686567164\n"
     ]
    }
   ],
   "source": [
    "print(\"Accuracy: \", metrics.accuracy_score(y_test,y_test_pred))"
   ]
  },
  {
   "cell_type": "code",
   "execution_count": 87,
   "metadata": {},
   "outputs": [
    {
     "name": "stdout",
     "output_type": "stream",
     "text": [
      "Precision:  0.851063829787234\n"
     ]
    }
   ],
   "source": [
    "print(\"Precision: \", metrics.precision_score(y_test,y_test_pred))"
   ]
  },
  {
   "cell_type": "code",
   "execution_count": 89,
   "metadata": {},
   "outputs": [
    {
     "name": "stdout",
     "output_type": "stream",
     "text": [
      "Recall:  0.7547169811320755\n"
     ]
    }
   ],
   "source": [
    "print(\"Recall: \", metrics.recall_score(y_test,y_test_pred))"
   ]
  },
  {
   "cell_type": "markdown",
   "metadata": {},
   "source": [
    "##### ROC and AUC"
   ]
  },
  {
   "cell_type": "code",
   "execution_count": 81,
   "metadata": {},
   "outputs": [
    {
     "data": {
      "text/plain": [
       "array([[0.74679361, 0.25320639],\n",
       "       [0.98785039, 0.01214961],\n",
       "       [0.9949061 , 0.0050939 ],\n",
       "       [0.9814747 , 0.0185253 ],\n",
       "       [0.88007838, 0.11992162],\n",
       "       [0.82905499, 0.17094501],\n",
       "       [0.44863478, 0.55136522],\n",
       "       [0.58430661, 0.41569339],\n",
       "       [0.9273638 , 0.0726362 ],\n",
       "       [0.95291682, 0.04708318],\n",
       "       [0.52732443, 0.47267557],\n",
       "       [0.2490492 , 0.7509508 ],\n",
       "       [0.66719609, 0.33280391],\n",
       "       [0.99664674, 0.00335326],\n",
       "       [0.0618998 , 0.9381002 ],\n",
       "       [0.10775205, 0.89224795],\n",
       "       [0.78889635, 0.21110365],\n",
       "       [0.8256329 , 0.1743671 ],\n",
       "       [0.21590821, 0.78409179],\n",
       "       [0.99865913, 0.00134087],\n",
       "       [0.05604008, 0.94395992],\n",
       "       [0.94300609, 0.05699391],\n",
       "       [0.49388917, 0.50611083],\n",
       "       [0.5224072 , 0.4775928 ],\n",
       "       [0.618072  , 0.381928  ],\n",
       "       [0.97264691, 0.02735309],\n",
       "       [0.53188999, 0.46811001],\n",
       "       [0.72207472, 0.27792528],\n",
       "       [0.33697869, 0.66302131],\n",
       "       [0.94509006, 0.05490994],\n",
       "       [0.99883514, 0.00116486],\n",
       "       [0.82785314, 0.17214686],\n",
       "       [0.97204069, 0.02795931],\n",
       "       [0.98894812, 0.01105188],\n",
       "       [0.66185537, 0.33814463],\n",
       "       [0.05187074, 0.94812926],\n",
       "       [0.31318553, 0.68681447],\n",
       "       [0.98119076, 0.01880924],\n",
       "       [0.87275499, 0.12724501],\n",
       "       [0.71609814, 0.28390186],\n",
       "       [0.74250702, 0.25749298],\n",
       "       [0.97018365, 0.02981635],\n",
       "       [0.96292339, 0.03707661],\n",
       "       [0.47418851, 0.52581149],\n",
       "       [0.03719255, 0.96280745],\n",
       "       [0.02824083, 0.97175917],\n",
       "       [0.03250782, 0.96749218],\n",
       "       [0.96573308, 0.03426692],\n",
       "       [0.98119076, 0.01880924],\n",
       "       [0.86021291, 0.13978709],\n",
       "       [0.95726447, 0.04273553],\n",
       "       [0.99581414, 0.00418586],\n",
       "       [0.98350832, 0.01649168],\n",
       "       [0.13029641, 0.86970359],\n",
       "       [0.14120251, 0.85879749],\n",
       "       [0.74572744, 0.25427256],\n",
       "       [0.95477707, 0.04522293],\n",
       "       [0.96678971, 0.03321029],\n",
       "       [0.63259706, 0.36740294],\n",
       "       [0.79493234, 0.20506766],\n",
       "       [0.09530057, 0.90469943],\n",
       "       [0.01276135, 0.98723865],\n",
       "       [0.95615618, 0.04384382],\n",
       "       [0.28284747, 0.71715253],\n",
       "       [0.47594504, 0.52405496],\n",
       "       [0.71004464, 0.28995536],\n",
       "       [0.91401905, 0.08598095],\n",
       "       [0.99140256, 0.00859744],\n",
       "       [0.97683497, 0.02316503],\n",
       "       [0.98759415, 0.01240585],\n",
       "       [0.91781561, 0.08218439],\n",
       "       [0.99046677, 0.00953323],\n",
       "       [0.74572744, 0.25427256],\n",
       "       [0.04685078, 0.95314922],\n",
       "       [0.62271561, 0.37728439],\n",
       "       [0.07439246, 0.92560754],\n",
       "       [0.95962084, 0.04037916],\n",
       "       [0.34489686, 0.65510314],\n",
       "       [0.10271325, 0.89728675],\n",
       "       [0.94390833, 0.05609167]])"
      ]
     },
     "execution_count": 81,
     "metadata": {},
     "output_type": "execute_result"
    }
   ],
   "source": [
    "y_test_proba = log_reg_model.predict_proba(X_test)\n",
    "y_test_proba"
   ]
  },
  {
   "cell_type": "code",
   "execution_count": 93,
   "metadata": {},
   "outputs": [
    {
     "data": {
      "text/plain": [
       "(array([1, 0, 1, 1, 1, 0, 0, 1, 1, 0, 0, 0, 1, 0, 0, 0, 0, 1, 0, 1, 1, 0,\n",
       "        1, 1, 0, 0, 0, 0, 1, 1, 0, 1, 0, 1, 0, 0, 0, 1, 0, 0, 0, 0, 1, 0,\n",
       "        0, 1, 1, 0, 0, 0, 0, 1, 0, 0, 0, 0, 1, 0, 1, 1, 0, 0, 0, 1, 1, 0,\n",
       "        0, 1, 0, 0, 1, 0, 1, 1, 0, 1, 0, 0, 0, 0, 0, 1, 1, 0, 0, 1, 1, 1,\n",
       "        1, 1, 1, 0, 0, 0, 0, 0, 0, 0, 0, 0, 1, 1, 0, 1, 0, 0, 1, 1, 0, 0,\n",
       "        0, 1, 1, 0, 0, 0, 1, 1, 0, 1, 0, 1, 0, 0, 0, 0, 1, 1, 1, 0, 0, 0,\n",
       "        0, 0]),\n",
       " array([0.98983634, 0.02986917, 0.06639948, 0.93159809, 0.95145945,\n",
       "        0.3230259 , 0.04170067, 0.86804831, 0.88140643, 0.03932992,\n",
       "        0.34220254, 0.00853028, 0.91369034, 0.00617345, 0.00782838,\n",
       "        0.28899639, 0.02395922, 0.65117918, 0.00625135, 0.97767928,\n",
       "        0.64590273, 0.02279564, 0.96507949, 0.88586552, 0.42004867,\n",
       "        0.53697029, 0.0511309 , 0.06718596, 0.85562743, 0.4924979 ,\n",
       "        0.93615299, 0.72821091, 0.00936481, 0.92640258, 0.30063534,\n",
       "        0.38880193, 0.01139632, 0.95353122, 0.07196075, 0.03496494,\n",
       "        0.46838922, 0.0592154 , 0.76472603, 0.00840121, 0.05671517,\n",
       "        0.95306987, 0.97989803, 0.02012794, 0.56466815, 0.0287822 ,\n",
       "        0.08559898, 0.53632607, 0.0241377 , 0.11659706, 0.13534547,\n",
       "        0.00431979, 0.94403464, 0.00296072, 0.90400672, 0.2255508 ,\n",
       "        0.00359007, 0.32469104, 0.0077297 , 0.86361224, 0.86240694,\n",
       "        0.08401643, 0.49379306, 0.89165586, 0.0094826 , 0.73617399,\n",
       "        0.18308504, 0.03539894, 0.86569523, 0.92743281, 0.67446111,\n",
       "        0.7097101 , 0.04160397, 0.25380409, 0.05523596, 0.35144038,\n",
       "        0.32693047, 0.74592282, 0.98898399, 0.02800988, 0.80899661,\n",
       "        0.96964951, 0.1552326 , 0.89974027, 0.93554091, 0.4076837 ,\n",
       "        0.53886043, 0.04475116, 0.01189546, 0.0027436 , 0.1876783 ,\n",
       "        0.07045205, 0.23870031, 0.00607982, 0.16201255, 0.02692074,\n",
       "        0.47980648, 0.38094781, 0.03031304, 0.29582574, 0.27814906,\n",
       "        0.01064872, 0.97434689, 0.91063072, 0.17083288, 0.16832636,\n",
       "        0.21894991, 0.62115394, 0.65521127, 0.1672645 , 0.02331322,\n",
       "        0.2705466 , 0.28849884, 0.39849527, 0.00580926, 0.44626404,\n",
       "        0.28690604, 0.53069037, 0.09610767, 0.04720655, 0.0069701 ,\n",
       "        0.27814906, 0.27157041, 0.96617498, 0.52306628, 0.69369034,\n",
       "        0.01552157, 0.07943938, 0.0241377 , 0.27762917]))"
      ]
     },
     "execution_count": 93,
     "metadata": {},
     "output_type": "execute_result"
    }
   ],
   "source": [
    "y_test, log_reg.predict_proba(x_test)[::,1]"
   ]
  },
  {
   "cell_type": "code",
   "execution_count": 84,
   "metadata": {},
   "outputs": [
    {
     "data": {
      "image/png": "[encoded data removed]",
      "text/plain": [
       "<Figure size 864x720 with 1 Axes>"
      ]
     },
     "metadata": {
      "needs_background": "light"
     },
     "output_type": "display_data"
    }
   ],
   "source": [
    "y_pred_proba = log_reg_model1.predict_proba(X_test)[::,1]\n",
    "fpr, tpr, _ = metrics.roc_curve(y_test,  y_pred_proba)\n",
    "auc = metrics.roc_auc_score(y_test, y_pred_proba)\n",
    "plt.figure(figsize=(12,10))\n",
    "plt.plot(fpr,tpr,label=\"auc=\"+str(auc))\n",
    "plt.legend(loc=4)\n",
    "plt.title(\"Receiver Operating Characteristic Curve (ROC)\")\n",
    "plt.xlabel(\"FPR ---->\")\n",
    "plt.ylabel(\"TPR ---->\")\n",
    "plt.show()"
   ]
  },
  {
   "cell_type": "code",
   "execution_count": 22,
   "metadata": {},
   "outputs": [],
   "source": [
    "from sklearn.tree import DecisionTreeClassifier"
   ]
  },
  {
   "cell_type": "code",
   "execution_count": 23,
   "metadata": {},
   "outputs": [],
   "source": [
    "DTC = DecisionTreeClassifier(max_depth=2, max_leaf_nodes=3)"
   ]
  },
  {
   "cell_type": "code",
   "execution_count": 24,
   "metadata": {},
   "outputs": [
    {
     "data": {
      "text/plain": [
       "DecisionTreeClassifier(max_depth=2, max_leaf_nodes=3)"
      ]
     },
     "execution_count": 24,
     "metadata": {},
     "output_type": "execute_result"
    }
   ],
   "source": [
    "DTC.fit(X_train,y_train)"
   ]
  },
  {
   "cell_type": "code",
   "execution_count": 26,
   "metadata": {},
   "outputs": [],
   "source": [
    "y_train_pred = DTC.predict(X_train)\n",
    "y_test_pred = DTC.predict(X_test)"
   ]
  },
  {
   "cell_type": "code",
   "execution_count": 27,
   "metadata": {},
   "outputs": [
    {
     "data": {
      "text/plain": [
       "(0.9172932330827067, 0.9104477611940298)"
      ]
     },
     "execution_count": 27,
     "metadata": {},
     "output_type": "execute_result"
    }
   ],
   "source": [
    "accuracy_score(y_train, y_train_pred), accuracy_score(y_test, y_test_pred)"
   ]
  },
  {
   "cell_type": "code",
   "execution_count": 28,
   "metadata": {},
   "outputs": [
    {
     "data": {
      "text/plain": [
       "2"
      ]
     },
     "execution_count": 28,
     "metadata": {},
     "output_type": "execute_result"
    }
   ],
   "source": [
    "DTC.get_depth()"
   ]
  },
  {
   "cell_type": "code",
   "execution_count": 29,
   "metadata": {},
   "outputs": [
    {
     "data": {
      "text/plain": [
       "(0.9172932330827067, 0.9104477611940298)"
      ]
     },
     "execution_count": 29,
     "metadata": {},
     "output_type": "execute_result"
    }
   ],
   "source": [
    "accuracy_score(y_train, y_train_pred), accuracy_score(y_test, y_test_pred)"
   ]
  },
  {
   "cell_type": "code",
   "execution_count": 30,
   "metadata": {},
   "outputs": [
    {
     "name": "stdout",
     "output_type": "stream",
     "text": [
      "              precision    recall  f1-score   support\n",
      "\n",
      "           0       0.96      0.91      0.94       176\n",
      "           1       0.84      0.93      0.88        90\n",
      "\n",
      "    accuracy                           0.92       266\n",
      "   macro avg       0.90      0.92      0.91       266\n",
      "weighted avg       0.92      0.92      0.92       266\n",
      "\n"
     ]
    }
   ],
   "source": [
    "print(classification_report(y_train, y_train_pred))"
   ]
  },
  {
   "cell_type": "code",
   "execution_count": 31,
   "metadata": {},
   "outputs": [
    {
     "name": "stdout",
     "output_type": "stream",
     "text": [
      "              precision    recall  f1-score   support\n",
      "\n",
      "           0       0.97      0.88      0.92        81\n",
      "           1       0.84      0.96      0.89        53\n",
      "\n",
      "    accuracy                           0.91       134\n",
      "   macro avg       0.90      0.92      0.91       134\n",
      "weighted avg       0.92      0.91      0.91       134\n",
      "\n"
     ]
    }
   ],
   "source": [
    "print(classification_report(y_test, y_test_pred))"
   ]
  },
  {
   "cell_type": "code",
   "execution_count": 85,
   "metadata": {},
   "outputs": [],
   "source": [
    "from sklearn.tree import DecisionTreeClassifier, DecisionTreeRegressor"
   ]
  },
  {
   "cell_type": "code",
   "execution_count": 87,
   "metadata": {},
   "outputs": [
    {
     "data": {
      "text/plain": [
       "DecisionTreeClassifier()"
      ]
     },
     "execution_count": 87,
     "metadata": {},
     "output_type": "execute_result"
    }
   ],
   "source": [
    "dt_model = DecisionTreeClassifier()\n",
    "dt_model.fit(  X_train, y_train )"
   ]
  },
  {
   "cell_type": "code",
   "execution_count": 89,
   "metadata": {},
   "outputs": [],
   "source": [
    "y_train_preds = dt_model.predict(X_train)\n",
    "y_test_preds = dt_model.predict(X_test)"
   ]
  },
  {
   "cell_type": "code",
   "execution_count": 93,
   "metadata": {},
   "outputs": [
    {
     "name": "stdout",
     "output_type": "stream",
     "text": [
      "on train: 99.6875 %\n",
      "on test: 83.75 %\n"
     ]
    }
   ],
   "source": [
    "print(\"on train:\",accuracy_score(y_train, y_train_preds)*100,\"%\")\n",
    "print(\"on test:\", accuracy_score(y_test, y_test_preds)*100, \"%\")"
   ]
  },
  {
   "cell_type": "code",
   "execution_count": 95,
   "metadata": {},
   "outputs": [
    {
     "data": {
      "text/plain": [
       "12"
      ]
     },
     "execution_count": 95,
     "metadata": {},
     "output_type": "execute_result"
    }
   ],
   "source": [
    "dt_model.get_depth()"
   ]
  },
  {
   "cell_type": "code",
   "execution_count": 103,
   "metadata": {},
   "outputs": [
    {
     "name": "stdout",
     "output_type": "stream",
     "text": [
      "on train: 93.75 %\n",
      "on test: 86.25 %\n"
     ]
    }
   ],
   "source": [
    "dt_model2 = DecisionTreeClassifier(max_depth=5, max_leaf_nodes=8)\n",
    "dt_model2.fit(X_train, y_train )\n",
    "y_train_preds = dt_model2.predict(X_train)\n",
    "y_test_preds = dt_model2.predict(X_test)\n",
    "print(\"on train:\",accuracy_score(y_train, y_train_preds)*100,\"%\")\n",
    "print(\"on test:\", accuracy_score(y_test, y_test_preds)*100, \"%\")"
   ]
  },
  {
   "cell_type": "code",
   "execution_count": 106,
   "metadata": {},
   "outputs": [
    {
     "name": "stdout",
     "output_type": "stream",
     "text": [
      "on train: 96.875 %\n",
      "on test: 83.75 %\n"
     ]
    }
   ],
   "source": [
    "dt_model3 = DecisionTreeClassifier(max_depth=9, max_leaf_nodes=20)\n",
    "dt_model3.fit(X_train, y_train )\n",
    "y_train_preds = dt_model3.predict(X_train)\n",
    "y_test_preds = dt_model3.predict(X_test)\n",
    "print(\"on train:\",accuracy_score(y_train, y_train_preds)*100,\"%\")\n",
    "print(\"on test:\", accuracy_score(y_test, y_test_preds)*100, \"%\")"
   ]
  },
  {
   "cell_type": "code",
   "execution_count": 107,
   "metadata": {},
   "outputs": [
    {
     "name": "stdout",
     "output_type": "stream",
     "text": [
      "on train: 97.5 %\n",
      "on test: 85.0 %\n"
     ]
    }
   ],
   "source": [
    "dt_model2 = DecisionTreeClassifier(max_depth=10, max_leaf_nodes=28)\n",
    "dt_model2.fit(X_train, y_train )\n",
    "y_train_preds = dt_model2.predict(X_train)\n",
    "y_test_preds = dt_model2.predict(X_test)\n",
    "print(\"on train:\",accuracy_score(y_train, y_train_preds)*100,\"%\")\n",
    "print(\"on test:\", accuracy_score(y_test, y_test_preds)*100, \"%\")"
   ]
  },
  {
   "cell_type": "code",
   "execution_count": 108,
   "metadata": {},
   "outputs": [
    {
     "name": "stdout",
     "output_type": "stream",
     "text": [
      "on train: 93.125 %\n",
      "on test: 86.25 %\n"
     ]
    }
   ],
   "source": [
    "dt_model4 = DecisionTreeClassifier(max_depth=4, max_leaf_nodes=6)\n",
    "dt_model4.fit(X_train, y_train )\n",
    "y_train_preds = dt_model4.predict(X_train)\n",
    "y_test_preds = dt_model4.predict(X_test)\n",
    "print(\"on train:\",accuracy_score(y_train, y_train_preds)*100,\"%\")\n",
    "print(\"on test:\", accuracy_score(y_test, y_test_preds)*100, \"%\")"
   ]
  },
  {
   "cell_type": "code",
   "execution_count": 32,
   "metadata": {},
   "outputs": [],
   "source": [
    "from sklearn.ensemble import RandomForestClassifier"
   ]
  },
  {
   "cell_type": "code",
   "execution_count": 65,
   "metadata": {},
   "outputs": [
    {
     "data": {
      "text/plain": [
       "RandomForestClassifier(max_depth=4, n_estimators=3, random_state=183)"
      ]
     },
     "execution_count": 65,
     "metadata": {},
     "output_type": "execute_result"
    }
   ],
   "source": [
    "RF_Model1 = RandomForestClassifier(n_estimators=3, max_depth=4, random_state=183)\n",
    "RF_Model1.fit( X_train, y_train )\n",
    "RF_Model1"
   ]
  },
  {
   "cell_type": "code",
   "execution_count": 66,
   "metadata": {},
   "outputs": [],
   "source": [
    "y_train_preds = RF_Model1.predict(X_train)\n",
    "y_test_preds = RF_Model1.predict(X_test)"
   ]
  },
  {
   "cell_type": "code",
   "execution_count": 67,
   "metadata": {},
   "outputs": [
    {
     "name": "stdout",
     "output_type": "stream",
     "text": [
      "on train: 0.9210526315789473\n",
      "on test: 0.9029850746268657\n"
     ]
    }
   ],
   "source": [
    "print(\"on train:\", accuracy_score(y_train, y_train_preds))\n",
    "print(\"on test:\", accuracy_score(y_test, y_test_preds))"
   ]
  },
  {
   "cell_type": "code",
   "execution_count": 71,
   "metadata": {},
   "outputs": [],
   "source": [
    "from sklearn.neighbors import KNeighborsClassifier\n",
    "import time"
   ]
  },
  {
   "cell_type": "code",
   "execution_count": 105,
   "metadata": {},
   "outputs": [
    {
     "data": {
      "text/plain": [
       "KNeighborsClassifier(n_neighbors=3)"
      ]
     },
     "execution_count": 105,
     "metadata": {},
     "output_type": "execute_result"
    }
   ],
   "source": [
    "KNN_Model1 = KNeighborsClassifier( n_neighbors=3 )\n",
    "KNN_Model1.fit(X_train, y_train)"
   ]
  },
  {
   "cell_type": "code",
   "execution_count": 106,
   "metadata": {},
   "outputs": [
    {
     "name": "stdout",
     "output_type": "stream",
     "text": [
      "time taken: 0.02919602394104004\n"
     ]
    }
   ],
   "source": [
    "start_time = time.time()\n",
    "y_test_preds  = KNN_Model1.predict(X_test)\n",
    "y_train_preds = KNN_Model1.predict(X_train)\n",
    "end_time = time.time()\n",
    "print(\"time taken:\", end_time-start_time)"
   ]
  },
  {
   "cell_type": "code",
   "execution_count": null,
   "metadata": {},
   "outputs": [],
   "source": []
  },
  {
   "cell_type": "code",
   "execution_count": 18,
   "metadata": {},
   "outputs": [],
   "source": [
    "from sklearn.neighbors import KNeighborsClassifier\n",
    "import time"
   ]
  },
  {
   "cell_type": "code",
   "execution_count": 82,
   "metadata": {},
   "outputs": [
    {
     "name": "stdout",
     "output_type": "stream",
     "text": [
      "time taken to build and predict model: 0.029160261154174805\n",
      "[[162  14]\n",
      " [  9  81]]\n",
      "              precision    recall  f1-score   support\n",
      "\n",
      "           0       0.95      0.92      0.93       176\n",
      "           1       0.85      0.90      0.88        90\n",
      "\n",
      "    accuracy                           0.91       266\n",
      "   macro avg       0.90      0.91      0.90       266\n",
      "weighted avg       0.92      0.91      0.91       266\n",
      "\n",
      "              precision    recall  f1-score   support\n",
      "\n",
      "           0       0.95      0.89      0.92        81\n",
      "           1       0.84      0.92      0.88        53\n",
      "\n",
      "    accuracy                           0.90       134\n",
      "   macro avg       0.90      0.91      0.90       134\n",
      "weighted avg       0.91      0.90      0.90       134\n",
      "\n"
     ]
    }
   ],
   "source": [
    "start_time = time.time()\n",
    "knn_model = KNeighborsClassifier(n_neighbors=11)\n",
    "knn_model.fit(X_train, y_train)\n",
    "\n",
    "y_train_pred =knn_model.predict(X_train)\n",
    "y_test_pred =knn_model.predict(X_test)\n",
    "\n",
    "\n",
    "print(\"time taken to build and predict model:\", time.time()-start_time)\n",
    "\n",
    "print(confusion_matrix(y_train, y_train_pred))\n",
    "\n",
    "print(classification_report(y_train,y_train_pred))\n",
    "print(classification_report(y_test,y_test_pred))"
   ]
  },
  {
   "cell_type": "code",
   "execution_count": null,
   "metadata": {},
   "outputs": [],
   "source": []
  },
  {
   "cell_type": "code",
   "execution_count": 95,
   "metadata": {},
   "outputs": [],
   "source": [
    "error = []\n",
    "for i in range(1,60):\n",
    "    knn = KNeighborsClassifier(n_neighbors=i, n_jobs=2)     \n",
    "    knn.fit(X_train,y_train)\n",
    "    pred_i = knn.predict(X_test)\n",
    "    error.append(np.mean(pred_i != y_test))"
   ]
  },
  {
   "cell_type": "code",
   "execution_count": 96,
   "metadata": {},
   "outputs": [
    {
     "data": {
      "text/plain": [
       "[0.15671641791044777,\n",
       " 0.17164179104477612,\n",
       " 0.13432835820895522,\n",
       " 0.11940298507462686,\n",
       " 0.11194029850746269,\n",
       " 0.11194029850746269,\n",
       " 0.11194029850746269,\n",
       " 0.09701492537313433,\n",
       " 0.09701492537313433,\n",
       " 0.09701492537313433,\n",
       " 0.09701492537313433,\n",
       " 0.07462686567164178,\n",
       " 0.08208955223880597,\n",
       " 0.07462686567164178,\n",
       " 0.07462686567164178,\n",
       " 0.06716417910447761,\n",
       " 0.06716417910447761,\n",
       " 0.06716417910447761,\n",
       " 0.06716417910447761,\n",
       " 0.06716417910447761,\n",
       " 0.07462686567164178,\n",
       " 0.06716417910447761,\n",
       " 0.06716417910447761,\n",
       " 0.06716417910447761,\n",
       " 0.06716417910447761,\n",
       " 0.07462686567164178,\n",
       " 0.07462686567164178,\n",
       " 0.07462686567164178,\n",
       " 0.07462686567164178,\n",
       " 0.07462686567164178,\n",
       " 0.07462686567164178,\n",
       " 0.07462686567164178,\n",
       " 0.07462686567164178,\n",
       " 0.07462686567164178,\n",
       " 0.07462686567164178,\n",
       " 0.07462686567164178,\n",
       " 0.07462686567164178,\n",
       " 0.07462686567164178,\n",
       " 0.07462686567164178,\n",
       " 0.07462686567164178,\n",
       " 0.06716417910447761,\n",
       " 0.08955223880597014,\n",
       " 0.07462686567164178,\n",
       " 0.08208955223880597,\n",
       " 0.06716417910447761,\n",
       " 0.08208955223880597,\n",
       " 0.06716417910447761,\n",
       " 0.08208955223880597,\n",
       " 0.07462686567164178,\n",
       " 0.09701492537313433,\n",
       " 0.08208955223880597,\n",
       " 0.09701492537313433,\n",
       " 0.08955223880597014,\n",
       " 0.09701492537313433,\n",
       " 0.08955223880597014,\n",
       " 0.1044776119402985,\n",
       " 0.08955223880597014,\n",
       " 0.09701492537313433,\n",
       " 0.09701492537313433]"
      ]
     },
     "execution_count": 96,
     "metadata": {},
     "output_type": "execute_result"
    }
   ],
   "source": [
    "error"
   ]
  },
  {
   "cell_type": "code",
   "execution_count": 86,
   "metadata": {},
   "outputs": [
    {
     "data": {
      "text/plain": [
       "Text(0, 0.5, 'Error')"
      ]
     },
     "execution_count": 86,
     "metadata": {},
     "output_type": "execute_result"
    },
    {
     "data": {
      "image/png": "[encoded data removed]",
      "text/plain": [
       "<Figure size 720x432 with 1 Axes>"
      ]
     },
     "metadata": {
      "needs_background": "light"
     },
     "output_type": "display_data"
    }
   ],
   "source": [
    "plt.figure(figsize=(10,6))\n",
    "plt.plot(range(1,60),error,color=\"blue\", marker=\"o\",\n",
    "markerfacecolor=\"red\")\n",
    "plt.title(\"Error Rate vs. K Value\")\n",
    "plt.xlabel(\"K neighbors\")\n",
    "plt.ylabel(\"Error\")"
   ]
  },
  {
   "cell_type": "code",
   "execution_count": 94,
   "metadata": {},
   "outputs": [
    {
     "name": "stdout",
     "output_type": "stream",
     "text": [
      "time taken to build and predict model: 0.02067422866821289\n",
      "[[162  14]\n",
      " [ 10  80]]\n",
      "              precision    recall  f1-score   support\n",
      "\n",
      "           0       0.94      0.92      0.93       176\n",
      "           1       0.85      0.89      0.87        90\n",
      "\n",
      "    accuracy                           0.91       266\n",
      "   macro avg       0.90      0.90      0.90       266\n",
      "weighted avg       0.91      0.91      0.91       266\n",
      "\n",
      "              precision    recall  f1-score   support\n",
      "\n",
      "           0       0.95      0.93      0.94        81\n",
      "           1       0.89      0.92      0.91        53\n",
      "\n",
      "    accuracy                           0.93       134\n",
      "   macro avg       0.92      0.93      0.92       134\n",
      "weighted avg       0.93      0.93      0.93       134\n",
      "\n"
     ]
    }
   ],
   "source": [
    "start_time = time.time()\n",
    "knn_model = KNeighborsClassifier(n_neighbors=15)\n",
    "knn_model.fit(X_train, y_train)\n",
    "\n",
    "y_train_pred =knn_model.predict(X_train)\n",
    "y_test_pred =knn_model.predict(X_test)\n",
    "\n",
    "\n",
    "print(\"time taken to build and predict model:\", time.time()-start_time)\n",
    "\n",
    "print(confusion_matrix(y_train, y_train_pred))\n",
    "\n",
    "print(classification_report(y_train,y_train_pred))\n",
    "print(classification_report(y_test,y_test_pred))"
   ]
  },
  {
   "cell_type": "code",
   "execution_count": null,
   "metadata": {},
   "outputs": [],
   "source": []
  },
  {
   "cell_type": "code",
   "execution_count": null,
   "metadata": {},
   "outputs": [],
   "source": []
  },
  {
   "cell_type": "code",
   "execution_count": 35,
   "metadata": {},
   "outputs": [],
   "source": [
    "from sklearn.model_selection import GridSearchCV, RandomizedSearchCV"
   ]
  },
  {
   "cell_type": "code",
   "execution_count": 44,
   "metadata": {},
   "outputs": [
    {
     "data": {
      "text/plain": [
       "GridSearchCV(estimator=DecisionTreeClassifier(),\n",
       "             param_grid={'max_depth': [2, 3, 4, 5, 6, 8, 10],\n",
       "                         'max_leaf_nodes': [0, 2, 3, 4, 5, 6, 7, 8]})"
      ]
     },
     "execution_count": 44,
     "metadata": {},
     "output_type": "execute_result"
    }
   ],
   "source": [
    "p={'max_depth': [ 2,3,4,5,6,8,10], 'max_leaf_nodes':[0,2,3,4,5,6,7,8]}\n",
    "DT = DecisionTreeClassifier()\n",
    "DTmodels = GridSearchCV(DT, p)\n",
    "DTmodels.fit(X_train, y_train)"
   ]
  },
  {
   "cell_type": "code",
   "execution_count": 45,
   "metadata": {
    "scrolled": true
   },
   "outputs": [
    {
     "data": {
      "text/plain": [
       "DecisionTreeClassifier(max_depth=2, max_leaf_nodes=3)"
      ]
     },
     "execution_count": 45,
     "metadata": {},
     "output_type": "execute_result"
    }
   ],
   "source": [
    "DTmodels.best_estimator_"
   ]
  },
  {
   "cell_type": "code",
   "execution_count": 121,
   "metadata": {},
   "outputs": [
    {
     "name": "stdout",
     "output_type": "stream",
     "text": [
      "on train: 92.5 %\n",
      "on test: 87.5 %\n"
     ]
    }
   ],
   "source": [
    "DT_best = DecisionTreeClassifier(max_depth=3, max_leaf_nodes=3)\n",
    "DT_best.fit(X_train, y_train)\n",
    "y_train_preds = DT_best.predict(X_train)\n",
    "y_test_preds = DT_best.predict(X_test)\n",
    "print(\"on train:\", accuracy_score(y_train, y_train_preds)*100,\"%\")\n",
    "print(\"on test:\", accuracy_score(y_test, y_test_preds)*100,\"%\")"
   ]
  },
  {
   "cell_type": "code",
   "execution_count": null,
   "metadata": {},
   "outputs": [],
   "source": []
  },
  {
   "cell_type": "code",
   "execution_count": 15,
   "metadata": {},
   "outputs": [],
   "source": [
    "from sklearn.tree import DecisionTreeClassifier\n",
    "from sklearn.metrics import accuracy_score, classification_report"
   ]
  },
  {
   "cell_type": "code",
   "execution_count": 40,
   "metadata": {},
   "outputs": [],
   "source": [
    "DT1 = DecisionTreeClassifier(max_depth = 2, max_leaf_nodes=3)\n",
    "DT1.fit(X_train, y_train)\n",
    "y_train_preds = DT1.predict(X_train)\n",
    "y_test_preds = DT1.predict(X_test)"
   ]
  },
  {
   "cell_type": "code",
   "execution_count": 42,
   "metadata": {},
   "outputs": [
    {
     "name": "stdout",
     "output_type": "stream",
     "text": [
      "Acccuray on train: 91.72932330827066\n",
      "Accuracy on test: 91.04477611940298\n"
     ]
    }
   ],
   "source": [
    "print(\"Acccuray on train:\", accuracy_score(y_train, y_train_preds)*100)\n",
    "print(\"Accuracy on test:\", accuracy_score(y_test, y_test_preds)*100)"
   ]
  },
  {
   "cell_type": "code",
   "execution_count": null,
   "metadata": {},
   "outputs": [],
   "source": []
  },
  {
   "cell_type": "code",
   "execution_count": null,
   "metadata": {},
   "outputs": [],
   "source": []
  },
  {
   "cell_type": "code",
   "execution_count": null,
   "metadata": {},
   "outputs": [],
   "source": []
  },
  {
   "cell_type": "code",
   "execution_count": null,
   "metadata": {},
   "outputs": [],
   "source": []
  },
  {
   "cell_type": "code",
   "execution_count": null,
   "metadata": {},
   "outputs": [],
   "source": []
  },
  {
   "cell_type": "code",
   "execution_count": null,
   "metadata": {},
   "outputs": [],
   "source": []
  },
  {
   "cell_type": "code",
   "execution_count": null,
   "metadata": {},
   "outputs": [],
   "source": []
  },
  {
   "cell_type": "code",
   "execution_count": null,
   "metadata": {},
   "outputs": [],
   "source": []
  },
  {
   "cell_type": "code",
   "execution_count": null,
   "metadata": {},
   "outputs": [],
   "source": []
  }
 ],
 "metadata": {
  "kernelspec": {
   "display_name": "Python 3 (ipykernel)",
   "language": "python",
   "name": "python3"
  },
  "language_info": {
   "codemirror_mode": {
    "name": "ipython",
    "version": 3
   },
   "file_extension": ".py",
   "mimetype": "text/x-python",
   "name": "python",
   "nbconvert_exporter": "python",
   "pygments_lexer": "ipython3",
   "version": "3.9.12"
  }
 },
 "nbformat": 4,
 "nbformat_minor": 2
}
