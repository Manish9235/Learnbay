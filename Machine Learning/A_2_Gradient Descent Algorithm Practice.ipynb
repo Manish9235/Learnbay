{
 "cells": [
  {
   "cell_type": "code",
   "execution_count": 1,
   "metadata": {},
   "outputs": [],
   "source": [
    "import numpy as np"
   ]
  },
  {
   "cell_type": "code",
   "execution_count": 15,
   "metadata": {},
   "outputs": [],
   "source": [
    "def gradient_descent(x,y, n, iterations):\n",
    "    \n",
    "    w0 = 2\n",
    "    w1 = 4\n",
    "    learning_rate = 0.01\n",
    "    #iterations = 25\n",
    "    for i in range(iterations):\n",
    "        \n",
    "        y_pred = w0 + w1*x\n",
    "        cost =  (1/(2*n)) * sum([j**2  for j in (y - y_pred)])\n",
    "       \n",
    "        dw0 = -1/n * sum(1*( y - y_pred))\n",
    "        \n",
    "        dw1 = -1/n * sum(x*( y - y_pred))\n",
    "        \n",
    "        w0 = w0 - learning_rate*dw0\n",
    "        w1 = w1 - learning_rate*dw1\n",
    "        \n",
    "        print(\"iteration = {}, w0 = {}, w1= {}, cost = {}\".format(i+1, w0,w1,cost))\n",
    "        \n",
    "    \n",
    "        \n",
    "        "
   ]
  },
  {
   "cell_type": "code",
   "execution_count": 11,
   "metadata": {},
   "outputs": [],
   "source": [
    "w0 = 2\n",
    "w1 = 3\n",
    "y_pred = w0 + w1*x\n",
    "n = len(x)\n",
    "Error = sum( i**2 for i in (y - y_pred)  ) * (1/n)"
   ]
  },
  {
   "cell_type": "code",
   "execution_count": 12,
   "metadata": {},
   "outputs": [
    {
     "data": {
      "text/plain": [
       "array([1, 2, 3, 4, 5])"
      ]
     },
     "execution_count": 12,
     "metadata": {},
     "output_type": "execute_result"
    }
   ],
   "source": [
    "x"
   ]
  },
  {
   "cell_type": "code",
   "execution_count": 14,
   "metadata": {},
   "outputs": [
    {
     "name": "stdout",
     "output_type": "stream",
     "text": [
      "predicted values: [ 5  8 11 14 17]\n",
      "actual values: [ 5  6  7 11 13]\n"
     ]
    }
   ],
   "source": [
    "print(\"predicted values:\",y_pred)\n",
    "print(\"actual values:\", y)"
   ]
  },
  {
   "cell_type": "code",
   "execution_count": 6,
   "metadata": {},
   "outputs": [],
   "source": [
    "x = np.array([1,2,3,4,5])\n",
    "y = np.array([5,6,7,11,13])"
   ]
  },
  {
   "cell_type": "code",
   "execution_count": 16,
   "metadata": {},
   "outputs": [
    {
     "name": "stdout",
     "output_type": "stream",
     "text": [
      "iteration = 1, w0 = 1.944, w1= 3.794, cost = 19.6\n",
      "iteration = 2, w0 = 1.8947399999999999, w1= 3.61234, cost = 15.312374\n",
      "iteration = 3, w0 = 1.8514224, w1= 3.4521404, cost = 11.979244624400003\n",
      "iteration = 4, w0 = 1.813343964, w1= 3.310862284, cost = 9.388120102342645\n",
      "iteration = 5, w0 = 1.7798846558399999, w1= 3.18626711384, cost = 7.373813983542913\n",
      "iteration = 6, w0 = 1.7504977958663999, w1= 3.0763811916424, cost = 5.8079139381501514\n",
      "iteration = 7, w0 = 1.7247013821584638, w1= 2.9794643266857443, cost = 4.590595032347977\n",
      "iteration = 8, w0 = 1.7020704385363068, w1= 2.8939822092855585, cost = 3.6442555480590473\n",
      "iteration = 9, w0 = 1.682230267872377, w1= 2.8185820531080577, cost = 2.908569608531284\n",
      "iteration = 10, w0 = 1.6648505036004115, w1= 2.75207111923, cost = 2.3366411977944344\n",
      "iteration = 11, w0 = 1.6496398649875075, w1= 2.693397781006688, cost = 1.8920143795957145\n",
      "iteration = 12, w0 = 1.6363415329074318, w1= 2.641634829146327, cost = 1.5463491070635151\n",
      "iteration = 13, w0 = 1.6247290727039676, w1= 2.5959647519530082, cost = 1.2776144480295617\n",
      "iteration = 14, w0 = 1.6146028394183376, w1= 2.5556667570570584, cost = 1.068684037954806\n",
      "iteration = 15, w0 = 1.6057868083124425, w1= 2.5201053285982318, cost = 0.9062442157874483\n",
      "iteration = 16, w0 = 1.598125780371371, w1= 2.488720138203053, cost = 0.7799452326860103\n",
      "iteration = 17, w0 = 1.5914829184215658, w1= 2.461017149589576, cost = 0.6817414202654553\n",
      "iteration = 18, w0 = 1.585737574749663, w1= 2.4365607755820755, cost = 0.6053782518391573\n",
      "iteration = 19, w0 = 1.580783375734704, w1= 2.4149669630255572, cost = 0.5459935950595067\n",
      "iteration = 20, w0 = 1.5765265330865903, w1= 2.395897095820705, cost = 0.49980773445154325\n"
     ]
    }
   ],
   "source": [
    "gradient_descent(x,y, len(x), 20)"
   ]
  },
  {
   "cell_type": "code",
   "execution_count": null,
   "metadata": {},
   "outputs": [],
   "source": []
  },
  {
   "cell_type": "code",
   "execution_count": null,
   "metadata": {},
   "outputs": [],
   "source": []
  }
 ],
 "metadata": {
  "kernelspec": {
   "display_name": "Python 3 (ipykernel)",
   "language": "python",
   "name": "python3"
  },
  "language_info": {
   "codemirror_mode": {
    "name": "ipython",
    "version": 3
   },
   "file_extension": ".py",
   "mimetype": "text/x-python",
   "name": "python",
   "nbconvert_exporter": "python",
   "pygments_lexer": "ipython3",
   "version": "3.9.12"
  }
 },
 "nbformat": 4,
 "nbformat_minor": 2
}
