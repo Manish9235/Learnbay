{
 "cells": [
  {
   "cell_type": "code",
   "execution_count": 1,
   "id": "b4da2964",
   "metadata": {},
   "outputs": [],
   "source": [
    "#April_6th_Online_shopping"
   ]
  },
  {
   "cell_type": "markdown",
   "id": "d6b05ed7",
   "metadata": {},
   "source": [
    "Online shopping Customer Segmentation"
   ]
  },
  {
   "cell_type": "markdown",
   "id": "919e7d19",
   "metadata": {},
   "source": [
    "**Problem statement**\n",
    "-  # calculate the customer  Value\n",
    "-  1: Segment (Group/Cluster) customer on basis of RFM (Recency, Frequency, Monetary) \n",
    "-  2: Segment (Group/Cluster) Identify trends for Day, Month, Season, Time by Invoice count\n",
    "-  3.Top 10 selling product \n",
    "-  4 Best product at country level.\n",
    "-  5 Recommendation \n",
    "   6 FINDING CUSTOMER VALUATION.\n",
    "-  "
   ]
  },
  {
   "cell_type": "markdown",
   "id": "5706fc0d",
   "metadata": {},
   "source": [
    "Recency, frequency, monetary value (RFM) is a model used in marketing \n",
    "analysis that segments a company’s consumer base by their purchasing \n",
    "patterns or habits. In particular, it evaluates customers’ recency \n",
    "(how long ago they made a purchase), frequency (how often they make purchases), \n",
    "and monetary value (how much money they spend)."
   ]
  },
  {
   "cell_type": "code",
   "execution_count": 2,
   "id": "d66b2f20",
   "metadata": {},
   "outputs": [],
   "source": [
    "import pandas as pd\n",
    "import numpy as np\n",
    "import matplotlib.pyplot as plt\n",
    "import seaborn as sns\n",
    "%matplotlib inline\n",
    "import warnings\n",
    "warnings.filterwarnings(\"ignore\")"
   ]
  },
  {
   "cell_type": "code",
   "execution_count": 3,
   "id": "08080d71",
   "metadata": {},
   "outputs": [],
   "source": [
    "original_data=pd.read_excel(\"Online_shopping.xlsx\")"
   ]
  },
  {
   "cell_type": "code",
   "execution_count": 4,
   "id": "5faead9e",
   "metadata": {},
   "outputs": [
    {
     "data": {
      "text/html": [
       "<div>\n",
       "<style scoped>\n",
       "    .dataframe tbody tr th:only-of-type {\n",
       "        vertical-align: middle;\n",
       "    }\n",
       "\n",
       "    .dataframe tbody tr th {\n",
       "        vertical-align: top;\n",
       "    }\n",
       "\n",
       "    .dataframe thead th {\n",
       "        text-align: right;\n",
       "    }\n",
       "</style>\n",
       "<table border=\"1\" class=\"dataframe\">\n",
       "  <thead>\n",
       "    <tr style=\"text-align: right;\">\n",
       "      <th></th>\n",
       "      <th>InvoiceNo</th>\n",
       "      <th>StockCode</th>\n",
       "      <th>lower</th>\n",
       "      <th>Description</th>\n",
       "      <th>Quantity</th>\n",
       "      <th>InvoiceDate</th>\n",
       "      <th>UnitPrice</th>\n",
       "      <th>CustomerID</th>\n",
       "      <th>Country</th>\n",
       "    </tr>\n",
       "  </thead>\n",
       "  <tbody>\n",
       "    <tr>\n",
       "      <th>0</th>\n",
       "      <td>536365</td>\n",
       "      <td>85123A</td>\n",
       "      <td>white hanging heart t-light holder</td>\n",
       "      <td>WHITE HANGING HEART T-LIGHT HOLDER</td>\n",
       "      <td>6</td>\n",
       "      <td>2010-12-01 08:26:00</td>\n",
       "      <td>2.55</td>\n",
       "      <td>17850.0</td>\n",
       "      <td>United Kingdom</td>\n",
       "    </tr>\n",
       "    <tr>\n",
       "      <th>1</th>\n",
       "      <td>536365</td>\n",
       "      <td>71053</td>\n",
       "      <td>white metal lantern</td>\n",
       "      <td>WHITE METAL LANTERN</td>\n",
       "      <td>6</td>\n",
       "      <td>2010-12-01 08:26:00</td>\n",
       "      <td>3.39</td>\n",
       "      <td>17850.0</td>\n",
       "      <td>United Kingdom</td>\n",
       "    </tr>\n",
       "    <tr>\n",
       "      <th>2</th>\n",
       "      <td>536365</td>\n",
       "      <td>84406B</td>\n",
       "      <td>cream cupid hearts coat hanger</td>\n",
       "      <td>CREAM CUPID HEARTS COAT HANGER</td>\n",
       "      <td>8</td>\n",
       "      <td>2010-12-01 08:26:00</td>\n",
       "      <td>2.75</td>\n",
       "      <td>17850.0</td>\n",
       "      <td>United Kingdom</td>\n",
       "    </tr>\n",
       "    <tr>\n",
       "      <th>3</th>\n",
       "      <td>536365</td>\n",
       "      <td>84029G</td>\n",
       "      <td>knitted union flag hot water bottle</td>\n",
       "      <td>KNITTED UNION FLAG HOT WATER BOTTLE</td>\n",
       "      <td>6</td>\n",
       "      <td>2010-12-01 08:26:00</td>\n",
       "      <td>3.39</td>\n",
       "      <td>17850.0</td>\n",
       "      <td>United Kingdom</td>\n",
       "    </tr>\n",
       "    <tr>\n",
       "      <th>4</th>\n",
       "      <td>536365</td>\n",
       "      <td>84029E</td>\n",
       "      <td>red woolly hottie white heart.</td>\n",
       "      <td>RED WOOLLY HOTTIE WHITE HEART.</td>\n",
       "      <td>6</td>\n",
       "      <td>2010-12-01 08:26:00</td>\n",
       "      <td>3.39</td>\n",
       "      <td>17850.0</td>\n",
       "      <td>United Kingdom</td>\n",
       "    </tr>\n",
       "    <tr>\n",
       "      <th>...</th>\n",
       "      <td>...</td>\n",
       "      <td>...</td>\n",
       "      <td>...</td>\n",
       "      <td>...</td>\n",
       "      <td>...</td>\n",
       "      <td>...</td>\n",
       "      <td>...</td>\n",
       "      <td>...</td>\n",
       "      <td>...</td>\n",
       "    </tr>\n",
       "    <tr>\n",
       "      <th>95</th>\n",
       "      <td>536378</td>\n",
       "      <td>22352</td>\n",
       "      <td>lunch box with cutlery retrospot</td>\n",
       "      <td>LUNCH BOX WITH CUTLERY RETROSPOT</td>\n",
       "      <td>6</td>\n",
       "      <td>2010-12-01 09:37:00</td>\n",
       "      <td>2.55</td>\n",
       "      <td>14688.0</td>\n",
       "      <td>United Kingdom</td>\n",
       "    </tr>\n",
       "    <tr>\n",
       "      <th>96</th>\n",
       "      <td>536378</td>\n",
       "      <td>21212</td>\n",
       "      <td>pack of 72 retrospot cake cases</td>\n",
       "      <td>PACK OF 72 RETROSPOT CAKE CASES</td>\n",
       "      <td>120</td>\n",
       "      <td>2010-12-01 09:37:00</td>\n",
       "      <td>0.42</td>\n",
       "      <td>14688.0</td>\n",
       "      <td>United Kingdom</td>\n",
       "    </tr>\n",
       "    <tr>\n",
       "      <th>97</th>\n",
       "      <td>536378</td>\n",
       "      <td>21975</td>\n",
       "      <td>pack of 60 dinosaur cake cases</td>\n",
       "      <td>PACK OF 60 DINOSAUR CAKE CASES</td>\n",
       "      <td>24</td>\n",
       "      <td>2010-12-01 09:37:00</td>\n",
       "      <td>0.55</td>\n",
       "      <td>14688.0</td>\n",
       "      <td>United Kingdom</td>\n",
       "    </tr>\n",
       "    <tr>\n",
       "      <th>98</th>\n",
       "      <td>536378</td>\n",
       "      <td>21977</td>\n",
       "      <td>pack of 60 pink paisley cake cases</td>\n",
       "      <td>PACK OF 60 PINK PAISLEY CAKE CASES</td>\n",
       "      <td>24</td>\n",
       "      <td>2010-12-01 09:37:00</td>\n",
       "      <td>0.55</td>\n",
       "      <td>14688.0</td>\n",
       "      <td>United Kingdom</td>\n",
       "    </tr>\n",
       "    <tr>\n",
       "      <th>99</th>\n",
       "      <td>536378</td>\n",
       "      <td>84991</td>\n",
       "      <td>60 teatime fairy cake cases</td>\n",
       "      <td>60 TEATIME FAIRY CAKE CASES</td>\n",
       "      <td>24</td>\n",
       "      <td>2010-12-01 09:37:00</td>\n",
       "      <td>0.55</td>\n",
       "      <td>14688.0</td>\n",
       "      <td>United Kingdom</td>\n",
       "    </tr>\n",
       "  </tbody>\n",
       "</table>\n",
       "<p>100 rows × 9 columns</p>\n",
       "</div>"
      ],
      "text/plain": [
       "   InvoiceNo StockCode                                lower  \\\n",
       "0     536365    85123A   white hanging heart t-light holder   \n",
       "1     536365     71053                  white metal lantern   \n",
       "2     536365    84406B       cream cupid hearts coat hanger   \n",
       "3     536365    84029G  knitted union flag hot water bottle   \n",
       "4     536365    84029E       red woolly hottie white heart.   \n",
       "..       ...       ...                                  ...   \n",
       "95    536378     22352    lunch box with cutlery retrospot    \n",
       "96    536378     21212      pack of 72 retrospot cake cases   \n",
       "97    536378     21975       pack of 60 dinosaur cake cases   \n",
       "98    536378     21977   pack of 60 pink paisley cake cases   \n",
       "99    536378     84991          60 teatime fairy cake cases   \n",
       "\n",
       "                            Description  Quantity         InvoiceDate  \\\n",
       "0    WHITE HANGING HEART T-LIGHT HOLDER         6 2010-12-01 08:26:00   \n",
       "1                   WHITE METAL LANTERN         6 2010-12-01 08:26:00   \n",
       "2        CREAM CUPID HEARTS COAT HANGER         8 2010-12-01 08:26:00   \n",
       "3   KNITTED UNION FLAG HOT WATER BOTTLE         6 2010-12-01 08:26:00   \n",
       "4        RED WOOLLY HOTTIE WHITE HEART.         6 2010-12-01 08:26:00   \n",
       "..                                  ...       ...                 ...   \n",
       "95    LUNCH BOX WITH CUTLERY RETROSPOT          6 2010-12-01 09:37:00   \n",
       "96      PACK OF 72 RETROSPOT CAKE CASES       120 2010-12-01 09:37:00   \n",
       "97       PACK OF 60 DINOSAUR CAKE CASES        24 2010-12-01 09:37:00   \n",
       "98   PACK OF 60 PINK PAISLEY CAKE CASES        24 2010-12-01 09:37:00   \n",
       "99          60 TEATIME FAIRY CAKE CASES        24 2010-12-01 09:37:00   \n",
       "\n",
       "    UnitPrice  CustomerID         Country  \n",
       "0        2.55     17850.0  United Kingdom  \n",
       "1        3.39     17850.0  United Kingdom  \n",
       "2        2.75     17850.0  United Kingdom  \n",
       "3        3.39     17850.0  United Kingdom  \n",
       "4        3.39     17850.0  United Kingdom  \n",
       "..        ...         ...             ...  \n",
       "95       2.55     14688.0  United Kingdom  \n",
       "96       0.42     14688.0  United Kingdom  \n",
       "97       0.55     14688.0  United Kingdom  \n",
       "98       0.55     14688.0  United Kingdom  \n",
       "99       0.55     14688.0  United Kingdom  \n",
       "\n",
       "[100 rows x 9 columns]"
      ]
     },
     "execution_count": 4,
     "metadata": {},
     "output_type": "execute_result"
    }
   ],
   "source": [
    "df=original_data.copy()\n",
    "df.head(100)"
   ]
  },
  {
   "cell_type": "code",
   "execution_count": 5,
   "id": "73b1cc2e",
   "metadata": {},
   "outputs": [
    {
     "data": {
      "text/plain": [
       "United Kingdom          0.914320\n",
       "Germany                 0.017521\n",
       "France                  0.015790\n",
       "EIRE                    0.015124\n",
       "Spain                   0.004674\n",
       "Netherlands             0.004375\n",
       "Belgium                 0.003818\n",
       "Switzerland             0.003694\n",
       "Portugal                0.002803\n",
       "Australia               0.002323\n",
       "Norway                  0.002004\n",
       "Italy                   0.001482\n",
       "Channel Islands         0.001399\n",
       "Finland                 0.001283\n",
       "Cyprus                  0.001148\n",
       "Sweden                  0.000853\n",
       "Unspecified             0.000823\n",
       "Austria                 0.000740\n",
       "Denmark                 0.000718\n",
       "Japan                   0.000661\n",
       "Poland                  0.000629\n",
       "Israel                  0.000548\n",
       "USA                     0.000537\n",
       "Hong Kong               0.000531\n",
       "Singapore               0.000423\n",
       "Iceland                 0.000336\n",
       "Canada                  0.000279\n",
       "Greece                  0.000269\n",
       "Malta                   0.000234\n",
       "United Arab Emirates    0.000125\n",
       "European Community      0.000113\n",
       "RSA                     0.000107\n",
       "Lebanon                 0.000083\n",
       "Lithuania               0.000065\n",
       "Brazil                  0.000059\n",
       "Czech Republic          0.000055\n",
       "Bahrain                 0.000035\n",
       "Saudi Arabia            0.000018\n",
       "Name: Country, dtype: float64"
      ]
     },
     "execution_count": 5,
     "metadata": {},
     "output_type": "execute_result"
    }
   ],
   "source": [
    "df[\"Country\"].value_counts(normalize=True)"
   ]
  },
  {
   "cell_type": "code",
   "execution_count": 6,
   "id": "3b9293e3",
   "metadata": {},
   "outputs": [],
   "source": [
    "# please do plot some visualization "
   ]
  },
  {
   "cell_type": "code",
   "execution_count": 7,
   "id": "a3b86346",
   "metadata": {},
   "outputs": [],
   "source": [
    "# data analysis"
   ]
  },
  {
   "cell_type": "code",
   "execution_count": 8,
   "id": "4d8fea24",
   "metadata": {},
   "outputs": [
    {
     "name": "stdout",
     "output_type": "stream",
     "text": [
      "<class 'pandas.core.frame.DataFrame'>\n",
      "RangeIndex: 541909 entries, 0 to 541908\n",
      "Data columns (total 9 columns):\n",
      " #   Column       Non-Null Count   Dtype         \n",
      "---  ------       --------------   -----         \n",
      " 0   InvoiceNo    541909 non-null  object        \n",
      " 1   StockCode    541909 non-null  object        \n",
      " 2   lower        1816 non-null    object        \n",
      " 3   Description  540455 non-null  object        \n",
      " 4   Quantity     541909 non-null  int64         \n",
      " 5   InvoiceDate  541909 non-null  datetime64[ns]\n",
      " 6   UnitPrice    541909 non-null  float64       \n",
      " 7   CustomerID   406829 non-null  float64       \n",
      " 8   Country      541909 non-null  object        \n",
      "dtypes: datetime64[ns](1), float64(2), int64(1), object(5)\n",
      "memory usage: 37.2+ MB\n"
     ]
    }
   ],
   "source": [
    "df.info()"
   ]
  },
  {
   "cell_type": "code",
   "execution_count": 9,
   "id": "0891bbe5",
   "metadata": {},
   "outputs": [],
   "source": [
    "# problem no. 1:-Segment (Group/Cluster) customer on basis of RFM (Recency, Frequency, Monetary) "
   ]
  },
  {
   "cell_type": "code",
   "execution_count": 10,
   "id": "1cb15ee3",
   "metadata": {},
   "outputs": [],
   "source": [
    "# drop the columns which are not significant for the above problem statement no. 1"
   ]
  },
  {
   "cell_type": "code",
   "execution_count": 11,
   "id": "5945c2aa",
   "metadata": {},
   "outputs": [
    {
     "data": {
      "text/html": [
       "<div>\n",
       "<style scoped>\n",
       "    .dataframe tbody tr th:only-of-type {\n",
       "        vertical-align: middle;\n",
       "    }\n",
       "\n",
       "    .dataframe tbody tr th {\n",
       "        vertical-align: top;\n",
       "    }\n",
       "\n",
       "    .dataframe thead th {\n",
       "        text-align: right;\n",
       "    }\n",
       "</style>\n",
       "<table border=\"1\" class=\"dataframe\">\n",
       "  <thead>\n",
       "    <tr style=\"text-align: right;\">\n",
       "      <th></th>\n",
       "      <th>InvoiceNo</th>\n",
       "      <th>Quantity</th>\n",
       "      <th>InvoiceDate</th>\n",
       "      <th>UnitPrice</th>\n",
       "      <th>CustomerID</th>\n",
       "    </tr>\n",
       "  </thead>\n",
       "  <tbody>\n",
       "    <tr>\n",
       "      <th>0</th>\n",
       "      <td>536365</td>\n",
       "      <td>6</td>\n",
       "      <td>2010-12-01 08:26:00</td>\n",
       "      <td>2.55</td>\n",
       "      <td>17850.0</td>\n",
       "    </tr>\n",
       "  </tbody>\n",
       "</table>\n",
       "</div>"
      ],
      "text/plain": [
       "  InvoiceNo  Quantity         InvoiceDate  UnitPrice  CustomerID\n",
       "0    536365         6 2010-12-01 08:26:00       2.55     17850.0"
      ]
     },
     "execution_count": 11,
     "metadata": {},
     "output_type": "execute_result"
    }
   ],
   "source": [
    "df1=df.drop([\"StockCode\",\"Description\",\"lower\",\"Country\"],axis=1)\n",
    "df1.head(1)"
   ]
  },
  {
   "cell_type": "code",
   "execution_count": 12,
   "id": "16b6c563",
   "metadata": {},
   "outputs": [
    {
     "data": {
      "text/plain": [
       "InvoiceNo           0\n",
       "Quantity            0\n",
       "InvoiceDate         0\n",
       "UnitPrice           0\n",
       "CustomerID     135080\n",
       "dtype: int64"
      ]
     },
     "execution_count": 12,
     "metadata": {},
     "output_type": "execute_result"
    }
   ],
   "source": [
    "df1.isnull().sum()"
   ]
  },
  {
   "cell_type": "code",
   "execution_count": 13,
   "id": "a68794c6",
   "metadata": {},
   "outputs": [],
   "source": [
    "# Customer ID bringsimp information , which can not be retrive once missing.\n",
    "# we have to drop the missing value where cust. ID is missing"
   ]
  },
  {
   "cell_type": "code",
   "execution_count": 14,
   "id": "e89b8c62",
   "metadata": {},
   "outputs": [],
   "source": [
    "df1.dropna(axis=0,inplace=True)"
   ]
  },
  {
   "cell_type": "code",
   "execution_count": 15,
   "id": "4a81c18f",
   "metadata": {},
   "outputs": [
    {
     "data": {
      "text/plain": [
       "InvoiceNo      0\n",
       "Quantity       0\n",
       "InvoiceDate    0\n",
       "UnitPrice      0\n",
       "CustomerID     0\n",
       "dtype: int64"
      ]
     },
     "execution_count": 15,
     "metadata": {},
     "output_type": "execute_result"
    }
   ],
   "source": [
    "df1.isnull().sum()"
   ]
  },
  {
   "cell_type": "code",
   "execution_count": 16,
   "id": "3a4c5e37",
   "metadata": {},
   "outputs": [
    {
     "data": {
      "text/html": [
       "<div>\n",
       "<style scoped>\n",
       "    .dataframe tbody tr th:only-of-type {\n",
       "        vertical-align: middle;\n",
       "    }\n",
       "\n",
       "    .dataframe tbody tr th {\n",
       "        vertical-align: top;\n",
       "    }\n",
       "\n",
       "    .dataframe thead th {\n",
       "        text-align: right;\n",
       "    }\n",
       "</style>\n",
       "<table border=\"1\" class=\"dataframe\">\n",
       "  <thead>\n",
       "    <tr style=\"text-align: right;\">\n",
       "      <th></th>\n",
       "      <th>count</th>\n",
       "      <th>mean</th>\n",
       "      <th>std</th>\n",
       "      <th>min</th>\n",
       "      <th>25%</th>\n",
       "      <th>50%</th>\n",
       "      <th>75%</th>\n",
       "      <th>max</th>\n",
       "    </tr>\n",
       "  </thead>\n",
       "  <tbody>\n",
       "    <tr>\n",
       "      <th>Quantity</th>\n",
       "      <td>406829.0</td>\n",
       "      <td>12.061303</td>\n",
       "      <td>248.693370</td>\n",
       "      <td>-80995.0</td>\n",
       "      <td>2.00</td>\n",
       "      <td>5.00</td>\n",
       "      <td>12.00</td>\n",
       "      <td>80995.0</td>\n",
       "    </tr>\n",
       "    <tr>\n",
       "      <th>UnitPrice</th>\n",
       "      <td>406829.0</td>\n",
       "      <td>3.460471</td>\n",
       "      <td>69.315162</td>\n",
       "      <td>0.0</td>\n",
       "      <td>1.25</td>\n",
       "      <td>1.95</td>\n",
       "      <td>3.75</td>\n",
       "      <td>38970.0</td>\n",
       "    </tr>\n",
       "    <tr>\n",
       "      <th>CustomerID</th>\n",
       "      <td>406829.0</td>\n",
       "      <td>15287.690570</td>\n",
       "      <td>1713.600303</td>\n",
       "      <td>12346.0</td>\n",
       "      <td>13953.00</td>\n",
       "      <td>15152.00</td>\n",
       "      <td>16791.00</td>\n",
       "      <td>18287.0</td>\n",
       "    </tr>\n",
       "  </tbody>\n",
       "</table>\n",
       "</div>"
      ],
      "text/plain": [
       "               count          mean          std      min       25%       50%  \\\n",
       "Quantity    406829.0     12.061303   248.693370 -80995.0      2.00      5.00   \n",
       "UnitPrice   406829.0      3.460471    69.315162      0.0      1.25      1.95   \n",
       "CustomerID  406829.0  15287.690570  1713.600303  12346.0  13953.00  15152.00   \n",
       "\n",
       "                 75%      max  \n",
       "Quantity       12.00  80995.0  \n",
       "UnitPrice       3.75  38970.0  \n",
       "CustomerID  16791.00  18287.0  "
      ]
     },
     "execution_count": 16,
     "metadata": {},
     "output_type": "execute_result"
    }
   ],
   "source": [
    "df1.describe().T"
   ]
  },
  {
   "cell_type": "code",
   "execution_count": 17,
   "id": "94d6c811",
   "metadata": {},
   "outputs": [],
   "source": [
    "# Quantity is negative because some customer has returned the item(defective).\n",
    "# Unit price is zero because it all are free items."
   ]
  },
  {
   "cell_type": "code",
   "execution_count": 18,
   "id": "f572cd50",
   "metadata": {},
   "outputs": [],
   "source": [
    "# finding the rows having unit price 0 items available"
   ]
  },
  {
   "cell_type": "code",
   "execution_count": 19,
   "id": "3824e8e6",
   "metadata": {},
   "outputs": [
    {
     "data": {
      "text/plain": [
       "40"
      ]
     },
     "execution_count": 19,
     "metadata": {},
     "output_type": "execute_result"
    }
   ],
   "source": [
    "df1[df1[\"UnitPrice\"]==0][\"UnitPrice\"].count()"
   ]
  },
  {
   "cell_type": "code",
   "execution_count": 20,
   "id": "5a7bd9b9",
   "metadata": {},
   "outputs": [
    {
     "data": {
      "text/html": [
       "<div>\n",
       "<style scoped>\n",
       "    .dataframe tbody tr th:only-of-type {\n",
       "        vertical-align: middle;\n",
       "    }\n",
       "\n",
       "    .dataframe tbody tr th {\n",
       "        vertical-align: top;\n",
       "    }\n",
       "\n",
       "    .dataframe thead th {\n",
       "        text-align: right;\n",
       "    }\n",
       "</style>\n",
       "<table border=\"1\" class=\"dataframe\">\n",
       "  <thead>\n",
       "    <tr style=\"text-align: right;\">\n",
       "      <th></th>\n",
       "      <th>InvoiceNo</th>\n",
       "      <th>Quantity</th>\n",
       "      <th>InvoiceDate</th>\n",
       "      <th>UnitPrice</th>\n",
       "      <th>CustomerID</th>\n",
       "    </tr>\n",
       "  </thead>\n",
       "  <tbody>\n",
       "    <tr>\n",
       "      <th>9302</th>\n",
       "      <td>537197</td>\n",
       "      <td>1</td>\n",
       "      <td>2010-12-05 14:02:00</td>\n",
       "      <td>0.0</td>\n",
       "      <td>12647.0</td>\n",
       "    </tr>\n",
       "    <tr>\n",
       "      <th>33576</th>\n",
       "      <td>539263</td>\n",
       "      <td>4</td>\n",
       "      <td>2010-12-16 14:36:00</td>\n",
       "      <td>0.0</td>\n",
       "      <td>16560.0</td>\n",
       "    </tr>\n",
       "    <tr>\n",
       "      <th>40089</th>\n",
       "      <td>539722</td>\n",
       "      <td>10</td>\n",
       "      <td>2010-12-21 13:45:00</td>\n",
       "      <td>0.0</td>\n",
       "      <td>14911.0</td>\n",
       "    </tr>\n",
       "    <tr>\n",
       "      <th>47068</th>\n",
       "      <td>540372</td>\n",
       "      <td>24</td>\n",
       "      <td>2011-01-06 16:41:00</td>\n",
       "      <td>0.0</td>\n",
       "      <td>13081.0</td>\n",
       "    </tr>\n",
       "    <tr>\n",
       "      <th>47070</th>\n",
       "      <td>540372</td>\n",
       "      <td>24</td>\n",
       "      <td>2011-01-06 16:41:00</td>\n",
       "      <td>0.0</td>\n",
       "      <td>13081.0</td>\n",
       "    </tr>\n",
       "    <tr>\n",
       "      <th>56674</th>\n",
       "      <td>541109</td>\n",
       "      <td>1</td>\n",
       "      <td>2011-01-13 15:10:00</td>\n",
       "      <td>0.0</td>\n",
       "      <td>15107.0</td>\n",
       "    </tr>\n",
       "    <tr>\n",
       "      <th>86789</th>\n",
       "      <td>543599</td>\n",
       "      <td>16</td>\n",
       "      <td>2011-02-10 13:08:00</td>\n",
       "      <td>0.0</td>\n",
       "      <td>17560.0</td>\n",
       "    </tr>\n",
       "    <tr>\n",
       "      <th>130188</th>\n",
       "      <td>547417</td>\n",
       "      <td>36</td>\n",
       "      <td>2011-03-23 10:25:00</td>\n",
       "      <td>0.0</td>\n",
       "      <td>13239.0</td>\n",
       "    </tr>\n",
       "    <tr>\n",
       "      <th>139453</th>\n",
       "      <td>548318</td>\n",
       "      <td>5</td>\n",
       "      <td>2011-03-30 12:45:00</td>\n",
       "      <td>0.0</td>\n",
       "      <td>13113.0</td>\n",
       "    </tr>\n",
       "    <tr>\n",
       "      <th>145208</th>\n",
       "      <td>548871</td>\n",
       "      <td>2</td>\n",
       "      <td>2011-04-04 14:42:00</td>\n",
       "      <td>0.0</td>\n",
       "      <td>14410.0</td>\n",
       "    </tr>\n",
       "  </tbody>\n",
       "</table>\n",
       "</div>"
      ],
      "text/plain": [
       "       InvoiceNo  Quantity         InvoiceDate  UnitPrice  CustomerID\n",
       "9302      537197         1 2010-12-05 14:02:00        0.0     12647.0\n",
       "33576     539263         4 2010-12-16 14:36:00        0.0     16560.0\n",
       "40089     539722        10 2010-12-21 13:45:00        0.0     14911.0\n",
       "47068     540372        24 2011-01-06 16:41:00        0.0     13081.0\n",
       "47070     540372        24 2011-01-06 16:41:00        0.0     13081.0\n",
       "56674     541109         1 2011-01-13 15:10:00        0.0     15107.0\n",
       "86789     543599        16 2011-02-10 13:08:00        0.0     17560.0\n",
       "130188    547417        36 2011-03-23 10:25:00        0.0     13239.0\n",
       "139453    548318         5 2011-03-30 12:45:00        0.0     13113.0\n",
       "145208    548871         2 2011-04-04 14:42:00        0.0     14410.0"
      ]
     },
     "execution_count": 20,
     "metadata": {},
     "output_type": "execute_result"
    }
   ],
   "source": [
    "df1[df1[\"UnitPrice\"]==0].head(10)"
   ]
  },
  {
   "cell_type": "code",
   "execution_count": 21,
   "id": "1a9297a7",
   "metadata": {},
   "outputs": [
    {
     "data": {
      "text/html": [
       "<div>\n",
       "<style scoped>\n",
       "    .dataframe tbody tr th:only-of-type {\n",
       "        vertical-align: middle;\n",
       "    }\n",
       "\n",
       "    .dataframe tbody tr th {\n",
       "        vertical-align: top;\n",
       "    }\n",
       "\n",
       "    .dataframe thead th {\n",
       "        text-align: right;\n",
       "    }\n",
       "</style>\n",
       "<table border=\"1\" class=\"dataframe\">\n",
       "  <thead>\n",
       "    <tr style=\"text-align: right;\">\n",
       "      <th></th>\n",
       "      <th>InvoiceNo</th>\n",
       "      <th>Quantity</th>\n",
       "      <th>InvoiceDate</th>\n",
       "      <th>UnitPrice</th>\n",
       "      <th>CustomerID</th>\n",
       "    </tr>\n",
       "  </thead>\n",
       "  <tbody>\n",
       "    <tr>\n",
       "      <th>0</th>\n",
       "      <td>536365</td>\n",
       "      <td>6</td>\n",
       "      <td>2010-12-01 08:26:00</td>\n",
       "      <td>2.55</td>\n",
       "      <td>17850.0</td>\n",
       "    </tr>\n",
       "    <tr>\n",
       "      <th>1</th>\n",
       "      <td>536365</td>\n",
       "      <td>6</td>\n",
       "      <td>2010-12-01 08:26:00</td>\n",
       "      <td>3.39</td>\n",
       "      <td>17850.0</td>\n",
       "    </tr>\n",
       "  </tbody>\n",
       "</table>\n",
       "</div>"
      ],
      "text/plain": [
       "  InvoiceNo  Quantity         InvoiceDate  UnitPrice  CustomerID\n",
       "0    536365         6 2010-12-01 08:26:00       2.55     17850.0\n",
       "1    536365         6 2010-12-01 08:26:00       3.39     17850.0"
      ]
     },
     "execution_count": 21,
     "metadata": {},
     "output_type": "execute_result"
    }
   ],
   "source": [
    "df1.head(2)"
   ]
  },
  {
   "cell_type": "code",
   "execution_count": 22,
   "id": "356322be",
   "metadata": {},
   "outputs": [
    {
     "data": {
      "text/html": [
       "<div>\n",
       "<style scoped>\n",
       "    .dataframe tbody tr th:only-of-type {\n",
       "        vertical-align: middle;\n",
       "    }\n",
       "\n",
       "    .dataframe tbody tr th {\n",
       "        vertical-align: top;\n",
       "    }\n",
       "\n",
       "    .dataframe thead th {\n",
       "        text-align: right;\n",
       "    }\n",
       "</style>\n",
       "<table border=\"1\" class=\"dataframe\">\n",
       "  <thead>\n",
       "    <tr style=\"text-align: right;\">\n",
       "      <th></th>\n",
       "      <th>InvoiceNo</th>\n",
       "      <th>Quantity</th>\n",
       "      <th>InvoiceDate</th>\n",
       "      <th>UnitPrice</th>\n",
       "      <th>CustomerID</th>\n",
       "    </tr>\n",
       "  </thead>\n",
       "  <tbody>\n",
       "    <tr>\n",
       "      <th>0</th>\n",
       "      <td>536365</td>\n",
       "      <td>6</td>\n",
       "      <td>2010-12-01 08:26:00</td>\n",
       "      <td>2.55</td>\n",
       "      <td>17850.0</td>\n",
       "    </tr>\n",
       "    <tr>\n",
       "      <th>1</th>\n",
       "      <td>536365</td>\n",
       "      <td>6</td>\n",
       "      <td>2010-12-01 08:26:00</td>\n",
       "      <td>3.39</td>\n",
       "      <td>17850.0</td>\n",
       "    </tr>\n",
       "    <tr>\n",
       "      <th>2</th>\n",
       "      <td>536365</td>\n",
       "      <td>8</td>\n",
       "      <td>2010-12-01 08:26:00</td>\n",
       "      <td>2.75</td>\n",
       "      <td>17850.0</td>\n",
       "    </tr>\n",
       "    <tr>\n",
       "      <th>3</th>\n",
       "      <td>536365</td>\n",
       "      <td>6</td>\n",
       "      <td>2010-12-01 08:26:00</td>\n",
       "      <td>3.39</td>\n",
       "      <td>17850.0</td>\n",
       "    </tr>\n",
       "    <tr>\n",
       "      <th>4</th>\n",
       "      <td>536365</td>\n",
       "      <td>6</td>\n",
       "      <td>2010-12-01 08:26:00</td>\n",
       "      <td>3.39</td>\n",
       "      <td>17850.0</td>\n",
       "    </tr>\n",
       "  </tbody>\n",
       "</table>\n",
       "</div>"
      ],
      "text/plain": [
       "  InvoiceNo  Quantity         InvoiceDate  UnitPrice  CustomerID\n",
       "0    536365         6 2010-12-01 08:26:00       2.55     17850.0\n",
       "1    536365         6 2010-12-01 08:26:00       3.39     17850.0\n",
       "2    536365         8 2010-12-01 08:26:00       2.75     17850.0\n",
       "3    536365         6 2010-12-01 08:26:00       3.39     17850.0\n",
       "4    536365         6 2010-12-01 08:26:00       3.39     17850.0"
      ]
     },
     "execution_count": 22,
     "metadata": {},
     "output_type": "execute_result"
    }
   ],
   "source": [
    "df1.head()"
   ]
  },
  {
   "cell_type": "code",
   "execution_count": 23,
   "id": "256fa00d",
   "metadata": {},
   "outputs": [],
   "source": [
    "# we are considering return as --NO business but we are not dropping those customers "
   ]
  },
  {
   "cell_type": "code",
   "execution_count": 24,
   "id": "87d677c2",
   "metadata": {},
   "outputs": [],
   "source": [
    "df1=df1[df1[\"Quantity\"]>0]"
   ]
  },
  {
   "cell_type": "code",
   "execution_count": 25,
   "id": "22d35681",
   "metadata": {},
   "outputs": [
    {
     "data": {
      "text/html": [
       "<div>\n",
       "<style scoped>\n",
       "    .dataframe tbody tr th:only-of-type {\n",
       "        vertical-align: middle;\n",
       "    }\n",
       "\n",
       "    .dataframe tbody tr th {\n",
       "        vertical-align: top;\n",
       "    }\n",
       "\n",
       "    .dataframe thead th {\n",
       "        text-align: right;\n",
       "    }\n",
       "</style>\n",
       "<table border=\"1\" class=\"dataframe\">\n",
       "  <thead>\n",
       "    <tr style=\"text-align: right;\">\n",
       "      <th></th>\n",
       "      <th>Quantity</th>\n",
       "      <th>UnitPrice</th>\n",
       "      <th>CustomerID</th>\n",
       "    </tr>\n",
       "  </thead>\n",
       "  <tbody>\n",
       "    <tr>\n",
       "      <th>count</th>\n",
       "      <td>397924.000000</td>\n",
       "      <td>397924.000000</td>\n",
       "      <td>397924.000000</td>\n",
       "    </tr>\n",
       "    <tr>\n",
       "      <th>mean</th>\n",
       "      <td>13.021823</td>\n",
       "      <td>3.116174</td>\n",
       "      <td>15294.315171</td>\n",
       "    </tr>\n",
       "    <tr>\n",
       "      <th>std</th>\n",
       "      <td>180.420210</td>\n",
       "      <td>22.096788</td>\n",
       "      <td>1713.169877</td>\n",
       "    </tr>\n",
       "    <tr>\n",
       "      <th>min</th>\n",
       "      <td>1.000000</td>\n",
       "      <td>0.000000</td>\n",
       "      <td>12346.000000</td>\n",
       "    </tr>\n",
       "    <tr>\n",
       "      <th>25%</th>\n",
       "      <td>2.000000</td>\n",
       "      <td>1.250000</td>\n",
       "      <td>13969.000000</td>\n",
       "    </tr>\n",
       "    <tr>\n",
       "      <th>50%</th>\n",
       "      <td>6.000000</td>\n",
       "      <td>1.950000</td>\n",
       "      <td>15159.000000</td>\n",
       "    </tr>\n",
       "    <tr>\n",
       "      <th>75%</th>\n",
       "      <td>12.000000</td>\n",
       "      <td>3.750000</td>\n",
       "      <td>16795.000000</td>\n",
       "    </tr>\n",
       "    <tr>\n",
       "      <th>max</th>\n",
       "      <td>80995.000000</td>\n",
       "      <td>8142.750000</td>\n",
       "      <td>18287.000000</td>\n",
       "    </tr>\n",
       "  </tbody>\n",
       "</table>\n",
       "</div>"
      ],
      "text/plain": [
       "            Quantity      UnitPrice     CustomerID\n",
       "count  397924.000000  397924.000000  397924.000000\n",
       "mean       13.021823       3.116174   15294.315171\n",
       "std       180.420210      22.096788    1713.169877\n",
       "min         1.000000       0.000000   12346.000000\n",
       "25%         2.000000       1.250000   13969.000000\n",
       "50%         6.000000       1.950000   15159.000000\n",
       "75%        12.000000       3.750000   16795.000000\n",
       "max     80995.000000    8142.750000   18287.000000"
      ]
     },
     "execution_count": 25,
     "metadata": {},
     "output_type": "execute_result"
    }
   ],
   "source": [
    "df1.describe()"
   ]
  },
  {
   "cell_type": "code",
   "execution_count": 26,
   "id": "eaabb6d2",
   "metadata": {},
   "outputs": [],
   "source": [
    "# create a column Total=qty x unit price"
   ]
  },
  {
   "cell_type": "code",
   "execution_count": 27,
   "id": "044d84cb",
   "metadata": {},
   "outputs": [
    {
     "data": {
      "text/html": [
       "<div>\n",
       "<style scoped>\n",
       "    .dataframe tbody tr th:only-of-type {\n",
       "        vertical-align: middle;\n",
       "    }\n",
       "\n",
       "    .dataframe tbody tr th {\n",
       "        vertical-align: top;\n",
       "    }\n",
       "\n",
       "    .dataframe thead th {\n",
       "        text-align: right;\n",
       "    }\n",
       "</style>\n",
       "<table border=\"1\" class=\"dataframe\">\n",
       "  <thead>\n",
       "    <tr style=\"text-align: right;\">\n",
       "      <th></th>\n",
       "      <th>InvoiceNo</th>\n",
       "      <th>Quantity</th>\n",
       "      <th>InvoiceDate</th>\n",
       "      <th>UnitPrice</th>\n",
       "      <th>CustomerID</th>\n",
       "      <th>Total</th>\n",
       "    </tr>\n",
       "  </thead>\n",
       "  <tbody>\n",
       "    <tr>\n",
       "      <th>0</th>\n",
       "      <td>536365</td>\n",
       "      <td>6</td>\n",
       "      <td>2010-12-01 08:26:00</td>\n",
       "      <td>2.55</td>\n",
       "      <td>17850.0</td>\n",
       "      <td>15.30</td>\n",
       "    </tr>\n",
       "    <tr>\n",
       "      <th>1</th>\n",
       "      <td>536365</td>\n",
       "      <td>6</td>\n",
       "      <td>2010-12-01 08:26:00</td>\n",
       "      <td>3.39</td>\n",
       "      <td>17850.0</td>\n",
       "      <td>20.34</td>\n",
       "    </tr>\n",
       "    <tr>\n",
       "      <th>2</th>\n",
       "      <td>536365</td>\n",
       "      <td>8</td>\n",
       "      <td>2010-12-01 08:26:00</td>\n",
       "      <td>2.75</td>\n",
       "      <td>17850.0</td>\n",
       "      <td>22.00</td>\n",
       "    </tr>\n",
       "    <tr>\n",
       "      <th>3</th>\n",
       "      <td>536365</td>\n",
       "      <td>6</td>\n",
       "      <td>2010-12-01 08:26:00</td>\n",
       "      <td>3.39</td>\n",
       "      <td>17850.0</td>\n",
       "      <td>20.34</td>\n",
       "    </tr>\n",
       "    <tr>\n",
       "      <th>4</th>\n",
       "      <td>536365</td>\n",
       "      <td>6</td>\n",
       "      <td>2010-12-01 08:26:00</td>\n",
       "      <td>3.39</td>\n",
       "      <td>17850.0</td>\n",
       "      <td>20.34</td>\n",
       "    </tr>\n",
       "    <tr>\n",
       "      <th>...</th>\n",
       "      <td>...</td>\n",
       "      <td>...</td>\n",
       "      <td>...</td>\n",
       "      <td>...</td>\n",
       "      <td>...</td>\n",
       "      <td>...</td>\n",
       "    </tr>\n",
       "    <tr>\n",
       "      <th>95</th>\n",
       "      <td>536378</td>\n",
       "      <td>6</td>\n",
       "      <td>2010-12-01 09:37:00</td>\n",
       "      <td>2.55</td>\n",
       "      <td>14688.0</td>\n",
       "      <td>15.30</td>\n",
       "    </tr>\n",
       "    <tr>\n",
       "      <th>96</th>\n",
       "      <td>536378</td>\n",
       "      <td>120</td>\n",
       "      <td>2010-12-01 09:37:00</td>\n",
       "      <td>0.42</td>\n",
       "      <td>14688.0</td>\n",
       "      <td>50.40</td>\n",
       "    </tr>\n",
       "    <tr>\n",
       "      <th>97</th>\n",
       "      <td>536378</td>\n",
       "      <td>24</td>\n",
       "      <td>2010-12-01 09:37:00</td>\n",
       "      <td>0.55</td>\n",
       "      <td>14688.0</td>\n",
       "      <td>13.20</td>\n",
       "    </tr>\n",
       "    <tr>\n",
       "      <th>98</th>\n",
       "      <td>536378</td>\n",
       "      <td>24</td>\n",
       "      <td>2010-12-01 09:37:00</td>\n",
       "      <td>0.55</td>\n",
       "      <td>14688.0</td>\n",
       "      <td>13.20</td>\n",
       "    </tr>\n",
       "    <tr>\n",
       "      <th>99</th>\n",
       "      <td>536378</td>\n",
       "      <td>24</td>\n",
       "      <td>2010-12-01 09:37:00</td>\n",
       "      <td>0.55</td>\n",
       "      <td>14688.0</td>\n",
       "      <td>13.20</td>\n",
       "    </tr>\n",
       "  </tbody>\n",
       "</table>\n",
       "<p>100 rows × 6 columns</p>\n",
       "</div>"
      ],
      "text/plain": [
       "   InvoiceNo  Quantity         InvoiceDate  UnitPrice  CustomerID  Total\n",
       "0     536365         6 2010-12-01 08:26:00       2.55     17850.0  15.30\n",
       "1     536365         6 2010-12-01 08:26:00       3.39     17850.0  20.34\n",
       "2     536365         8 2010-12-01 08:26:00       2.75     17850.0  22.00\n",
       "3     536365         6 2010-12-01 08:26:00       3.39     17850.0  20.34\n",
       "4     536365         6 2010-12-01 08:26:00       3.39     17850.0  20.34\n",
       "..       ...       ...                 ...        ...         ...    ...\n",
       "95    536378         6 2010-12-01 09:37:00       2.55     14688.0  15.30\n",
       "96    536378       120 2010-12-01 09:37:00       0.42     14688.0  50.40\n",
       "97    536378        24 2010-12-01 09:37:00       0.55     14688.0  13.20\n",
       "98    536378        24 2010-12-01 09:37:00       0.55     14688.0  13.20\n",
       "99    536378        24 2010-12-01 09:37:00       0.55     14688.0  13.20\n",
       "\n",
       "[100 rows x 6 columns]"
      ]
     },
     "execution_count": 27,
     "metadata": {},
     "output_type": "execute_result"
    }
   ],
   "source": [
    "df1[\"Total\"]=df1[\"Quantity\"]*df1[\"UnitPrice\"]\n",
    "df1.head(100)"
   ]
  },
  {
   "cell_type": "code",
   "execution_count": 28,
   "id": "5a224a86",
   "metadata": {},
   "outputs": [],
   "source": [
    "# now drop  qty and unit price "
   ]
  },
  {
   "cell_type": "code",
   "execution_count": 29,
   "id": "3d84d999",
   "metadata": {},
   "outputs": [
    {
     "data": {
      "text/html": [
       "<div>\n",
       "<style scoped>\n",
       "    .dataframe tbody tr th:only-of-type {\n",
       "        vertical-align: middle;\n",
       "    }\n",
       "\n",
       "    .dataframe tbody tr th {\n",
       "        vertical-align: top;\n",
       "    }\n",
       "\n",
       "    .dataframe thead th {\n",
       "        text-align: right;\n",
       "    }\n",
       "</style>\n",
       "<table border=\"1\" class=\"dataframe\">\n",
       "  <thead>\n",
       "    <tr style=\"text-align: right;\">\n",
       "      <th></th>\n",
       "      <th>InvoiceNo</th>\n",
       "      <th>InvoiceDate</th>\n",
       "      <th>CustomerID</th>\n",
       "      <th>Total</th>\n",
       "    </tr>\n",
       "  </thead>\n",
       "  <tbody>\n",
       "    <tr>\n",
       "      <th>0</th>\n",
       "      <td>536365</td>\n",
       "      <td>2010-12-01 08:26:00</td>\n",
       "      <td>17850.0</td>\n",
       "      <td>15.30</td>\n",
       "    </tr>\n",
       "    <tr>\n",
       "      <th>1</th>\n",
       "      <td>536365</td>\n",
       "      <td>2010-12-01 08:26:00</td>\n",
       "      <td>17850.0</td>\n",
       "      <td>20.34</td>\n",
       "    </tr>\n",
       "    <tr>\n",
       "      <th>2</th>\n",
       "      <td>536365</td>\n",
       "      <td>2010-12-01 08:26:00</td>\n",
       "      <td>17850.0</td>\n",
       "      <td>22.00</td>\n",
       "    </tr>\n",
       "    <tr>\n",
       "      <th>3</th>\n",
       "      <td>536365</td>\n",
       "      <td>2010-12-01 08:26:00</td>\n",
       "      <td>17850.0</td>\n",
       "      <td>20.34</td>\n",
       "    </tr>\n",
       "    <tr>\n",
       "      <th>4</th>\n",
       "      <td>536365</td>\n",
       "      <td>2010-12-01 08:26:00</td>\n",
       "      <td>17850.0</td>\n",
       "      <td>20.34</td>\n",
       "    </tr>\n",
       "  </tbody>\n",
       "</table>\n",
       "</div>"
      ],
      "text/plain": [
       "  InvoiceNo         InvoiceDate  CustomerID  Total\n",
       "0    536365 2010-12-01 08:26:00     17850.0  15.30\n",
       "1    536365 2010-12-01 08:26:00     17850.0  20.34\n",
       "2    536365 2010-12-01 08:26:00     17850.0  22.00\n",
       "3    536365 2010-12-01 08:26:00     17850.0  20.34\n",
       "4    536365 2010-12-01 08:26:00     17850.0  20.34"
      ]
     },
     "execution_count": 29,
     "metadata": {},
     "output_type": "execute_result"
    }
   ],
   "source": [
    "df2=df1.drop([\"Quantity\",\"UnitPrice\"],axis=1)\n",
    "df2.head()"
   ]
  },
  {
   "cell_type": "code",
   "execution_count": 30,
   "id": "5754a019",
   "metadata": {},
   "outputs": [],
   "source": [
    "df_final=df2.groupby([\"InvoiceNo\",\"InvoiceDate\",\"CustomerID\"]).agg({\"Total\":\"sum\"}).reset_index()"
   ]
  },
  {
   "cell_type": "code",
   "execution_count": 31,
   "id": "f5a0931b",
   "metadata": {},
   "outputs": [
    {
     "data": {
      "text/html": [
       "<div>\n",
       "<style scoped>\n",
       "    .dataframe tbody tr th:only-of-type {\n",
       "        vertical-align: middle;\n",
       "    }\n",
       "\n",
       "    .dataframe tbody tr th {\n",
       "        vertical-align: top;\n",
       "    }\n",
       "\n",
       "    .dataframe thead th {\n",
       "        text-align: right;\n",
       "    }\n",
       "</style>\n",
       "<table border=\"1\" class=\"dataframe\">\n",
       "  <thead>\n",
       "    <tr style=\"text-align: right;\">\n",
       "      <th></th>\n",
       "      <th>InvoiceNo</th>\n",
       "      <th>InvoiceDate</th>\n",
       "      <th>CustomerID</th>\n",
       "      <th>Total</th>\n",
       "    </tr>\n",
       "  </thead>\n",
       "  <tbody>\n",
       "    <tr>\n",
       "      <th>0</th>\n",
       "      <td>536365</td>\n",
       "      <td>2010-12-01 08:26:00</td>\n",
       "      <td>17850.0</td>\n",
       "      <td>139.12</td>\n",
       "    </tr>\n",
       "    <tr>\n",
       "      <th>1</th>\n",
       "      <td>536366</td>\n",
       "      <td>2010-12-01 08:28:00</td>\n",
       "      <td>17850.0</td>\n",
       "      <td>22.20</td>\n",
       "    </tr>\n",
       "    <tr>\n",
       "      <th>2</th>\n",
       "      <td>536367</td>\n",
       "      <td>2010-12-01 08:34:00</td>\n",
       "      <td>13047.0</td>\n",
       "      <td>278.73</td>\n",
       "    </tr>\n",
       "    <tr>\n",
       "      <th>3</th>\n",
       "      <td>536368</td>\n",
       "      <td>2010-12-01 08:34:00</td>\n",
       "      <td>13047.0</td>\n",
       "      <td>70.05</td>\n",
       "    </tr>\n",
       "    <tr>\n",
       "      <th>4</th>\n",
       "      <td>536369</td>\n",
       "      <td>2010-12-01 08:35:00</td>\n",
       "      <td>13047.0</td>\n",
       "      <td>17.85</td>\n",
       "    </tr>\n",
       "  </tbody>\n",
       "</table>\n",
       "</div>"
      ],
      "text/plain": [
       "   InvoiceNo         InvoiceDate  CustomerID   Total\n",
       "0     536365 2010-12-01 08:26:00     17850.0  139.12\n",
       "1     536366 2010-12-01 08:28:00     17850.0   22.20\n",
       "2     536367 2010-12-01 08:34:00     13047.0  278.73\n",
       "3     536368 2010-12-01 08:34:00     13047.0   70.05\n",
       "4     536369 2010-12-01 08:35:00     13047.0   17.85"
      ]
     },
     "execution_count": 31,
     "metadata": {},
     "output_type": "execute_result"
    }
   ],
   "source": [
    "df_final.head()"
   ]
  },
  {
   "cell_type": "code",
   "execution_count": 32,
   "id": "aac410f3",
   "metadata": {},
   "outputs": [
    {
     "name": "stdout",
     "output_type": "stream",
     "text": [
      "<class 'pandas.core.frame.DataFrame'>\n",
      "RangeIndex: 18566 entries, 0 to 18565\n",
      "Data columns (total 4 columns):\n",
      " #   Column       Non-Null Count  Dtype         \n",
      "---  ------       --------------  -----         \n",
      " 0   InvoiceNo    18566 non-null  int64         \n",
      " 1   InvoiceDate  18566 non-null  datetime64[ns]\n",
      " 2   CustomerID   18566 non-null  float64       \n",
      " 3   Total        18566 non-null  float64       \n",
      "dtypes: datetime64[ns](1), float64(2), int64(1)\n",
      "memory usage: 580.3 KB\n"
     ]
    }
   ],
   "source": [
    "df_final.info()"
   ]
  },
  {
   "cell_type": "code",
   "execution_count": 33,
   "id": "361b151b",
   "metadata": {},
   "outputs": [],
   "source": [
    "# Goal 1:- performing customer segmentation on the basis of R F M"
   ]
  },
  {
   "cell_type": "code",
   "execution_count": 34,
   "id": "89349661",
   "metadata": {},
   "outputs": [],
   "source": [
    "# calculate the last date and recent date of the dataset"
   ]
  },
  {
   "cell_type": "code",
   "execution_count": 35,
   "id": "d75eac65",
   "metadata": {},
   "outputs": [
    {
     "data": {
      "text/plain": [
       "Timestamp('2011-12-09 12:50:00')"
      ]
     },
     "execution_count": 35,
     "metadata": {},
     "output_type": "execute_result"
    }
   ],
   "source": [
    "max(df_final[\"InvoiceDate\"])"
   ]
  },
  {
   "cell_type": "code",
   "execution_count": 36,
   "id": "a1847f91",
   "metadata": {},
   "outputs": [
    {
     "data": {
      "text/plain": [
       "Timestamp('2010-12-01 08:26:00')"
      ]
     },
     "execution_count": 36,
     "metadata": {},
     "output_type": "execute_result"
    }
   ],
   "source": [
    "min(df_final[\"InvoiceDate\"])"
   ]
  },
  {
   "cell_type": "code",
   "execution_count": 37,
   "id": "d3d091be",
   "metadata": {},
   "outputs": [],
   "source": [
    "# the given dataset belongs  Dec 1st 2010 to Dec 9th 2011"
   ]
  },
  {
   "cell_type": "code",
   "execution_count": null,
   "id": "e3ae6e0f",
   "metadata": {},
   "outputs": [],
   "source": []
  },
  {
   "cell_type": "code",
   "execution_count": 38,
   "id": "2dcb0d00",
   "metadata": {},
   "outputs": [],
   "source": [
    "# set the last date as benchmark by adding +1 day extra"
   ]
  },
  {
   "cell_type": "code",
   "execution_count": 39,
   "id": "2bf1807c",
   "metadata": {},
   "outputs": [
    {
     "data": {
      "text/plain": [
       "datetime.datetime(2011, 12, 10, 0, 0)"
      ]
     },
     "execution_count": 39,
     "metadata": {},
     "output_type": "execute_result"
    }
   ],
   "source": [
    "import datetime as dt\n",
    "latest_date=dt.datetime(2011,12,10)\n",
    "latest_date"
   ]
  },
  {
   "cell_type": "markdown",
   "id": "0b9961a1",
   "metadata": {},
   "source": [
    "# by keeping reference as customer id\n",
    "1.Recency - difference between last invoice date and latest date\n",
    "2.Frequency-Counts of invoice no.( how many times the Cust ID appear)\n",
    "3.Monetary-sum of total- from total column."
   ]
  },
  {
   "cell_type": "code",
   "execution_count": 40,
   "id": "704cc3c9",
   "metadata": {},
   "outputs": [],
   "source": [
    "RFM_Score=df_final.groupby(\"CustomerID\").agg({\"InvoiceDate\":lambda x:(latest_date-x.max()).days,\n",
    "                                             \"InvoiceNo\":lambda x:x.count(),\n",
    "                                             \"Total\":lambda x:x.sum()}).reset_index()"
   ]
  },
  {
   "cell_type": "code",
   "execution_count": 41,
   "id": "a88e779e",
   "metadata": {},
   "outputs": [],
   "source": [
    "# we are calculating recency, frequency , monetary under the columns of invoice date,invoice no.total"
   ]
  },
  {
   "cell_type": "code",
   "execution_count": 42,
   "id": "533c3e98",
   "metadata": {},
   "outputs": [
    {
     "data": {
      "text/html": [
       "<div>\n",
       "<style scoped>\n",
       "    .dataframe tbody tr th:only-of-type {\n",
       "        vertical-align: middle;\n",
       "    }\n",
       "\n",
       "    .dataframe tbody tr th {\n",
       "        vertical-align: top;\n",
       "    }\n",
       "\n",
       "    .dataframe thead th {\n",
       "        text-align: right;\n",
       "    }\n",
       "</style>\n",
       "<table border=\"1\" class=\"dataframe\">\n",
       "  <thead>\n",
       "    <tr style=\"text-align: right;\">\n",
       "      <th></th>\n",
       "      <th>CustomerID</th>\n",
       "      <th>InvoiceDate</th>\n",
       "      <th>InvoiceNo</th>\n",
       "      <th>Total</th>\n",
       "    </tr>\n",
       "  </thead>\n",
       "  <tbody>\n",
       "    <tr>\n",
       "      <th>0</th>\n",
       "      <td>12346.0</td>\n",
       "      <td>325</td>\n",
       "      <td>1</td>\n",
       "      <td>77183.60</td>\n",
       "    </tr>\n",
       "    <tr>\n",
       "      <th>1</th>\n",
       "      <td>12347.0</td>\n",
       "      <td>2</td>\n",
       "      <td>7</td>\n",
       "      <td>4310.00</td>\n",
       "    </tr>\n",
       "    <tr>\n",
       "      <th>2</th>\n",
       "      <td>12348.0</td>\n",
       "      <td>75</td>\n",
       "      <td>4</td>\n",
       "      <td>1797.24</td>\n",
       "    </tr>\n",
       "    <tr>\n",
       "      <th>3</th>\n",
       "      <td>12349.0</td>\n",
       "      <td>18</td>\n",
       "      <td>1</td>\n",
       "      <td>1757.55</td>\n",
       "    </tr>\n",
       "    <tr>\n",
       "      <th>4</th>\n",
       "      <td>12350.0</td>\n",
       "      <td>310</td>\n",
       "      <td>1</td>\n",
       "      <td>334.40</td>\n",
       "    </tr>\n",
       "  </tbody>\n",
       "</table>\n",
       "</div>"
      ],
      "text/plain": [
       "   CustomerID  InvoiceDate  InvoiceNo     Total\n",
       "0     12346.0          325          1  77183.60\n",
       "1     12347.0            2          7   4310.00\n",
       "2     12348.0           75          4   1797.24\n",
       "3     12349.0           18          1   1757.55\n",
       "4     12350.0          310          1    334.40"
      ]
     },
     "execution_count": 42,
     "metadata": {},
     "output_type": "execute_result"
    }
   ],
   "source": [
    "RFM_Score.head()"
   ]
  },
  {
   "cell_type": "code",
   "execution_count": 43,
   "id": "76182bf6",
   "metadata": {},
   "outputs": [],
   "source": [
    "# rename the column name\n",
    "RFM_Score=RFM_Score.rename(columns={\"InvoiceDate\":\"Recency\",\"InvoiceNo\":\"Frequency\",\"Total\":\"Monetary\"})"
   ]
  },
  {
   "cell_type": "code",
   "execution_count": 44,
   "id": "325e1551",
   "metadata": {},
   "outputs": [
    {
     "data": {
      "text/html": [
       "<div>\n",
       "<style scoped>\n",
       "    .dataframe tbody tr th:only-of-type {\n",
       "        vertical-align: middle;\n",
       "    }\n",
       "\n",
       "    .dataframe tbody tr th {\n",
       "        vertical-align: top;\n",
       "    }\n",
       "\n",
       "    .dataframe thead th {\n",
       "        text-align: right;\n",
       "    }\n",
       "</style>\n",
       "<table border=\"1\" class=\"dataframe\">\n",
       "  <thead>\n",
       "    <tr style=\"text-align: right;\">\n",
       "      <th></th>\n",
       "      <th>CustomerID</th>\n",
       "      <th>Recency</th>\n",
       "      <th>Frequency</th>\n",
       "      <th>Monetary</th>\n",
       "    </tr>\n",
       "  </thead>\n",
       "  <tbody>\n",
       "    <tr>\n",
       "      <th>0</th>\n",
       "      <td>12346.0</td>\n",
       "      <td>325</td>\n",
       "      <td>1</td>\n",
       "      <td>77183.60</td>\n",
       "    </tr>\n",
       "    <tr>\n",
       "      <th>1</th>\n",
       "      <td>12347.0</td>\n",
       "      <td>2</td>\n",
       "      <td>7</td>\n",
       "      <td>4310.00</td>\n",
       "    </tr>\n",
       "    <tr>\n",
       "      <th>2</th>\n",
       "      <td>12348.0</td>\n",
       "      <td>75</td>\n",
       "      <td>4</td>\n",
       "      <td>1797.24</td>\n",
       "    </tr>\n",
       "    <tr>\n",
       "      <th>3</th>\n",
       "      <td>12349.0</td>\n",
       "      <td>18</td>\n",
       "      <td>1</td>\n",
       "      <td>1757.55</td>\n",
       "    </tr>\n",
       "    <tr>\n",
       "      <th>4</th>\n",
       "      <td>12350.0</td>\n",
       "      <td>310</td>\n",
       "      <td>1</td>\n",
       "      <td>334.40</td>\n",
       "    </tr>\n",
       "  </tbody>\n",
       "</table>\n",
       "</div>"
      ],
      "text/plain": [
       "   CustomerID  Recency  Frequency  Monetary\n",
       "0     12346.0      325          1  77183.60\n",
       "1     12347.0        2          7   4310.00\n",
       "2     12348.0       75          4   1797.24\n",
       "3     12349.0       18          1   1757.55\n",
       "4     12350.0      310          1    334.40"
      ]
     },
     "execution_count": 44,
     "metadata": {},
     "output_type": "execute_result"
    }
   ],
   "source": [
    "RFM_Score.head()"
   ]
  },
  {
   "cell_type": "code",
   "execution_count": null,
   "id": "7fe7b7f0",
   "metadata": {},
   "outputs": [],
   "source": []
  },
  {
   "cell_type": "markdown",
   "id": "814c0cf1",
   "metadata": {},
   "source": [
    "# Calculate the marks on the basis of  R , F ,M"
   ]
  },
  {
   "cell_type": "markdown",
   "id": "94008ab5",
   "metadata": {},
   "source": [
    "Pandas Dataframe.rank() method returns a rank of every respective \n",
    "index of a series passed. The rank is returned on the basis of \n",
    "position after sorting.\n",
    "Syntax:\n",
    "DataFrame.rank(axis=0, method=’average’, numeric_only=None, \n",
    "               na_option=’keep’, ascending=True, pct=False)"
   ]
  },
  {
   "cell_type": "markdown",
   "id": "575c66e8",
   "metadata": {},
   "source": [
    "Parameters:\n",
    "axis: 0 or ‘index’ for rows and 1 or ‘columns’ for Column.\n",
    "method: Takes a string input(‘average’, ‘min’, ‘max’, ‘first’, ‘dense’) which tells pandas what to do with same values. Default is average which means assign average of ranks to the similar values.\n",
    "numeric_only: Takes a boolean value and the rank function works on non-numeric value only if it’s False.\n",
    "na_option: Takes 3 string input(‘keep’, ‘top’, ‘bottom’) to set position of Null values if any in the passed Series.\n",
    "ascending: Boolean value which ranks in ascending order if True.\n",
    "pct: Boolean value which ranks percentage wise if True."
   ]
  },
  {
   "cell_type": "code",
   "execution_count": 46,
   "id": "5f761b1b",
   "metadata": {},
   "outputs": [],
   "source": [
    "RFM1=RFM_Score.copy()"
   ]
  },
  {
   "cell_type": "code",
   "execution_count": null,
   "id": "a209eb10",
   "metadata": {},
   "outputs": [],
   "source": [
    "# recency Marks"
   ]
  },
  {
   "cell_type": "code",
   "execution_count": 47,
   "id": "62619ab2",
   "metadata": {},
   "outputs": [],
   "source": [
    "RFM1[\"R_marks\"]=RFM1[\"Recency\"].rank(ascending=False)"
   ]
  },
  {
   "cell_type": "code",
   "execution_count": 48,
   "id": "6310ca23",
   "metadata": {},
   "outputs": [
    {
     "data": {
      "text/plain": [
       "0        162.5\n",
       "1       4156.5\n",
       "2       1646.0\n",
       "3       3209.5\n",
       "4        227.5\n",
       "         ...  \n",
       "4334     355.0\n",
       "4335     860.0\n",
       "4336    3839.5\n",
       "4337    4064.5\n",
       "4338    2357.0\n",
       "Name: R_marks, Length: 4339, dtype: float64"
      ]
     },
     "execution_count": 48,
     "metadata": {},
     "output_type": "execute_result"
    }
   ],
   "source": [
    "RFM1[\"R_marks\"]"
   ]
  },
  {
   "cell_type": "code",
   "execution_count": null,
   "id": "77250c7e",
   "metadata": {},
   "outputs": [],
   "source": [
    "#RFM1[\"R_rank\"]=RFM1[\"Recency\"].rank(ascending=False)"
   ]
  },
  {
   "cell_type": "code",
   "execution_count": null,
   "id": "a7753c65",
   "metadata": {},
   "outputs": [],
   "source": [
    "#Frequency Mark"
   ]
  },
  {
   "cell_type": "code",
   "execution_count": 49,
   "id": "98a5ba0c",
   "metadata": {},
   "outputs": [],
   "source": [
    "RFM1[\"F_marks\"]=RFM1[\"Frequency\"].rank(ascending=True)\n"
   ]
  },
  {
   "cell_type": "code",
   "execution_count": 50,
   "id": "5b78ead0",
   "metadata": {},
   "outputs": [
    {
     "data": {
      "text/plain": [
       "0        746.5\n",
       "1       3709.5\n",
       "2       3028.0\n",
       "3        746.5\n",
       "4        746.5\n",
       "         ...  \n",
       "4334     746.5\n",
       "4335     746.5\n",
       "4336    1910.5\n",
       "4337    4182.5\n",
       "4338    2581.5\n",
       "Name: F_marks, Length: 4339, dtype: float64"
      ]
     },
     "execution_count": 50,
     "metadata": {},
     "output_type": "execute_result"
    }
   ],
   "source": [
    "RFM1[\"F_marks\"]"
   ]
  },
  {
   "cell_type": "code",
   "execution_count": null,
   "id": "373bf8bf",
   "metadata": {},
   "outputs": [],
   "source": [
    "RFM_Score.head()"
   ]
  },
  {
   "cell_type": "code",
   "execution_count": null,
   "id": "41b9659f",
   "metadata": {},
   "outputs": [],
   "source": [
    "#Monetary Mark"
   ]
  },
  {
   "cell_type": "code",
   "execution_count": 51,
   "id": "08dff52a",
   "metadata": {},
   "outputs": [],
   "source": [
    "RFM1[\"M_marks\"]=RFM1[\"Monetary\"].rank(ascending=True)\n"
   ]
  },
  {
   "cell_type": "code",
   "execution_count": 52,
   "id": "06c635e5",
   "metadata": {},
   "outputs": [
    {
     "data": {
      "text/plain": [
       "0       4330.0\n",
       "1       4004.0\n",
       "2       3334.0\n",
       "3       3306.0\n",
       "4       1230.0\n",
       "         ...  \n",
       "4334     564.0\n",
       "4335     105.0\n",
       "4336     547.0\n",
       "4337    3489.0\n",
       "4338    3357.0\n",
       "Name: M_marks, Length: 4339, dtype: float64"
      ]
     },
     "execution_count": 52,
     "metadata": {},
     "output_type": "execute_result"
    }
   ],
   "source": [
    "RFM1[\"M_marks\"]"
   ]
  },
  {
   "cell_type": "code",
   "execution_count": 53,
   "id": "6452726d",
   "metadata": {},
   "outputs": [
    {
     "data": {
      "text/html": [
       "<div>\n",
       "<style scoped>\n",
       "    .dataframe tbody tr th:only-of-type {\n",
       "        vertical-align: middle;\n",
       "    }\n",
       "\n",
       "    .dataframe tbody tr th {\n",
       "        vertical-align: top;\n",
       "    }\n",
       "\n",
       "    .dataframe thead th {\n",
       "        text-align: right;\n",
       "    }\n",
       "</style>\n",
       "<table border=\"1\" class=\"dataframe\">\n",
       "  <thead>\n",
       "    <tr style=\"text-align: right;\">\n",
       "      <th></th>\n",
       "      <th>CustomerID</th>\n",
       "      <th>Recency</th>\n",
       "      <th>Frequency</th>\n",
       "      <th>Monetary</th>\n",
       "      <th>R_marks</th>\n",
       "      <th>F_marks</th>\n",
       "      <th>M_marks</th>\n",
       "    </tr>\n",
       "  </thead>\n",
       "  <tbody>\n",
       "    <tr>\n",
       "      <th>0</th>\n",
       "      <td>12346.0</td>\n",
       "      <td>325</td>\n",
       "      <td>1</td>\n",
       "      <td>77183.60</td>\n",
       "      <td>162.5</td>\n",
       "      <td>746.5</td>\n",
       "      <td>4330.0</td>\n",
       "    </tr>\n",
       "    <tr>\n",
       "      <th>1</th>\n",
       "      <td>12347.0</td>\n",
       "      <td>2</td>\n",
       "      <td>7</td>\n",
       "      <td>4310.00</td>\n",
       "      <td>4156.5</td>\n",
       "      <td>3709.5</td>\n",
       "      <td>4004.0</td>\n",
       "    </tr>\n",
       "    <tr>\n",
       "      <th>2</th>\n",
       "      <td>12348.0</td>\n",
       "      <td>75</td>\n",
       "      <td>4</td>\n",
       "      <td>1797.24</td>\n",
       "      <td>1646.0</td>\n",
       "      <td>3028.0</td>\n",
       "      <td>3334.0</td>\n",
       "    </tr>\n",
       "    <tr>\n",
       "      <th>3</th>\n",
       "      <td>12349.0</td>\n",
       "      <td>18</td>\n",
       "      <td>1</td>\n",
       "      <td>1757.55</td>\n",
       "      <td>3209.5</td>\n",
       "      <td>746.5</td>\n",
       "      <td>3306.0</td>\n",
       "    </tr>\n",
       "    <tr>\n",
       "      <th>4</th>\n",
       "      <td>12350.0</td>\n",
       "      <td>310</td>\n",
       "      <td>1</td>\n",
       "      <td>334.40</td>\n",
       "      <td>227.5</td>\n",
       "      <td>746.5</td>\n",
       "      <td>1230.0</td>\n",
       "    </tr>\n",
       "  </tbody>\n",
       "</table>\n",
       "</div>"
      ],
      "text/plain": [
       "   CustomerID  Recency  Frequency  Monetary  R_marks  F_marks  M_marks\n",
       "0     12346.0      325          1  77183.60    162.5    746.5   4330.0\n",
       "1     12347.0        2          7   4310.00   4156.5   3709.5   4004.0\n",
       "2     12348.0       75          4   1797.24   1646.0   3028.0   3334.0\n",
       "3     12349.0       18          1   1757.55   3209.5    746.5   3306.0\n",
       "4     12350.0      310          1    334.40    227.5    746.5   1230.0"
      ]
     },
     "execution_count": 53,
     "metadata": {},
     "output_type": "execute_result"
    }
   ],
   "source": [
    "RFM1.head()"
   ]
  },
  {
   "cell_type": "code",
   "execution_count": null,
   "id": "0616c51e",
   "metadata": {},
   "outputs": [],
   "source": [
    "# percentage marks Recency"
   ]
  },
  {
   "cell_type": "code",
   "execution_count": 54,
   "id": "89328bd3",
   "metadata": {},
   "outputs": [],
   "source": [
    "RFM1[\"R_final\"]=(RFM1[\"R_marks\"]/RFM1[\"R_marks\"].max())*100\n"
   ]
  },
  {
   "cell_type": "code",
   "execution_count": 55,
   "id": "fa0fe95e",
   "metadata": {},
   "outputs": [
    {
     "data": {
      "text/plain": [
       "0        3.759833\n",
       "1       96.170754\n",
       "2       38.084220\n",
       "3       74.259602\n",
       "4        5.263767\n",
       "          ...    \n",
       "4334     8.213790\n",
       "4335    19.898195\n",
       "4336    88.836187\n",
       "4337    94.042110\n",
       "4338    54.534938\n",
       "Name: R_final, Length: 4339, dtype: float64"
      ]
     },
     "execution_count": 55,
     "metadata": {},
     "output_type": "execute_result"
    }
   ],
   "source": [
    "RFM1[\"R_final\"]"
   ]
  },
  {
   "cell_type": "code",
   "execution_count": null,
   "id": "119a5b38",
   "metadata": {},
   "outputs": [],
   "source": [
    "# percentage marks Frquency"
   ]
  },
  {
   "cell_type": "code",
   "execution_count": 56,
   "id": "8577678d",
   "metadata": {},
   "outputs": [],
   "source": [
    "RFM1[\"F_final\"]=(RFM1[\"F_marks\"]/RFM1[\"F_marks\"].max())*100\n"
   ]
  },
  {
   "cell_type": "code",
   "execution_count": 57,
   "id": "df97a5a0",
   "metadata": {},
   "outputs": [
    {
     "data": {
      "text/plain": [
       "0       17.204425\n",
       "1       85.492049\n",
       "2       69.785665\n",
       "3       17.204425\n",
       "4       17.204425\n",
       "          ...    \n",
       "4334    17.204425\n",
       "4335    17.204425\n",
       "4336    44.030883\n",
       "4337    96.393178\n",
       "4338    59.495275\n",
       "Name: F_final, Length: 4339, dtype: float64"
      ]
     },
     "execution_count": 57,
     "metadata": {},
     "output_type": "execute_result"
    }
   ],
   "source": [
    "RFM1[\"F_final\"]"
   ]
  },
  {
   "cell_type": "code",
   "execution_count": null,
   "id": "76ec64a2",
   "metadata": {},
   "outputs": [],
   "source": [
    "#percentage Marks Monetary"
   ]
  },
  {
   "cell_type": "code",
   "execution_count": 58,
   "id": "910d8b15",
   "metadata": {},
   "outputs": [],
   "source": [
    "RFM1[\"M_final\"]=(RFM1[\"M_marks\"]/RFM1[\"M_marks\"].max())*100"
   ]
  },
  {
   "cell_type": "code",
   "execution_count": 59,
   "id": "eab5858a",
   "metadata": {},
   "outputs": [
    {
     "data": {
      "text/plain": [
       "0       99.792579\n",
       "1       92.279327\n",
       "2       76.837981\n",
       "3       76.192671\n",
       "4       28.347546\n",
       "          ...    \n",
       "4334    12.998387\n",
       "4335     2.419912\n",
       "4336    12.606591\n",
       "4337    80.410233\n",
       "4338    77.368057\n",
       "Name: M_final, Length: 4339, dtype: float64"
      ]
     },
     "execution_count": 59,
     "metadata": {},
     "output_type": "execute_result"
    }
   ],
   "source": [
    "RFM1[\"M_final\"]"
   ]
  },
  {
   "cell_type": "code",
   "execution_count": 60,
   "id": "f54ef25f",
   "metadata": {},
   "outputs": [
    {
     "data": {
      "text/html": [
       "<div>\n",
       "<style scoped>\n",
       "    .dataframe tbody tr th:only-of-type {\n",
       "        vertical-align: middle;\n",
       "    }\n",
       "\n",
       "    .dataframe tbody tr th {\n",
       "        vertical-align: top;\n",
       "    }\n",
       "\n",
       "    .dataframe thead th {\n",
       "        text-align: right;\n",
       "    }\n",
       "</style>\n",
       "<table border=\"1\" class=\"dataframe\">\n",
       "  <thead>\n",
       "    <tr style=\"text-align: right;\">\n",
       "      <th></th>\n",
       "      <th>CustomerID</th>\n",
       "      <th>Recency</th>\n",
       "      <th>Frequency</th>\n",
       "      <th>Monetary</th>\n",
       "      <th>R_marks</th>\n",
       "      <th>F_marks</th>\n",
       "      <th>M_marks</th>\n",
       "      <th>R_final</th>\n",
       "      <th>F_final</th>\n",
       "      <th>M_final</th>\n",
       "    </tr>\n",
       "  </thead>\n",
       "  <tbody>\n",
       "    <tr>\n",
       "      <th>0</th>\n",
       "      <td>12346.0</td>\n",
       "      <td>325</td>\n",
       "      <td>1</td>\n",
       "      <td>77183.60</td>\n",
       "      <td>162.5</td>\n",
       "      <td>746.5</td>\n",
       "      <td>4330.0</td>\n",
       "      <td>3.759833</td>\n",
       "      <td>17.204425</td>\n",
       "      <td>99.792579</td>\n",
       "    </tr>\n",
       "    <tr>\n",
       "      <th>1</th>\n",
       "      <td>12347.0</td>\n",
       "      <td>2</td>\n",
       "      <td>7</td>\n",
       "      <td>4310.00</td>\n",
       "      <td>4156.5</td>\n",
       "      <td>3709.5</td>\n",
       "      <td>4004.0</td>\n",
       "      <td>96.170754</td>\n",
       "      <td>85.492049</td>\n",
       "      <td>92.279327</td>\n",
       "    </tr>\n",
       "    <tr>\n",
       "      <th>2</th>\n",
       "      <td>12348.0</td>\n",
       "      <td>75</td>\n",
       "      <td>4</td>\n",
       "      <td>1797.24</td>\n",
       "      <td>1646.0</td>\n",
       "      <td>3028.0</td>\n",
       "      <td>3334.0</td>\n",
       "      <td>38.084220</td>\n",
       "      <td>69.785665</td>\n",
       "      <td>76.837981</td>\n",
       "    </tr>\n",
       "    <tr>\n",
       "      <th>3</th>\n",
       "      <td>12349.0</td>\n",
       "      <td>18</td>\n",
       "      <td>1</td>\n",
       "      <td>1757.55</td>\n",
       "      <td>3209.5</td>\n",
       "      <td>746.5</td>\n",
       "      <td>3306.0</td>\n",
       "      <td>74.259602</td>\n",
       "      <td>17.204425</td>\n",
       "      <td>76.192671</td>\n",
       "    </tr>\n",
       "    <tr>\n",
       "      <th>4</th>\n",
       "      <td>12350.0</td>\n",
       "      <td>310</td>\n",
       "      <td>1</td>\n",
       "      <td>334.40</td>\n",
       "      <td>227.5</td>\n",
       "      <td>746.5</td>\n",
       "      <td>1230.0</td>\n",
       "      <td>5.263767</td>\n",
       "      <td>17.204425</td>\n",
       "      <td>28.347546</td>\n",
       "    </tr>\n",
       "  </tbody>\n",
       "</table>\n",
       "</div>"
      ],
      "text/plain": [
       "   CustomerID  Recency  Frequency  Monetary  R_marks  F_marks  M_marks  \\\n",
       "0     12346.0      325          1  77183.60    162.5    746.5   4330.0   \n",
       "1     12347.0        2          7   4310.00   4156.5   3709.5   4004.0   \n",
       "2     12348.0       75          4   1797.24   1646.0   3028.0   3334.0   \n",
       "3     12349.0       18          1   1757.55   3209.5    746.5   3306.0   \n",
       "4     12350.0      310          1    334.40    227.5    746.5   1230.0   \n",
       "\n",
       "     R_final    F_final    M_final  \n",
       "0   3.759833  17.204425  99.792579  \n",
       "1  96.170754  85.492049  92.279327  \n",
       "2  38.084220  69.785665  76.837981  \n",
       "3  74.259602  17.204425  76.192671  \n",
       "4   5.263767  17.204425  28.347546  "
      ]
     },
     "execution_count": 60,
     "metadata": {},
     "output_type": "execute_result"
    }
   ],
   "source": [
    "RFM1.head()"
   ]
  },
  {
   "cell_type": "code",
   "execution_count": 61,
   "id": "2acc7945",
   "metadata": {},
   "outputs": [],
   "source": [
    "RFM1.drop(columns=[\"R_marks\",\"F_marks\",\"M_marks\"],inplace=True)\n"
   ]
  },
  {
   "cell_type": "code",
   "execution_count": 62,
   "id": "4b797c85",
   "metadata": {},
   "outputs": [
    {
     "data": {
      "text/html": [
       "<div>\n",
       "<style scoped>\n",
       "    .dataframe tbody tr th:only-of-type {\n",
       "        vertical-align: middle;\n",
       "    }\n",
       "\n",
       "    .dataframe tbody tr th {\n",
       "        vertical-align: top;\n",
       "    }\n",
       "\n",
       "    .dataframe thead th {\n",
       "        text-align: right;\n",
       "    }\n",
       "</style>\n",
       "<table border=\"1\" class=\"dataframe\">\n",
       "  <thead>\n",
       "    <tr style=\"text-align: right;\">\n",
       "      <th></th>\n",
       "      <th>CustomerID</th>\n",
       "      <th>Recency</th>\n",
       "      <th>Frequency</th>\n",
       "      <th>Monetary</th>\n",
       "      <th>R_final</th>\n",
       "      <th>F_final</th>\n",
       "      <th>M_final</th>\n",
       "    </tr>\n",
       "  </thead>\n",
       "  <tbody>\n",
       "    <tr>\n",
       "      <th>0</th>\n",
       "      <td>12346.0</td>\n",
       "      <td>325</td>\n",
       "      <td>1</td>\n",
       "      <td>77183.60</td>\n",
       "      <td>3.759833</td>\n",
       "      <td>17.204425</td>\n",
       "      <td>99.792579</td>\n",
       "    </tr>\n",
       "    <tr>\n",
       "      <th>1</th>\n",
       "      <td>12347.0</td>\n",
       "      <td>2</td>\n",
       "      <td>7</td>\n",
       "      <td>4310.00</td>\n",
       "      <td>96.170754</td>\n",
       "      <td>85.492049</td>\n",
       "      <td>92.279327</td>\n",
       "    </tr>\n",
       "    <tr>\n",
       "      <th>2</th>\n",
       "      <td>12348.0</td>\n",
       "      <td>75</td>\n",
       "      <td>4</td>\n",
       "      <td>1797.24</td>\n",
       "      <td>38.084220</td>\n",
       "      <td>69.785665</td>\n",
       "      <td>76.837981</td>\n",
       "    </tr>\n",
       "    <tr>\n",
       "      <th>3</th>\n",
       "      <td>12349.0</td>\n",
       "      <td>18</td>\n",
       "      <td>1</td>\n",
       "      <td>1757.55</td>\n",
       "      <td>74.259602</td>\n",
       "      <td>17.204425</td>\n",
       "      <td>76.192671</td>\n",
       "    </tr>\n",
       "    <tr>\n",
       "      <th>4</th>\n",
       "      <td>12350.0</td>\n",
       "      <td>310</td>\n",
       "      <td>1</td>\n",
       "      <td>334.40</td>\n",
       "      <td>5.263767</td>\n",
       "      <td>17.204425</td>\n",
       "      <td>28.347546</td>\n",
       "    </tr>\n",
       "  </tbody>\n",
       "</table>\n",
       "</div>"
      ],
      "text/plain": [
       "   CustomerID  Recency  Frequency  Monetary    R_final    F_final    M_final\n",
       "0     12346.0      325          1  77183.60   3.759833  17.204425  99.792579\n",
       "1     12347.0        2          7   4310.00  96.170754  85.492049  92.279327\n",
       "2     12348.0       75          4   1797.24  38.084220  69.785665  76.837981\n",
       "3     12349.0       18          1   1757.55  74.259602  17.204425  76.192671\n",
       "4     12350.0      310          1    334.40   5.263767  17.204425  28.347546"
      ]
     },
     "execution_count": 62,
     "metadata": {},
     "output_type": "execute_result"
    }
   ],
   "source": [
    "RFM1.head()"
   ]
  },
  {
   "cell_type": "code",
   "execution_count": null,
   "id": "ab2b7d88",
   "metadata": {},
   "outputs": [],
   "source": [
    "#Final Marks as per weightage on R , F ,M"
   ]
  },
  {
   "cell_type": "code",
   "execution_count": 63,
   "id": "49be937c",
   "metadata": {},
   "outputs": [],
   "source": [
    "RFM1[\"RFM_SUM\"]=0.15*RFM1[\"R_final\"]+0.30*RFM1[\"F_final\"]+0.60*RFM1[\"M_final\"]"
   ]
  },
  {
   "cell_type": "code",
   "execution_count": 64,
   "id": "3dda8657",
   "metadata": {},
   "outputs": [
    {
     "data": {
      "text/html": [
       "<div>\n",
       "<style scoped>\n",
       "    .dataframe tbody tr th:only-of-type {\n",
       "        vertical-align: middle;\n",
       "    }\n",
       "\n",
       "    .dataframe tbody tr th {\n",
       "        vertical-align: top;\n",
       "    }\n",
       "\n",
       "    .dataframe thead th {\n",
       "        text-align: right;\n",
       "    }\n",
       "</style>\n",
       "<table border=\"1\" class=\"dataframe\">\n",
       "  <thead>\n",
       "    <tr style=\"text-align: right;\">\n",
       "      <th></th>\n",
       "      <th>CustomerID</th>\n",
       "      <th>Recency</th>\n",
       "      <th>Frequency</th>\n",
       "      <th>Monetary</th>\n",
       "      <th>R_final</th>\n",
       "      <th>F_final</th>\n",
       "      <th>M_final</th>\n",
       "      <th>RFM_SUM</th>\n",
       "    </tr>\n",
       "  </thead>\n",
       "  <tbody>\n",
       "    <tr>\n",
       "      <th>0</th>\n",
       "      <td>12346.0</td>\n",
       "      <td>325</td>\n",
       "      <td>1</td>\n",
       "      <td>77183.60</td>\n",
       "      <td>3.759833</td>\n",
       "      <td>17.204425</td>\n",
       "      <td>99.792579</td>\n",
       "      <td>65.600850</td>\n",
       "    </tr>\n",
       "    <tr>\n",
       "      <th>1</th>\n",
       "      <td>12347.0</td>\n",
       "      <td>2</td>\n",
       "      <td>7</td>\n",
       "      <td>4310.00</td>\n",
       "      <td>96.170754</td>\n",
       "      <td>85.492049</td>\n",
       "      <td>92.279327</td>\n",
       "      <td>95.440824</td>\n",
       "    </tr>\n",
       "    <tr>\n",
       "      <th>2</th>\n",
       "      <td>12348.0</td>\n",
       "      <td>75</td>\n",
       "      <td>4</td>\n",
       "      <td>1797.24</td>\n",
       "      <td>38.084220</td>\n",
       "      <td>69.785665</td>\n",
       "      <td>76.837981</td>\n",
       "      <td>72.751121</td>\n",
       "    </tr>\n",
       "    <tr>\n",
       "      <th>3</th>\n",
       "      <td>12349.0</td>\n",
       "      <td>18</td>\n",
       "      <td>1</td>\n",
       "      <td>1757.55</td>\n",
       "      <td>74.259602</td>\n",
       "      <td>17.204425</td>\n",
       "      <td>76.192671</td>\n",
       "      <td>62.015870</td>\n",
       "    </tr>\n",
       "    <tr>\n",
       "      <th>4</th>\n",
       "      <td>12350.0</td>\n",
       "      <td>310</td>\n",
       "      <td>1</td>\n",
       "      <td>334.40</td>\n",
       "      <td>5.263767</td>\n",
       "      <td>17.204425</td>\n",
       "      <td>28.347546</td>\n",
       "      <td>22.959420</td>\n",
       "    </tr>\n",
       "  </tbody>\n",
       "</table>\n",
       "</div>"
      ],
      "text/plain": [
       "   CustomerID  Recency  Frequency  Monetary    R_final    F_final    M_final  \\\n",
       "0     12346.0      325          1  77183.60   3.759833  17.204425  99.792579   \n",
       "1     12347.0        2          7   4310.00  96.170754  85.492049  92.279327   \n",
       "2     12348.0       75          4   1797.24  38.084220  69.785665  76.837981   \n",
       "3     12349.0       18          1   1757.55  74.259602  17.204425  76.192671   \n",
       "4     12350.0      310          1    334.40   5.263767  17.204425  28.347546   \n",
       "\n",
       "     RFM_SUM  \n",
       "0  65.600850  \n",
       "1  95.440824  \n",
       "2  72.751121  \n",
       "3  62.015870  \n",
       "4  22.959420  "
      ]
     },
     "execution_count": 64,
     "metadata": {},
     "output_type": "execute_result"
    }
   ],
   "source": [
    "RFM1.head()"
   ]
  },
  {
   "cell_type": "code",
   "execution_count": 65,
   "id": "4fe31dab",
   "metadata": {},
   "outputs": [],
   "source": [
    "RFM1=RFM1.round(2)"
   ]
  },
  {
   "cell_type": "code",
   "execution_count": 66,
   "id": "186ddbb3",
   "metadata": {},
   "outputs": [
    {
     "data": {
      "text/html": [
       "<div>\n",
       "<style scoped>\n",
       "    .dataframe tbody tr th:only-of-type {\n",
       "        vertical-align: middle;\n",
       "    }\n",
       "\n",
       "    .dataframe tbody tr th {\n",
       "        vertical-align: top;\n",
       "    }\n",
       "\n",
       "    .dataframe thead th {\n",
       "        text-align: right;\n",
       "    }\n",
       "</style>\n",
       "<table border=\"1\" class=\"dataframe\">\n",
       "  <thead>\n",
       "    <tr style=\"text-align: right;\">\n",
       "      <th></th>\n",
       "      <th>CustomerID</th>\n",
       "      <th>Recency</th>\n",
       "      <th>Frequency</th>\n",
       "      <th>Monetary</th>\n",
       "      <th>R_final</th>\n",
       "      <th>F_final</th>\n",
       "      <th>M_final</th>\n",
       "      <th>RFM_SUM</th>\n",
       "    </tr>\n",
       "  </thead>\n",
       "  <tbody>\n",
       "    <tr>\n",
       "      <th>0</th>\n",
       "      <td>12346.0</td>\n",
       "      <td>325</td>\n",
       "      <td>1</td>\n",
       "      <td>77183.60</td>\n",
       "      <td>3.76</td>\n",
       "      <td>17.20</td>\n",
       "      <td>99.79</td>\n",
       "      <td>65.60</td>\n",
       "    </tr>\n",
       "    <tr>\n",
       "      <th>1</th>\n",
       "      <td>12347.0</td>\n",
       "      <td>2</td>\n",
       "      <td>7</td>\n",
       "      <td>4310.00</td>\n",
       "      <td>96.17</td>\n",
       "      <td>85.49</td>\n",
       "      <td>92.28</td>\n",
       "      <td>95.44</td>\n",
       "    </tr>\n",
       "    <tr>\n",
       "      <th>2</th>\n",
       "      <td>12348.0</td>\n",
       "      <td>75</td>\n",
       "      <td>4</td>\n",
       "      <td>1797.24</td>\n",
       "      <td>38.08</td>\n",
       "      <td>69.79</td>\n",
       "      <td>76.84</td>\n",
       "      <td>72.75</td>\n",
       "    </tr>\n",
       "    <tr>\n",
       "      <th>3</th>\n",
       "      <td>12349.0</td>\n",
       "      <td>18</td>\n",
       "      <td>1</td>\n",
       "      <td>1757.55</td>\n",
       "      <td>74.26</td>\n",
       "      <td>17.20</td>\n",
       "      <td>76.19</td>\n",
       "      <td>62.02</td>\n",
       "    </tr>\n",
       "    <tr>\n",
       "      <th>4</th>\n",
       "      <td>12350.0</td>\n",
       "      <td>310</td>\n",
       "      <td>1</td>\n",
       "      <td>334.40</td>\n",
       "      <td>5.26</td>\n",
       "      <td>17.20</td>\n",
       "      <td>28.35</td>\n",
       "      <td>22.96</td>\n",
       "    </tr>\n",
       "  </tbody>\n",
       "</table>\n",
       "</div>"
      ],
      "text/plain": [
       "   CustomerID  Recency  Frequency  Monetary  R_final  F_final  M_final  \\\n",
       "0     12346.0      325          1  77183.60     3.76    17.20    99.79   \n",
       "1     12347.0        2          7   4310.00    96.17    85.49    92.28   \n",
       "2     12348.0       75          4   1797.24    38.08    69.79    76.84   \n",
       "3     12349.0       18          1   1757.55    74.26    17.20    76.19   \n",
       "4     12350.0      310          1    334.40     5.26    17.20    28.35   \n",
       "\n",
       "   RFM_SUM  \n",
       "0    65.60  \n",
       "1    95.44  \n",
       "2    72.75  \n",
       "3    62.02  \n",
       "4    22.96  "
      ]
     },
     "execution_count": 66,
     "metadata": {},
     "output_type": "execute_result"
    }
   ],
   "source": [
    "RFM1.head()"
   ]
  },
  {
   "cell_type": "code",
   "execution_count": null,
   "id": "7ca9d68a",
   "metadata": {},
   "outputs": [],
   "source": [
    "# segmentation of customers in 4 groups-silver,gold,diamond, platinum"
   ]
  },
  {
   "cell_type": "code",
   "execution_count": 68,
   "id": "71dc5408",
   "metadata": {},
   "outputs": [],
   "source": [
    "loyality_label=[\"Silver\",\"Gold\",\"Diamond\",\"Platinum\"]"
   ]
  },
  {
   "cell_type": "code",
   "execution_count": 67,
   "id": "c1f7c6e4",
   "metadata": {},
   "outputs": [],
   "source": [
    "quant100=RFM1[\"RFM_SUM\"].quantile(q=[0.25,0.50,0.75])"
   ]
  },
  {
   "cell_type": "code",
   "execution_count": 69,
   "id": "5ff23e24",
   "metadata": {},
   "outputs": [
    {
     "data": {
      "text/plain": [
       "0.25    28.365\n",
       "0.50    51.290\n",
       "0.75    75.885\n",
       "Name: RFM_SUM, dtype: float64"
      ]
     },
     "execution_count": 69,
     "metadata": {},
     "output_type": "execute_result"
    }
   ],
   "source": [
    "quant100"
   ]
  },
  {
   "cell_type": "code",
   "execution_count": 70,
   "id": "1233c7dc",
   "metadata": {},
   "outputs": [
    {
     "data": {
      "text/plain": [
       "104.92"
      ]
     },
     "execution_count": 70,
     "metadata": {},
     "output_type": "execute_result"
    }
   ],
   "source": [
    "max(RFM1[\"RFM_SUM\"])"
   ]
  },
  {
   "cell_type": "code",
   "execution_count": 71,
   "id": "b04c79b2",
   "metadata": {},
   "outputs": [
    {
     "data": {
      "text/plain": [
       "5.36"
      ]
     },
     "execution_count": 71,
     "metadata": {},
     "output_type": "execute_result"
    }
   ],
   "source": [
    "min(RFM1[\"RFM_SUM\"])"
   ]
  },
  {
   "cell_type": "code",
   "execution_count": 82,
   "id": "fbb4e3b3",
   "metadata": {},
   "outputs": [
    {
     "data": {
      "text/plain": [
       "<AxesSubplot:xlabel='RFM_SUM', ylabel='Proportion'>"
      ]
     },
     "execution_count": 82,
     "metadata": {},
     "output_type": "execute_result"
    },
    {
     "data": {
      "image/png": "[encoded data removed]",
      "text/plain": [
       "<Figure size 432x288 with 1 Axes>"
      ]
     },
     "metadata": {
      "needs_background": "light"
     },
     "output_type": "display_data"
    }
   ],
   "source": [
    "import seaborn as sns\n",
    "sns.ecdfplot(data=RFM1[\"RFM_SUM\"])"
   ]
  },
  {
   "cell_type": "code",
   "execution_count": null,
   "id": "bccfd8a8",
   "metadata": {},
   "outputs": [],
   "source": [
    "# assign the loyality label as per percentile"
   ]
  },
  {
   "cell_type": "code",
   "execution_count": 74,
   "id": "71bd8da4",
   "metadata": {},
   "outputs": [],
   "source": [
    "def loyality(X):\n",
    "    if X<=28:\n",
    "        return \"Silver\"\n",
    "    elif X<=51:\n",
    "        return \"Gold\"\n",
    "    elif X<=76:\n",
    "        return \"Diamond\"\n",
    "    else:\n",
    "        return \"Platinum\""
   ]
  },
  {
   "cell_type": "code",
   "execution_count": 75,
   "id": "e7b197cd",
   "metadata": {},
   "outputs": [],
   "source": [
    "RFM1[\"Loyality\"]=RFM1[\"RFM_SUM\"].apply(loyality)"
   ]
  },
  {
   "cell_type": "code",
   "execution_count": 76,
   "id": "82ad9ae4",
   "metadata": {},
   "outputs": [
    {
     "data": {
      "text/html": [
       "<div>\n",
       "<style scoped>\n",
       "    .dataframe tbody tr th:only-of-type {\n",
       "        vertical-align: middle;\n",
       "    }\n",
       "\n",
       "    .dataframe tbody tr th {\n",
       "        vertical-align: top;\n",
       "    }\n",
       "\n",
       "    .dataframe thead th {\n",
       "        text-align: right;\n",
       "    }\n",
       "</style>\n",
       "<table border=\"1\" class=\"dataframe\">\n",
       "  <thead>\n",
       "    <tr style=\"text-align: right;\">\n",
       "      <th></th>\n",
       "      <th>CustomerID</th>\n",
       "      <th>Recency</th>\n",
       "      <th>Frequency</th>\n",
       "      <th>Monetary</th>\n",
       "      <th>R_final</th>\n",
       "      <th>F_final</th>\n",
       "      <th>M_final</th>\n",
       "      <th>RFM_SUM</th>\n",
       "      <th>Loyality</th>\n",
       "    </tr>\n",
       "  </thead>\n",
       "  <tbody>\n",
       "    <tr>\n",
       "      <th>0</th>\n",
       "      <td>12346.0</td>\n",
       "      <td>325</td>\n",
       "      <td>1</td>\n",
       "      <td>77183.60</td>\n",
       "      <td>3.76</td>\n",
       "      <td>17.20</td>\n",
       "      <td>99.79</td>\n",
       "      <td>65.60</td>\n",
       "      <td>Diamond</td>\n",
       "    </tr>\n",
       "    <tr>\n",
       "      <th>1</th>\n",
       "      <td>12347.0</td>\n",
       "      <td>2</td>\n",
       "      <td>7</td>\n",
       "      <td>4310.00</td>\n",
       "      <td>96.17</td>\n",
       "      <td>85.49</td>\n",
       "      <td>92.28</td>\n",
       "      <td>95.44</td>\n",
       "      <td>Platinum</td>\n",
       "    </tr>\n",
       "    <tr>\n",
       "      <th>2</th>\n",
       "      <td>12348.0</td>\n",
       "      <td>75</td>\n",
       "      <td>4</td>\n",
       "      <td>1797.24</td>\n",
       "      <td>38.08</td>\n",
       "      <td>69.79</td>\n",
       "      <td>76.84</td>\n",
       "      <td>72.75</td>\n",
       "      <td>Diamond</td>\n",
       "    </tr>\n",
       "    <tr>\n",
       "      <th>3</th>\n",
       "      <td>12349.0</td>\n",
       "      <td>18</td>\n",
       "      <td>1</td>\n",
       "      <td>1757.55</td>\n",
       "      <td>74.26</td>\n",
       "      <td>17.20</td>\n",
       "      <td>76.19</td>\n",
       "      <td>62.02</td>\n",
       "      <td>Diamond</td>\n",
       "    </tr>\n",
       "    <tr>\n",
       "      <th>4</th>\n",
       "      <td>12350.0</td>\n",
       "      <td>310</td>\n",
       "      <td>1</td>\n",
       "      <td>334.40</td>\n",
       "      <td>5.26</td>\n",
       "      <td>17.20</td>\n",
       "      <td>28.35</td>\n",
       "      <td>22.96</td>\n",
       "      <td>Silver</td>\n",
       "    </tr>\n",
       "    <tr>\n",
       "      <th>...</th>\n",
       "      <td>...</td>\n",
       "      <td>...</td>\n",
       "      <td>...</td>\n",
       "      <td>...</td>\n",
       "      <td>...</td>\n",
       "      <td>...</td>\n",
       "      <td>...</td>\n",
       "      <td>...</td>\n",
       "      <td>...</td>\n",
       "    </tr>\n",
       "    <tr>\n",
       "      <th>4334</th>\n",
       "      <td>18280.0</td>\n",
       "      <td>277</td>\n",
       "      <td>1</td>\n",
       "      <td>180.60</td>\n",
       "      <td>8.21</td>\n",
       "      <td>17.20</td>\n",
       "      <td>13.00</td>\n",
       "      <td>14.19</td>\n",
       "      <td>Silver</td>\n",
       "    </tr>\n",
       "    <tr>\n",
       "      <th>4335</th>\n",
       "      <td>18281.0</td>\n",
       "      <td>180</td>\n",
       "      <td>1</td>\n",
       "      <td>80.82</td>\n",
       "      <td>19.90</td>\n",
       "      <td>17.20</td>\n",
       "      <td>2.42</td>\n",
       "      <td>9.60</td>\n",
       "      <td>Silver</td>\n",
       "    </tr>\n",
       "    <tr>\n",
       "      <th>4336</th>\n",
       "      <td>18282.0</td>\n",
       "      <td>7</td>\n",
       "      <td>2</td>\n",
       "      <td>178.05</td>\n",
       "      <td>88.84</td>\n",
       "      <td>44.03</td>\n",
       "      <td>12.61</td>\n",
       "      <td>34.10</td>\n",
       "      <td>Gold</td>\n",
       "    </tr>\n",
       "    <tr>\n",
       "      <th>4337</th>\n",
       "      <td>18283.0</td>\n",
       "      <td>3</td>\n",
       "      <td>16</td>\n",
       "      <td>2094.88</td>\n",
       "      <td>94.04</td>\n",
       "      <td>96.39</td>\n",
       "      <td>80.41</td>\n",
       "      <td>91.27</td>\n",
       "      <td>Platinum</td>\n",
       "    </tr>\n",
       "    <tr>\n",
       "      <th>4338</th>\n",
       "      <td>18287.0</td>\n",
       "      <td>42</td>\n",
       "      <td>3</td>\n",
       "      <td>1837.28</td>\n",
       "      <td>54.53</td>\n",
       "      <td>59.50</td>\n",
       "      <td>77.37</td>\n",
       "      <td>72.45</td>\n",
       "      <td>Diamond</td>\n",
       "    </tr>\n",
       "  </tbody>\n",
       "</table>\n",
       "<p>4339 rows × 9 columns</p>\n",
       "</div>"
      ],
      "text/plain": [
       "      CustomerID  Recency  Frequency  Monetary  R_final  F_final  M_final  \\\n",
       "0        12346.0      325          1  77183.60     3.76    17.20    99.79   \n",
       "1        12347.0        2          7   4310.00    96.17    85.49    92.28   \n",
       "2        12348.0       75          4   1797.24    38.08    69.79    76.84   \n",
       "3        12349.0       18          1   1757.55    74.26    17.20    76.19   \n",
       "4        12350.0      310          1    334.40     5.26    17.20    28.35   \n",
       "...          ...      ...        ...       ...      ...      ...      ...   \n",
       "4334     18280.0      277          1    180.60     8.21    17.20    13.00   \n",
       "4335     18281.0      180          1     80.82    19.90    17.20     2.42   \n",
       "4336     18282.0        7          2    178.05    88.84    44.03    12.61   \n",
       "4337     18283.0        3         16   2094.88    94.04    96.39    80.41   \n",
       "4338     18287.0       42          3   1837.28    54.53    59.50    77.37   \n",
       "\n",
       "      RFM_SUM  Loyality  \n",
       "0       65.60   Diamond  \n",
       "1       95.44  Platinum  \n",
       "2       72.75   Diamond  \n",
       "3       62.02   Diamond  \n",
       "4       22.96    Silver  \n",
       "...       ...       ...  \n",
       "4334    14.19    Silver  \n",
       "4335     9.60    Silver  \n",
       "4336    34.10      Gold  \n",
       "4337    91.27  Platinum  \n",
       "4338    72.45   Diamond  \n",
       "\n",
       "[4339 rows x 9 columns]"
      ]
     },
     "execution_count": 76,
     "metadata": {},
     "output_type": "execute_result"
    }
   ],
   "source": [
    "RFM1"
   ]
  },
  {
   "cell_type": "code",
   "execution_count": 77,
   "id": "6cf3c474",
   "metadata": {},
   "outputs": [
    {
     "data": {
      "text/plain": [
       "Diamond     1101\n",
       "Gold        1098\n",
       "Platinum    1080\n",
       "Silver      1060\n",
       "Name: Loyality, dtype: int64"
      ]
     },
     "execution_count": 77,
     "metadata": {},
     "output_type": "execute_result"
    }
   ],
   "source": [
    "RFM1[\"Loyality\"].value_counts()"
   ]
  },
  {
   "cell_type": "code",
   "execution_count": null,
   "id": "b8b3e739",
   "metadata": {},
   "outputs": [],
   "source": [
    "# segmentation -apply KMEANS algorithm"
   ]
  },
  {
   "cell_type": "code",
   "execution_count": 79,
   "id": "8eada132",
   "metadata": {},
   "outputs": [
    {
     "data": {
      "text/html": [
       "<div>\n",
       "<style scoped>\n",
       "    .dataframe tbody tr th:only-of-type {\n",
       "        vertical-align: middle;\n",
       "    }\n",
       "\n",
       "    .dataframe tbody tr th {\n",
       "        vertical-align: top;\n",
       "    }\n",
       "\n",
       "    .dataframe thead th {\n",
       "        text-align: right;\n",
       "    }\n",
       "</style>\n",
       "<table border=\"1\" class=\"dataframe\">\n",
       "  <thead>\n",
       "    <tr style=\"text-align: right;\">\n",
       "      <th></th>\n",
       "      <th>RFM_SUM</th>\n",
       "    </tr>\n",
       "  </thead>\n",
       "  <tbody>\n",
       "    <tr>\n",
       "      <th>0</th>\n",
       "      <td>65.60</td>\n",
       "    </tr>\n",
       "    <tr>\n",
       "      <th>1</th>\n",
       "      <td>95.44</td>\n",
       "    </tr>\n",
       "    <tr>\n",
       "      <th>2</th>\n",
       "      <td>72.75</td>\n",
       "    </tr>\n",
       "    <tr>\n",
       "      <th>3</th>\n",
       "      <td>62.02</td>\n",
       "    </tr>\n",
       "    <tr>\n",
       "      <th>4</th>\n",
       "      <td>22.96</td>\n",
       "    </tr>\n",
       "    <tr>\n",
       "      <th>...</th>\n",
       "      <td>...</td>\n",
       "    </tr>\n",
       "    <tr>\n",
       "      <th>4334</th>\n",
       "      <td>14.19</td>\n",
       "    </tr>\n",
       "    <tr>\n",
       "      <th>4335</th>\n",
       "      <td>9.60</td>\n",
       "    </tr>\n",
       "    <tr>\n",
       "      <th>4336</th>\n",
       "      <td>34.10</td>\n",
       "    </tr>\n",
       "    <tr>\n",
       "      <th>4337</th>\n",
       "      <td>91.27</td>\n",
       "    </tr>\n",
       "    <tr>\n",
       "      <th>4338</th>\n",
       "      <td>72.45</td>\n",
       "    </tr>\n",
       "  </tbody>\n",
       "</table>\n",
       "<p>4339 rows × 1 columns</p>\n",
       "</div>"
      ],
      "text/plain": [
       "      RFM_SUM\n",
       "0       65.60\n",
       "1       95.44\n",
       "2       72.75\n",
       "3       62.02\n",
       "4       22.96\n",
       "...       ...\n",
       "4334    14.19\n",
       "4335     9.60\n",
       "4336    34.10\n",
       "4337    91.27\n",
       "4338    72.45\n",
       "\n",
       "[4339 rows x 1 columns]"
      ]
     },
     "execution_count": 79,
     "metadata": {},
     "output_type": "execute_result"
    }
   ],
   "source": [
    "Newdata=RFM1[\"RFM_SUM\"]\n",
    "Newdata.head()\n",
    "pd.DataFrame(Newdata)"
   ]
  },
  {
   "attachments": {
    "kmean-pic.gif": {
     "image/gif": "[encoded data removed]"
    }
   },
   "cell_type": "markdown",
   "id": "4314e606",
   "metadata": {},
   "source": [
    "![kmean-pic.gif](attachment:kmean-pic.gif)"
   ]
  },
  {
   "cell_type": "code",
   "execution_count": 80,
   "id": "c012b16d",
   "metadata": {},
   "outputs": [],
   "source": [
    "from sklearn.cluster import KMeans"
   ]
  },
  {
   "cell_type": "code",
   "execution_count": 81,
   "id": "2e9cdb7c",
   "metadata": {},
   "outputs": [
    {
     "data": {
      "text/plain": [
       "array([3, 0, 3, ..., 1, 0, 3])"
      ]
     },
     "execution_count": 81,
     "metadata": {},
     "output_type": "execute_result"
    }
   ],
   "source": [
    "kmeans1=KMeans(max_iter=100,random_state=10,n_clusters=4)\n",
    "y_means=kmeans1.fit_predict(pd.DataFrame(Newdata))\n",
    "y_means"
   ]
  },
  {
   "cell_type": "code",
   "execution_count": 87,
   "id": "ea03c094",
   "metadata": {},
   "outputs": [
    {
     "data": {
      "text/html": [
       "<div>\n",
       "<style scoped>\n",
       "    .dataframe tbody tr th:only-of-type {\n",
       "        vertical-align: middle;\n",
       "    }\n",
       "\n",
       "    .dataframe tbody tr th {\n",
       "        vertical-align: top;\n",
       "    }\n",
       "\n",
       "    .dataframe thead th {\n",
       "        text-align: right;\n",
       "    }\n",
       "</style>\n",
       "<table border=\"1\" class=\"dataframe\">\n",
       "  <thead>\n",
       "    <tr style=\"text-align: right;\">\n",
       "      <th></th>\n",
       "      <th>CustomerID</th>\n",
       "      <th>Recency</th>\n",
       "      <th>Frequency</th>\n",
       "      <th>Monetary</th>\n",
       "      <th>R_final</th>\n",
       "      <th>F_final</th>\n",
       "      <th>M_final</th>\n",
       "      <th>RFM_SUM</th>\n",
       "      <th>Loyality</th>\n",
       "      <th>CLUSTER</th>\n",
       "    </tr>\n",
       "  </thead>\n",
       "  <tbody>\n",
       "    <tr>\n",
       "      <th>0</th>\n",
       "      <td>12346.0</td>\n",
       "      <td>325</td>\n",
       "      <td>1</td>\n",
       "      <td>77183.60</td>\n",
       "      <td>3.76</td>\n",
       "      <td>17.20</td>\n",
       "      <td>99.79</td>\n",
       "      <td>65.60</td>\n",
       "      <td>Diamond</td>\n",
       "      <td>3</td>\n",
       "    </tr>\n",
       "    <tr>\n",
       "      <th>1</th>\n",
       "      <td>12347.0</td>\n",
       "      <td>2</td>\n",
       "      <td>7</td>\n",
       "      <td>4310.00</td>\n",
       "      <td>96.17</td>\n",
       "      <td>85.49</td>\n",
       "      <td>92.28</td>\n",
       "      <td>95.44</td>\n",
       "      <td>Platinum</td>\n",
       "      <td>0</td>\n",
       "    </tr>\n",
       "    <tr>\n",
       "      <th>2</th>\n",
       "      <td>12348.0</td>\n",
       "      <td>75</td>\n",
       "      <td>4</td>\n",
       "      <td>1797.24</td>\n",
       "      <td>38.08</td>\n",
       "      <td>69.79</td>\n",
       "      <td>76.84</td>\n",
       "      <td>72.75</td>\n",
       "      <td>Diamond</td>\n",
       "      <td>3</td>\n",
       "    </tr>\n",
       "    <tr>\n",
       "      <th>3</th>\n",
       "      <td>12349.0</td>\n",
       "      <td>18</td>\n",
       "      <td>1</td>\n",
       "      <td>1757.55</td>\n",
       "      <td>74.26</td>\n",
       "      <td>17.20</td>\n",
       "      <td>76.19</td>\n",
       "      <td>62.02</td>\n",
       "      <td>Diamond</td>\n",
       "      <td>3</td>\n",
       "    </tr>\n",
       "    <tr>\n",
       "      <th>4</th>\n",
       "      <td>12350.0</td>\n",
       "      <td>310</td>\n",
       "      <td>1</td>\n",
       "      <td>334.40</td>\n",
       "      <td>5.26</td>\n",
       "      <td>17.20</td>\n",
       "      <td>28.35</td>\n",
       "      <td>22.96</td>\n",
       "      <td>Silver</td>\n",
       "      <td>2</td>\n",
       "    </tr>\n",
       "    <tr>\n",
       "      <th>...</th>\n",
       "      <td>...</td>\n",
       "      <td>...</td>\n",
       "      <td>...</td>\n",
       "      <td>...</td>\n",
       "      <td>...</td>\n",
       "      <td>...</td>\n",
       "      <td>...</td>\n",
       "      <td>...</td>\n",
       "      <td>...</td>\n",
       "      <td>...</td>\n",
       "    </tr>\n",
       "    <tr>\n",
       "      <th>4334</th>\n",
       "      <td>18280.0</td>\n",
       "      <td>277</td>\n",
       "      <td>1</td>\n",
       "      <td>180.60</td>\n",
       "      <td>8.21</td>\n",
       "      <td>17.20</td>\n",
       "      <td>13.00</td>\n",
       "      <td>14.19</td>\n",
       "      <td>Silver</td>\n",
       "      <td>2</td>\n",
       "    </tr>\n",
       "    <tr>\n",
       "      <th>4335</th>\n",
       "      <td>18281.0</td>\n",
       "      <td>180</td>\n",
       "      <td>1</td>\n",
       "      <td>80.82</td>\n",
       "      <td>19.90</td>\n",
       "      <td>17.20</td>\n",
       "      <td>2.42</td>\n",
       "      <td>9.60</td>\n",
       "      <td>Silver</td>\n",
       "      <td>2</td>\n",
       "    </tr>\n",
       "    <tr>\n",
       "      <th>4336</th>\n",
       "      <td>18282.0</td>\n",
       "      <td>7</td>\n",
       "      <td>2</td>\n",
       "      <td>178.05</td>\n",
       "      <td>88.84</td>\n",
       "      <td>44.03</td>\n",
       "      <td>12.61</td>\n",
       "      <td>34.10</td>\n",
       "      <td>Gold</td>\n",
       "      <td>1</td>\n",
       "    </tr>\n",
       "    <tr>\n",
       "      <th>4337</th>\n",
       "      <td>18283.0</td>\n",
       "      <td>3</td>\n",
       "      <td>16</td>\n",
       "      <td>2094.88</td>\n",
       "      <td>94.04</td>\n",
       "      <td>96.39</td>\n",
       "      <td>80.41</td>\n",
       "      <td>91.27</td>\n",
       "      <td>Platinum</td>\n",
       "      <td>0</td>\n",
       "    </tr>\n",
       "    <tr>\n",
       "      <th>4338</th>\n",
       "      <td>18287.0</td>\n",
       "      <td>42</td>\n",
       "      <td>3</td>\n",
       "      <td>1837.28</td>\n",
       "      <td>54.53</td>\n",
       "      <td>59.50</td>\n",
       "      <td>77.37</td>\n",
       "      <td>72.45</td>\n",
       "      <td>Diamond</td>\n",
       "      <td>3</td>\n",
       "    </tr>\n",
       "  </tbody>\n",
       "</table>\n",
       "<p>4339 rows × 10 columns</p>\n",
       "</div>"
      ],
      "text/plain": [
       "      CustomerID  Recency  Frequency  Monetary  R_final  F_final  M_final  \\\n",
       "0        12346.0      325          1  77183.60     3.76    17.20    99.79   \n",
       "1        12347.0        2          7   4310.00    96.17    85.49    92.28   \n",
       "2        12348.0       75          4   1797.24    38.08    69.79    76.84   \n",
       "3        12349.0       18          1   1757.55    74.26    17.20    76.19   \n",
       "4        12350.0      310          1    334.40     5.26    17.20    28.35   \n",
       "...          ...      ...        ...       ...      ...      ...      ...   \n",
       "4334     18280.0      277          1    180.60     8.21    17.20    13.00   \n",
       "4335     18281.0      180          1     80.82    19.90    17.20     2.42   \n",
       "4336     18282.0        7          2    178.05    88.84    44.03    12.61   \n",
       "4337     18283.0        3         16   2094.88    94.04    96.39    80.41   \n",
       "4338     18287.0       42          3   1837.28    54.53    59.50    77.37   \n",
       "\n",
       "      RFM_SUM  Loyality  CLUSTER  \n",
       "0       65.60   Diamond        3  \n",
       "1       95.44  Platinum        0  \n",
       "2       72.75   Diamond        3  \n",
       "3       62.02   Diamond        3  \n",
       "4       22.96    Silver        2  \n",
       "...       ...       ...      ...  \n",
       "4334    14.19    Silver        2  \n",
       "4335     9.60    Silver        2  \n",
       "4336    34.10      Gold        1  \n",
       "4337    91.27  Platinum        0  \n",
       "4338    72.45   Diamond        3  \n",
       "\n",
       "[4339 rows x 10 columns]"
      ]
     },
     "execution_count": 87,
     "metadata": {},
     "output_type": "execute_result"
    }
   ],
   "source": [
    "RFM1[\"CLUSTER\"]=kmeans1.labels_\n",
    "RFM1"
   ]
  },
  {
   "cell_type": "code",
   "execution_count": 85,
   "id": "167207b0",
   "metadata": {},
   "outputs": [
    {
     "data": {
      "text/plain": [
       "2    1250\n",
       "1    1107\n",
       "3    1039\n",
       "0     943\n",
       "Name: CLUSTER, dtype: int64"
      ]
     },
     "execution_count": 85,
     "metadata": {},
     "output_type": "execute_result"
    }
   ],
   "source": [
    "RFM1[\"CLUSTER\"].value_counts()"
   ]
  },
  {
   "cell_type": "code",
   "execution_count": 88,
   "id": "43b548be",
   "metadata": {},
   "outputs": [
    {
     "data": {
      "text/plain": [
       "Diamond     1101\n",
       "Gold        1098\n",
       "Platinum    1080\n",
       "Silver      1060\n",
       "Name: Loyality, dtype: int64"
      ]
     },
     "execution_count": 88,
     "metadata": {},
     "output_type": "execute_result"
    }
   ],
   "source": [
    "RFM1[\"Loyality\"].value_counts()"
   ]
  },
  {
   "cell_type": "code",
   "execution_count": null,
   "id": "f1d074dc",
   "metadata": {},
   "outputs": [],
   "source": [
    "# simple approach to find the best no. of cluster\n",
    "#elbow approach"
   ]
  },
  {
   "cell_type": "code",
   "execution_count": 90,
   "id": "1d8e366b",
   "metadata": {},
   "outputs": [
    {
     "data": {
      "text/plain": [
       "Text(0, 0.5, 'sum of square error')"
      ]
     },
     "execution_count": 90,
     "metadata": {},
     "output_type": "execute_result"
    },
    {
     "data": {
      "image/png": "[encoded data removed]",
      "text/plain": [
       "<Figure size 432x288 with 1 Axes>"
      ]
     },
     "metadata": {
      "needs_background": "light"
     },
     "output_type": "display_data"
    }
   ],
   "source": [
    "SSE=[]\n",
    "for i in range(1,10):\n",
    "    kmeans1=KMeans(max_iter=100,random_state=10,n_clusters=i)\n",
    "    kmeans1.fit_predict(pd.DataFrame(Newdata))\n",
    "    SSE.append(kmeans1.inertia_)\n",
    "    \n",
    "plt.plot(range(1,10),SSE,marker=\"o\")\n",
    "plt.xlabel(\"no. of clusters\")\n",
    "plt.ylabel(\"sum of square error\")"
   ]
  },
  {
   "cell_type": "code",
   "execution_count": null,
   "id": "222a198c",
   "metadata": {},
   "outputs": [],
   "source": [
    "#another approach yellowbrick\n",
    "#pip install yellowbrick"
   ]
  },
  {
   "cell_type": "code",
   "execution_count": 91,
   "id": "ab31b975",
   "metadata": {},
   "outputs": [
    {
     "data": {
      "image/png": "[encoded data removed]",
      "text/plain": [
       "<Figure size 576x396 with 2 Axes>"
      ]
     },
     "metadata": {},
     "output_type": "display_data"
    },
    {
     "data": {
      "text/plain": [
       "<AxesSubplot:title={'center':'Distortion Score Elbow for KMeans Clustering'}, xlabel='k', ylabel='distortion score'>"
      ]
     },
     "execution_count": 91,
     "metadata": {},
     "output_type": "execute_result"
    }
   ],
   "source": [
    "from yellowbrick.cluster import KElbowVisualizer\n",
    "model=kmeans1\n",
    "visualizer=KElbowVisualizer(model,k=(1,10)).fit(pd.DataFrame(Newdata))\n",
    "visualizer.show()"
   ]
  },
  {
   "cell_type": "code",
   "execution_count": null,
   "id": "17530ede",
   "metadata": {},
   "outputs": [],
   "source": [
    "# evaluation of clustering"
   ]
  },
  {
   "cell_type": "code",
   "execution_count": 92,
   "id": "607e8520",
   "metadata": {},
   "outputs": [],
   "source": [
    "from sklearn.metrics import silhouette_score"
   ]
  },
  {
   "cell_type": "code",
   "execution_count": 93,
   "id": "90df4f01",
   "metadata": {},
   "outputs": [
    {
     "data": {
      "text/plain": [
       "0.5413364899477818"
      ]
     },
     "execution_count": 93,
     "metadata": {},
     "output_type": "execute_result"
    }
   ],
   "source": [
    "labels=kmeans1.labels_\n",
    "silhouette_score(pd.DataFrame(Newdata),labels)"
   ]
  },
  {
   "cell_type": "markdown",
   "id": "db6ffcc1",
   "metadata": {},
   "source": [
    "# Goal no.2 Analysing the sales trend"
   ]
  },
  {
   "cell_type": "code",
   "execution_count": 94,
   "id": "0a839010",
   "metadata": {},
   "outputs": [
    {
     "data": {
      "text/html": [
       "<div>\n",
       "<style scoped>\n",
       "    .dataframe tbody tr th:only-of-type {\n",
       "        vertical-align: middle;\n",
       "    }\n",
       "\n",
       "    .dataframe tbody tr th {\n",
       "        vertical-align: top;\n",
       "    }\n",
       "\n",
       "    .dataframe thead th {\n",
       "        text-align: right;\n",
       "    }\n",
       "</style>\n",
       "<table border=\"1\" class=\"dataframe\">\n",
       "  <thead>\n",
       "    <tr style=\"text-align: right;\">\n",
       "      <th></th>\n",
       "      <th>InvoiceNo</th>\n",
       "      <th>InvoiceDate</th>\n",
       "      <th>CustomerID</th>\n",
       "      <th>Total</th>\n",
       "    </tr>\n",
       "  </thead>\n",
       "  <tbody>\n",
       "    <tr>\n",
       "      <th>0</th>\n",
       "      <td>536365</td>\n",
       "      <td>2010-12-01 08:26:00</td>\n",
       "      <td>17850.0</td>\n",
       "      <td>139.12</td>\n",
       "    </tr>\n",
       "    <tr>\n",
       "      <th>1</th>\n",
       "      <td>536366</td>\n",
       "      <td>2010-12-01 08:28:00</td>\n",
       "      <td>17850.0</td>\n",
       "      <td>22.20</td>\n",
       "    </tr>\n",
       "    <tr>\n",
       "      <th>2</th>\n",
       "      <td>536367</td>\n",
       "      <td>2010-12-01 08:34:00</td>\n",
       "      <td>13047.0</td>\n",
       "      <td>278.73</td>\n",
       "    </tr>\n",
       "    <tr>\n",
       "      <th>3</th>\n",
       "      <td>536368</td>\n",
       "      <td>2010-12-01 08:34:00</td>\n",
       "      <td>13047.0</td>\n",
       "      <td>70.05</td>\n",
       "    </tr>\n",
       "    <tr>\n",
       "      <th>4</th>\n",
       "      <td>536369</td>\n",
       "      <td>2010-12-01 08:35:00</td>\n",
       "      <td>13047.0</td>\n",
       "      <td>17.85</td>\n",
       "    </tr>\n",
       "  </tbody>\n",
       "</table>\n",
       "</div>"
      ],
      "text/plain": [
       "   InvoiceNo         InvoiceDate  CustomerID   Total\n",
       "0     536365 2010-12-01 08:26:00     17850.0  139.12\n",
       "1     536366 2010-12-01 08:28:00     17850.0   22.20\n",
       "2     536367 2010-12-01 08:34:00     13047.0  278.73\n",
       "3     536368 2010-12-01 08:34:00     13047.0   70.05\n",
       "4     536369 2010-12-01 08:35:00     13047.0   17.85"
      ]
     },
     "execution_count": 94,
     "metadata": {},
     "output_type": "execute_result"
    }
   ],
   "source": [
    "df_final.head()"
   ]
  },
  {
   "cell_type": "code",
   "execution_count": 95,
   "id": "3d9272e2",
   "metadata": {},
   "outputs": [
    {
     "name": "stdout",
     "output_type": "stream",
     "text": [
      "<class 'pandas.core.frame.DataFrame'>\n",
      "RangeIndex: 18566 entries, 0 to 18565\n",
      "Data columns (total 4 columns):\n",
      " #   Column       Non-Null Count  Dtype         \n",
      "---  ------       --------------  -----         \n",
      " 0   InvoiceNo    18566 non-null  int64         \n",
      " 1   InvoiceDate  18566 non-null  datetime64[ns]\n",
      " 2   CustomerID   18566 non-null  float64       \n",
      " 3   Total        18566 non-null  float64       \n",
      "dtypes: datetime64[ns](1), float64(2), int64(1)\n",
      "memory usage: 580.3 KB\n"
     ]
    }
   ],
   "source": [
    "df_final.info()"
   ]
  },
  {
   "cell_type": "code",
   "execution_count": 96,
   "id": "57adf6d0",
   "metadata": {},
   "outputs": [],
   "source": [
    "import datetime as dt"
   ]
  },
  {
   "cell_type": "code",
   "execution_count": null,
   "id": "c85df4ac",
   "metadata": {},
   "outputs": [],
   "source": [
    "# extraction of day, month,hour,day_name, month_name.. etc from invoicedate column"
   ]
  },
  {
   "cell_type": "code",
   "execution_count": 97,
   "id": "8e1c43de",
   "metadata": {},
   "outputs": [],
   "source": [
    "df_final1=df_final.copy()"
   ]
  },
  {
   "cell_type": "code",
   "execution_count": 98,
   "id": "2e9c47c5",
   "metadata": {},
   "outputs": [],
   "source": [
    "df_final1[\"Day\"]=df_final1[\"InvoiceDate\"].dt.day_name()"
   ]
  },
  {
   "cell_type": "code",
   "execution_count": 101,
   "id": "e2cf4436",
   "metadata": {},
   "outputs": [
    {
     "data": {
      "text/html": [
       "<div>\n",
       "<style scoped>\n",
       "    .dataframe tbody tr th:only-of-type {\n",
       "        vertical-align: middle;\n",
       "    }\n",
       "\n",
       "    .dataframe tbody tr th {\n",
       "        vertical-align: top;\n",
       "    }\n",
       "\n",
       "    .dataframe thead th {\n",
       "        text-align: right;\n",
       "    }\n",
       "</style>\n",
       "<table border=\"1\" class=\"dataframe\">\n",
       "  <thead>\n",
       "    <tr style=\"text-align: right;\">\n",
       "      <th></th>\n",
       "      <th>InvoiceNo</th>\n",
       "      <th>InvoiceDate</th>\n",
       "      <th>CustomerID</th>\n",
       "      <th>Total</th>\n",
       "      <th>Day</th>\n",
       "    </tr>\n",
       "  </thead>\n",
       "  <tbody>\n",
       "    <tr>\n",
       "      <th>0</th>\n",
       "      <td>536365</td>\n",
       "      <td>2010-12-01 08:26:00</td>\n",
       "      <td>17850.0</td>\n",
       "      <td>139.12</td>\n",
       "      <td>Wednesday</td>\n",
       "    </tr>\n",
       "    <tr>\n",
       "      <th>1</th>\n",
       "      <td>536366</td>\n",
       "      <td>2010-12-01 08:28:00</td>\n",
       "      <td>17850.0</td>\n",
       "      <td>22.20</td>\n",
       "      <td>Wednesday</td>\n",
       "    </tr>\n",
       "  </tbody>\n",
       "</table>\n",
       "</div>"
      ],
      "text/plain": [
       "   InvoiceNo         InvoiceDate  CustomerID   Total        Day\n",
       "0     536365 2010-12-01 08:26:00     17850.0  139.12  Wednesday\n",
       "1     536366 2010-12-01 08:28:00     17850.0   22.20  Wednesday"
      ]
     },
     "execution_count": 101,
     "metadata": {},
     "output_type": "execute_result"
    }
   ],
   "source": [
    "df_final1.head(2)"
   ]
  },
  {
   "cell_type": "code",
   "execution_count": 102,
   "id": "28fdb25e",
   "metadata": {},
   "outputs": [
    {
     "data": {
      "text/plain": [
       "Thursday     4038\n",
       "Wednesday    3462\n",
       "Tuesday      3189\n",
       "Monday       2865\n",
       "Friday       2835\n",
       "Sunday       2177\n",
       "Name: Day, dtype: int64"
      ]
     },
     "execution_count": 102,
     "metadata": {},
     "output_type": "execute_result"
    }
   ],
   "source": [
    "df_final1[\"Day\"].value_counts()"
   ]
  },
  {
   "cell_type": "code",
   "execution_count": 103,
   "id": "54702b87",
   "metadata": {},
   "outputs": [],
   "source": [
    "df_final1[\"Month\"]=df_final1[\"InvoiceDate\"].dt.month\n",
    "df_final1[\"Hour\"]=df_final1[\"InvoiceDate\"].dt.hour\n",
    "df_final1[\"Month_name\"]=df_final1[\"InvoiceDate\"].dt.month_name()"
   ]
  },
  {
   "cell_type": "code",
   "execution_count": 104,
   "id": "7a553470",
   "metadata": {},
   "outputs": [
    {
     "data": {
      "text/html": [
       "<div>\n",
       "<style scoped>\n",
       "    .dataframe tbody tr th:only-of-type {\n",
       "        vertical-align: middle;\n",
       "    }\n",
       "\n",
       "    .dataframe tbody tr th {\n",
       "        vertical-align: top;\n",
       "    }\n",
       "\n",
       "    .dataframe thead th {\n",
       "        text-align: right;\n",
       "    }\n",
       "</style>\n",
       "<table border=\"1\" class=\"dataframe\">\n",
       "  <thead>\n",
       "    <tr style=\"text-align: right;\">\n",
       "      <th></th>\n",
       "      <th>InvoiceNo</th>\n",
       "      <th>InvoiceDate</th>\n",
       "      <th>CustomerID</th>\n",
       "      <th>Total</th>\n",
       "      <th>Day</th>\n",
       "      <th>Month</th>\n",
       "      <th>Hour</th>\n",
       "      <th>Month_name</th>\n",
       "    </tr>\n",
       "  </thead>\n",
       "  <tbody>\n",
       "    <tr>\n",
       "      <th>0</th>\n",
       "      <td>536365</td>\n",
       "      <td>2010-12-01 08:26:00</td>\n",
       "      <td>17850.0</td>\n",
       "      <td>139.12</td>\n",
       "      <td>Wednesday</td>\n",
       "      <td>12</td>\n",
       "      <td>8</td>\n",
       "      <td>December</td>\n",
       "    </tr>\n",
       "    <tr>\n",
       "      <th>1</th>\n",
       "      <td>536366</td>\n",
       "      <td>2010-12-01 08:28:00</td>\n",
       "      <td>17850.0</td>\n",
       "      <td>22.20</td>\n",
       "      <td>Wednesday</td>\n",
       "      <td>12</td>\n",
       "      <td>8</td>\n",
       "      <td>December</td>\n",
       "    </tr>\n",
       "    <tr>\n",
       "      <th>2</th>\n",
       "      <td>536367</td>\n",
       "      <td>2010-12-01 08:34:00</td>\n",
       "      <td>13047.0</td>\n",
       "      <td>278.73</td>\n",
       "      <td>Wednesday</td>\n",
       "      <td>12</td>\n",
       "      <td>8</td>\n",
       "      <td>December</td>\n",
       "    </tr>\n",
       "    <tr>\n",
       "      <th>3</th>\n",
       "      <td>536368</td>\n",
       "      <td>2010-12-01 08:34:00</td>\n",
       "      <td>13047.0</td>\n",
       "      <td>70.05</td>\n",
       "      <td>Wednesday</td>\n",
       "      <td>12</td>\n",
       "      <td>8</td>\n",
       "      <td>December</td>\n",
       "    </tr>\n",
       "    <tr>\n",
       "      <th>4</th>\n",
       "      <td>536369</td>\n",
       "      <td>2010-12-01 08:35:00</td>\n",
       "      <td>13047.0</td>\n",
       "      <td>17.85</td>\n",
       "      <td>Wednesday</td>\n",
       "      <td>12</td>\n",
       "      <td>8</td>\n",
       "      <td>December</td>\n",
       "    </tr>\n",
       "  </tbody>\n",
       "</table>\n",
       "</div>"
      ],
      "text/plain": [
       "   InvoiceNo         InvoiceDate  CustomerID   Total        Day  Month  Hour  \\\n",
       "0     536365 2010-12-01 08:26:00     17850.0  139.12  Wednesday     12     8   \n",
       "1     536366 2010-12-01 08:28:00     17850.0   22.20  Wednesday     12     8   \n",
       "2     536367 2010-12-01 08:34:00     13047.0  278.73  Wednesday     12     8   \n",
       "3     536368 2010-12-01 08:34:00     13047.0   70.05  Wednesday     12     8   \n",
       "4     536369 2010-12-01 08:35:00     13047.0   17.85  Wednesday     12     8   \n",
       "\n",
       "  Month_name  \n",
       "0   December  \n",
       "1   December  \n",
       "2   December  \n",
       "3   December  \n",
       "4   December  "
      ]
     },
     "execution_count": 104,
     "metadata": {},
     "output_type": "execute_result"
    }
   ],
   "source": [
    "df_final1.head()"
   ]
  },
  {
   "cell_type": "code",
   "execution_count": 116,
   "id": "0ea9c1b0",
   "metadata": {},
   "outputs": [],
   "source": [
    "df_final1[\"Week_info\"]=np.where((df_final1.Day==\"Saturday\")|(df_final1.Day==\"Sunday\"),\"Weekend\",\"Weekday\")"
   ]
  },
  {
   "cell_type": "code",
   "execution_count": 118,
   "id": "2c4f5dde",
   "metadata": {},
   "outputs": [
    {
     "data": {
      "text/html": [
       "<div>\n",
       "<style scoped>\n",
       "    .dataframe tbody tr th:only-of-type {\n",
       "        vertical-align: middle;\n",
       "    }\n",
       "\n",
       "    .dataframe tbody tr th {\n",
       "        vertical-align: top;\n",
       "    }\n",
       "\n",
       "    .dataframe thead th {\n",
       "        text-align: right;\n",
       "    }\n",
       "</style>\n",
       "<table border=\"1\" class=\"dataframe\">\n",
       "  <thead>\n",
       "    <tr style=\"text-align: right;\">\n",
       "      <th></th>\n",
       "      <th>InvoiceNo</th>\n",
       "      <th>InvoiceDate</th>\n",
       "      <th>CustomerID</th>\n",
       "      <th>Total</th>\n",
       "      <th>Day</th>\n",
       "      <th>Month</th>\n",
       "      <th>Hour</th>\n",
       "      <th>Month_name</th>\n",
       "      <th>Week_info</th>\n",
       "      <th>season</th>\n",
       "      <th>Time</th>\n",
       "    </tr>\n",
       "  </thead>\n",
       "  <tbody>\n",
       "    <tr>\n",
       "      <th>0</th>\n",
       "      <td>536365</td>\n",
       "      <td>2010-12-01 08:26:00</td>\n",
       "      <td>17850.0</td>\n",
       "      <td>139.12</td>\n",
       "      <td>Wednesday</td>\n",
       "      <td>12</td>\n",
       "      <td>8</td>\n",
       "      <td>December</td>\n",
       "      <td>Weekday</td>\n",
       "      <td>Winter</td>\n",
       "      <td>evening</td>\n",
       "    </tr>\n",
       "    <tr>\n",
       "      <th>1</th>\n",
       "      <td>536366</td>\n",
       "      <td>2010-12-01 08:28:00</td>\n",
       "      <td>17850.0</td>\n",
       "      <td>22.20</td>\n",
       "      <td>Wednesday</td>\n",
       "      <td>12</td>\n",
       "      <td>8</td>\n",
       "      <td>December</td>\n",
       "      <td>Weekday</td>\n",
       "      <td>Winter</td>\n",
       "      <td>evening</td>\n",
       "    </tr>\n",
       "    <tr>\n",
       "      <th>2</th>\n",
       "      <td>536367</td>\n",
       "      <td>2010-12-01 08:34:00</td>\n",
       "      <td>13047.0</td>\n",
       "      <td>278.73</td>\n",
       "      <td>Wednesday</td>\n",
       "      <td>12</td>\n",
       "      <td>8</td>\n",
       "      <td>December</td>\n",
       "      <td>Weekday</td>\n",
       "      <td>Winter</td>\n",
       "      <td>evening</td>\n",
       "    </tr>\n",
       "    <tr>\n",
       "      <th>3</th>\n",
       "      <td>536368</td>\n",
       "      <td>2010-12-01 08:34:00</td>\n",
       "      <td>13047.0</td>\n",
       "      <td>70.05</td>\n",
       "      <td>Wednesday</td>\n",
       "      <td>12</td>\n",
       "      <td>8</td>\n",
       "      <td>December</td>\n",
       "      <td>Weekday</td>\n",
       "      <td>Winter</td>\n",
       "      <td>evening</td>\n",
       "    </tr>\n",
       "    <tr>\n",
       "      <th>4</th>\n",
       "      <td>536369</td>\n",
       "      <td>2010-12-01 08:35:00</td>\n",
       "      <td>13047.0</td>\n",
       "      <td>17.85</td>\n",
       "      <td>Wednesday</td>\n",
       "      <td>12</td>\n",
       "      <td>8</td>\n",
       "      <td>December</td>\n",
       "      <td>Weekday</td>\n",
       "      <td>Winter</td>\n",
       "      <td>evening</td>\n",
       "    </tr>\n",
       "  </tbody>\n",
       "</table>\n",
       "</div>"
      ],
      "text/plain": [
       "   InvoiceNo         InvoiceDate  CustomerID   Total        Day  Month  Hour  \\\n",
       "0     536365 2010-12-01 08:26:00     17850.0  139.12  Wednesday     12     8   \n",
       "1     536366 2010-12-01 08:28:00     17850.0   22.20  Wednesday     12     8   \n",
       "2     536367 2010-12-01 08:34:00     13047.0  278.73  Wednesday     12     8   \n",
       "3     536368 2010-12-01 08:34:00     13047.0   70.05  Wednesday     12     8   \n",
       "4     536369 2010-12-01 08:35:00     13047.0   17.85  Wednesday     12     8   \n",
       "\n",
       "  Month_name Week_info  season     Time  \n",
       "0   December   Weekday  Winter  evening  \n",
       "1   December   Weekday  Winter  evening  \n",
       "2   December   Weekday  Winter  evening  \n",
       "3   December   Weekday  Winter  evening  \n",
       "4   December   Weekday  Winter  evening  "
      ]
     },
     "execution_count": 118,
     "metadata": {},
     "output_type": "execute_result"
    }
   ],
   "source": [
    "df_final1.head()"
   ]
  },
  {
   "cell_type": "code",
   "execution_count": null,
   "id": "109d8d96",
   "metadata": {},
   "outputs": [],
   "source": [
    "# function to create season and timing "
   ]
  },
  {
   "cell_type": "code",
   "execution_count": 107,
   "id": "6fac5667",
   "metadata": {},
   "outputs": [],
   "source": [
    "def cal_season(X):\n",
    "    if X in[10,11,12,1]:\n",
    "        return \"Winter\"\n",
    "    if X in [2,3]:\n",
    "        return \"spring\"\n",
    "    if X in[4,5,6]:\n",
    "        return \"summer\"\n",
    "    else:\n",
    "        return \"Monsoon\""
   ]
  },
  {
   "cell_type": "code",
   "execution_count": 123,
   "id": "71589f86",
   "metadata": {},
   "outputs": [],
   "source": [
    "def cal_timing(X):\n",
    "    if X in[4,5,6]:\n",
    "        return \"early morning\"\n",
    "    if X in [7,8,9,10,11]:\n",
    "        return \"Morning\"\n",
    "    if X in[12,13,14,15,16]:\n",
    "        return \"afternoon\"\n",
    "    else:\n",
    "        return \"evening\""
   ]
  },
  {
   "cell_type": "code",
   "execution_count": 109,
   "id": "b87194ff",
   "metadata": {},
   "outputs": [],
   "source": [
    "df_final1[\"season\"]=df_final1[\"Month\"].apply(cal_season)"
   ]
  },
  {
   "cell_type": "code",
   "execution_count": 110,
   "id": "a8452f14",
   "metadata": {},
   "outputs": [],
   "source": [
    "df_final1[\"Time\"]=df_final1[\"Hour\"].apply(cal_timing)"
   ]
  },
  {
   "cell_type": "code",
   "execution_count": 111,
   "id": "3eb39881",
   "metadata": {},
   "outputs": [
    {
     "data": {
      "text/html": [
       "<div>\n",
       "<style scoped>\n",
       "    .dataframe tbody tr th:only-of-type {\n",
       "        vertical-align: middle;\n",
       "    }\n",
       "\n",
       "    .dataframe tbody tr th {\n",
       "        vertical-align: top;\n",
       "    }\n",
       "\n",
       "    .dataframe thead th {\n",
       "        text-align: right;\n",
       "    }\n",
       "</style>\n",
       "<table border=\"1\" class=\"dataframe\">\n",
       "  <thead>\n",
       "    <tr style=\"text-align: right;\">\n",
       "      <th></th>\n",
       "      <th>InvoiceNo</th>\n",
       "      <th>InvoiceDate</th>\n",
       "      <th>CustomerID</th>\n",
       "      <th>Total</th>\n",
       "      <th>Day</th>\n",
       "      <th>Month</th>\n",
       "      <th>Hour</th>\n",
       "      <th>Month_name</th>\n",
       "      <th>Week_info</th>\n",
       "      <th>season</th>\n",
       "      <th>Time</th>\n",
       "    </tr>\n",
       "  </thead>\n",
       "  <tbody>\n",
       "    <tr>\n",
       "      <th>0</th>\n",
       "      <td>536365</td>\n",
       "      <td>2010-12-01 08:26:00</td>\n",
       "      <td>17850.0</td>\n",
       "      <td>139.12</td>\n",
       "      <td>Wednesday</td>\n",
       "      <td>12</td>\n",
       "      <td>8</td>\n",
       "      <td>December</td>\n",
       "      <td>Weekday</td>\n",
       "      <td>Winter</td>\n",
       "      <td>evening</td>\n",
       "    </tr>\n",
       "    <tr>\n",
       "      <th>1</th>\n",
       "      <td>536366</td>\n",
       "      <td>2010-12-01 08:28:00</td>\n",
       "      <td>17850.0</td>\n",
       "      <td>22.20</td>\n",
       "      <td>Wednesday</td>\n",
       "      <td>12</td>\n",
       "      <td>8</td>\n",
       "      <td>December</td>\n",
       "      <td>Weekday</td>\n",
       "      <td>Winter</td>\n",
       "      <td>evening</td>\n",
       "    </tr>\n",
       "    <tr>\n",
       "      <th>2</th>\n",
       "      <td>536367</td>\n",
       "      <td>2010-12-01 08:34:00</td>\n",
       "      <td>13047.0</td>\n",
       "      <td>278.73</td>\n",
       "      <td>Wednesday</td>\n",
       "      <td>12</td>\n",
       "      <td>8</td>\n",
       "      <td>December</td>\n",
       "      <td>Weekday</td>\n",
       "      <td>Winter</td>\n",
       "      <td>evening</td>\n",
       "    </tr>\n",
       "    <tr>\n",
       "      <th>3</th>\n",
       "      <td>536368</td>\n",
       "      <td>2010-12-01 08:34:00</td>\n",
       "      <td>13047.0</td>\n",
       "      <td>70.05</td>\n",
       "      <td>Wednesday</td>\n",
       "      <td>12</td>\n",
       "      <td>8</td>\n",
       "      <td>December</td>\n",
       "      <td>Weekday</td>\n",
       "      <td>Winter</td>\n",
       "      <td>evening</td>\n",
       "    </tr>\n",
       "    <tr>\n",
       "      <th>4</th>\n",
       "      <td>536369</td>\n",
       "      <td>2010-12-01 08:35:00</td>\n",
       "      <td>13047.0</td>\n",
       "      <td>17.85</td>\n",
       "      <td>Wednesday</td>\n",
       "      <td>12</td>\n",
       "      <td>8</td>\n",
       "      <td>December</td>\n",
       "      <td>Weekday</td>\n",
       "      <td>Winter</td>\n",
       "      <td>evening</td>\n",
       "    </tr>\n",
       "  </tbody>\n",
       "</table>\n",
       "</div>"
      ],
      "text/plain": [
       "   InvoiceNo         InvoiceDate  CustomerID   Total        Day  Month  Hour  \\\n",
       "0     536365 2010-12-01 08:26:00     17850.0  139.12  Wednesday     12     8   \n",
       "1     536366 2010-12-01 08:28:00     17850.0   22.20  Wednesday     12     8   \n",
       "2     536367 2010-12-01 08:34:00     13047.0  278.73  Wednesday     12     8   \n",
       "3     536368 2010-12-01 08:34:00     13047.0   70.05  Wednesday     12     8   \n",
       "4     536369 2010-12-01 08:35:00     13047.0   17.85  Wednesday     12     8   \n",
       "\n",
       "  Month_name Week_info  season     Time  \n",
       "0   December   Weekday  Winter  evening  \n",
       "1   December   Weekday  Winter  evening  \n",
       "2   December   Weekday  Winter  evening  \n",
       "3   December   Weekday  Winter  evening  \n",
       "4   December   Weekday  Winter  evening  "
      ]
     },
     "execution_count": 111,
     "metadata": {},
     "output_type": "execute_result"
    }
   ],
   "source": [
    "df_final1.head()"
   ]
  },
  {
   "cell_type": "code",
   "execution_count": 112,
   "id": "1221b822",
   "metadata": {},
   "outputs": [
    {
     "data": {
      "text/plain": [
       "evening      15182\n",
       "Morning       2279\n",
       "afternoon     1105\n",
       "Name: Time, dtype: int64"
      ]
     },
     "execution_count": 112,
     "metadata": {},
     "output_type": "execute_result"
    }
   ],
   "source": [
    "df_final1[\"Time\"].value_counts()"
   ]
  },
  {
   "cell_type": "code",
   "execution_count": 122,
   "id": "02cdb8cc",
   "metadata": {},
   "outputs": [
    {
     "data": {
      "text/plain": [
       "0     evening\n",
       "1     evening\n",
       "2     evening\n",
       "3     evening\n",
       "4     evening\n",
       "       ...   \n",
       "95    evening\n",
       "96    evening\n",
       "97    evening\n",
       "98    evening\n",
       "99    evening\n",
       "Name: Time, Length: 100, dtype: object"
      ]
     },
     "execution_count": 122,
     "metadata": {},
     "output_type": "execute_result"
    }
   ],
   "source": [
    "df_final1[\"Time\"].head(100)"
   ]
  },
  {
   "cell_type": "code",
   "execution_count": 113,
   "id": "2a358f09",
   "metadata": {},
   "outputs": [
    {
     "data": {
      "text/plain": [
       "Winter     7762\n",
       "Monsoon    4371\n",
       "summer     4106\n",
       "spring     2327\n",
       "Name: season, dtype: int64"
      ]
     },
     "execution_count": 113,
     "metadata": {},
     "output_type": "execute_result"
    }
   ],
   "source": [
    "df_final1[\"season\"].value_counts()"
   ]
  },
  {
   "cell_type": "code",
   "execution_count": 114,
   "id": "ca02f871",
   "metadata": {},
   "outputs": [
    {
     "data": {
      "text/plain": [
       "November     2660\n",
       "December     2179\n",
       "October      1930\n",
       "September    1757\n",
       "May          1559\n",
       "June         1394\n",
       "July         1331\n",
       "March        1324\n",
       "August       1283\n",
       "April        1153\n",
       "February     1003\n",
       "January       993\n",
       "Name: Month_name, dtype: int64"
      ]
     },
     "execution_count": 114,
     "metadata": {},
     "output_type": "execute_result"
    }
   ],
   "source": [
    "df_final1[\"Month_name\"].value_counts()"
   ]
  },
  {
   "cell_type": "code",
   "execution_count": 119,
   "id": "2618f1f7",
   "metadata": {},
   "outputs": [
    {
     "data": {
      "text/plain": [
       "Weekday    16389\n",
       "Weekend     2177\n",
       "Name: Week_info, dtype: int64"
      ]
     },
     "execution_count": 119,
     "metadata": {},
     "output_type": "execute_result"
    }
   ],
   "source": [
    "df_final1[\"Week_info\"].value_counts()"
   ]
  },
  {
   "cell_type": "code",
   "execution_count": 121,
   "id": "c25c375b",
   "metadata": {},
   "outputs": [
    {
     "data": {
      "text/plain": [
       "<matplotlib.lines.Line2D at 0x230227a5430>"
      ]
     },
     "execution_count": 121,
     "metadata": {},
     "output_type": "execute_result"
    },
    {
     "data": {
      "image/png": "[encoded data removed]",
      "text/plain": [
       "<Figure size 720x432 with 1 Axes>"
      ]
     },
     "metadata": {},
     "output_type": "display_data"
    }
   ],
   "source": [
    "# plot number of customer by day graph\n",
    "day=df_final1[\"Day\"].value_counts()\n",
    "plt.figure(figsize=(10,6))\n",
    "sns.barplot(day.index,day.values)\n",
    "# plot a average line\n",
    "plt.axhline(y=day.mean())"
   ]
  },
  {
   "cell_type": "code",
   "execution_count": null,
   "id": "ca49c8d3",
   "metadata": {},
   "outputs": [],
   "source": [
    "# please do plot graphs and clusters as per timing, day,season,weektype\n",
    "#draw different trend graph"
   ]
  },
  {
   "cell_type": "markdown",
   "id": "74f11594",
   "metadata": {},
   "source": [
    "# Recommendation Engine"
   ]
  },
  {
   "cell_type": "code",
   "execution_count": 124,
   "id": "c6f9c4ea",
   "metadata": {},
   "outputs": [],
   "source": [
    "df100=original_data.copy()"
   ]
  },
  {
   "cell_type": "code",
   "execution_count": 125,
   "id": "6493dff8",
   "metadata": {},
   "outputs": [
    {
     "data": {
      "text/html": [
       "<div>\n",
       "<style scoped>\n",
       "    .dataframe tbody tr th:only-of-type {\n",
       "        vertical-align: middle;\n",
       "    }\n",
       "\n",
       "    .dataframe tbody tr th {\n",
       "        vertical-align: top;\n",
       "    }\n",
       "\n",
       "    .dataframe thead th {\n",
       "        text-align: right;\n",
       "    }\n",
       "</style>\n",
       "<table border=\"1\" class=\"dataframe\">\n",
       "  <thead>\n",
       "    <tr style=\"text-align: right;\">\n",
       "      <th></th>\n",
       "      <th>InvoiceNo</th>\n",
       "      <th>StockCode</th>\n",
       "      <th>lower</th>\n",
       "      <th>Description</th>\n",
       "      <th>Quantity</th>\n",
       "      <th>InvoiceDate</th>\n",
       "      <th>UnitPrice</th>\n",
       "      <th>CustomerID</th>\n",
       "      <th>Country</th>\n",
       "    </tr>\n",
       "  </thead>\n",
       "  <tbody>\n",
       "    <tr>\n",
       "      <th>0</th>\n",
       "      <td>536365</td>\n",
       "      <td>85123A</td>\n",
       "      <td>white hanging heart t-light holder</td>\n",
       "      <td>WHITE HANGING HEART T-LIGHT HOLDER</td>\n",
       "      <td>6</td>\n",
       "      <td>2010-12-01 08:26:00</td>\n",
       "      <td>2.55</td>\n",
       "      <td>17850.0</td>\n",
       "      <td>United Kingdom</td>\n",
       "    </tr>\n",
       "    <tr>\n",
       "      <th>1</th>\n",
       "      <td>536365</td>\n",
       "      <td>71053</td>\n",
       "      <td>white metal lantern</td>\n",
       "      <td>WHITE METAL LANTERN</td>\n",
       "      <td>6</td>\n",
       "      <td>2010-12-01 08:26:00</td>\n",
       "      <td>3.39</td>\n",
       "      <td>17850.0</td>\n",
       "      <td>United Kingdom</td>\n",
       "    </tr>\n",
       "    <tr>\n",
       "      <th>2</th>\n",
       "      <td>536365</td>\n",
       "      <td>84406B</td>\n",
       "      <td>cream cupid hearts coat hanger</td>\n",
       "      <td>CREAM CUPID HEARTS COAT HANGER</td>\n",
       "      <td>8</td>\n",
       "      <td>2010-12-01 08:26:00</td>\n",
       "      <td>2.75</td>\n",
       "      <td>17850.0</td>\n",
       "      <td>United Kingdom</td>\n",
       "    </tr>\n",
       "    <tr>\n",
       "      <th>3</th>\n",
       "      <td>536365</td>\n",
       "      <td>84029G</td>\n",
       "      <td>knitted union flag hot water bottle</td>\n",
       "      <td>KNITTED UNION FLAG HOT WATER BOTTLE</td>\n",
       "      <td>6</td>\n",
       "      <td>2010-12-01 08:26:00</td>\n",
       "      <td>3.39</td>\n",
       "      <td>17850.0</td>\n",
       "      <td>United Kingdom</td>\n",
       "    </tr>\n",
       "    <tr>\n",
       "      <th>4</th>\n",
       "      <td>536365</td>\n",
       "      <td>84029E</td>\n",
       "      <td>red woolly hottie white heart.</td>\n",
       "      <td>RED WOOLLY HOTTIE WHITE HEART.</td>\n",
       "      <td>6</td>\n",
       "      <td>2010-12-01 08:26:00</td>\n",
       "      <td>3.39</td>\n",
       "      <td>17850.0</td>\n",
       "      <td>United Kingdom</td>\n",
       "    </tr>\n",
       "  </tbody>\n",
       "</table>\n",
       "</div>"
      ],
      "text/plain": [
       "  InvoiceNo StockCode                                lower  \\\n",
       "0    536365    85123A   white hanging heart t-light holder   \n",
       "1    536365     71053                  white metal lantern   \n",
       "2    536365    84406B       cream cupid hearts coat hanger   \n",
       "3    536365    84029G  knitted union flag hot water bottle   \n",
       "4    536365    84029E       red woolly hottie white heart.   \n",
       "\n",
       "                           Description  Quantity         InvoiceDate  \\\n",
       "0   WHITE HANGING HEART T-LIGHT HOLDER         6 2010-12-01 08:26:00   \n",
       "1                  WHITE METAL LANTERN         6 2010-12-01 08:26:00   \n",
       "2       CREAM CUPID HEARTS COAT HANGER         8 2010-12-01 08:26:00   \n",
       "3  KNITTED UNION FLAG HOT WATER BOTTLE         6 2010-12-01 08:26:00   \n",
       "4       RED WOOLLY HOTTIE WHITE HEART.         6 2010-12-01 08:26:00   \n",
       "\n",
       "   UnitPrice  CustomerID         Country  \n",
       "0       2.55     17850.0  United Kingdom  \n",
       "1       3.39     17850.0  United Kingdom  \n",
       "2       2.75     17850.0  United Kingdom  \n",
       "3       3.39     17850.0  United Kingdom  \n",
       "4       3.39     17850.0  United Kingdom  "
      ]
     },
     "execution_count": 125,
     "metadata": {},
     "output_type": "execute_result"
    }
   ],
   "source": [
    "df100.head()"
   ]
  },
  {
   "cell_type": "code",
   "execution_count": 126,
   "id": "128821a4",
   "metadata": {},
   "outputs": [
    {
     "data": {
      "text/plain": [
       "InvoiceNo           0\n",
       "StockCode           0\n",
       "lower          540093\n",
       "Description      1454\n",
       "Quantity            0\n",
       "InvoiceDate         0\n",
       "UnitPrice           0\n",
       "CustomerID     135080\n",
       "Country             0\n",
       "dtype: int64"
      ]
     },
     "execution_count": 126,
     "metadata": {},
     "output_type": "execute_result"
    }
   ],
   "source": [
    "df100.isnull().sum()"
   ]
  },
  {
   "cell_type": "code",
   "execution_count": 127,
   "id": "9de28f2c",
   "metadata": {},
   "outputs": [],
   "source": [
    "df100=df100.drop([\"lower\"],axis=1)"
   ]
  },
  {
   "cell_type": "code",
   "execution_count": null,
   "id": "bbcf41ee",
   "metadata": {},
   "outputs": [],
   "source": []
  },
  {
   "cell_type": "code",
   "execution_count": null,
   "id": "e67f0527",
   "metadata": {},
   "outputs": [],
   "source": []
  },
  {
   "cell_type": "code",
   "execution_count": null,
   "id": "e1314927",
   "metadata": {},
   "outputs": [],
   "source": []
  }
 ],
 "metadata": {
  "kernelspec": {
   "display_name": "Python 3 (ipykernel)",
   "language": "python",
   "name": "python3"
  },
  "language_info": {
   "codemirror_mode": {
    "name": "ipython",
    "version": 3
   },
   "file_extension": ".py",
   "mimetype": "text/x-python",
   "name": "python",
   "nbconvert_exporter": "python",
   "pygments_lexer": "ipython3",
   "version": "3.9.7"
  }
 },
 "nbformat": 4,
 "nbformat_minor": 5
}
